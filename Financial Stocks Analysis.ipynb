{
 "cells": [
  {
   "cell_type": "markdown",
   "metadata": {},
   "source": [
    "# Financial Stocks Analysis: 6 Bank Stocks from 2000-2022\n",
    "\n",
    "This will be a quick anlysis and overview of 6 bank stocks and their performance from the beginning from the beginning of the millenium, through the financial crisis and onto February 2022. \n",
    "\n",
    "For this analysis we will get stock information for the following banks:\n",
    "*  Bank of America\n",
    "* CitiGroup\n",
    "* Goldman Sachs\n",
    "* JPMorgan Chase\n",
    "* Morgan Stanley\n",
    "* Wells Fargo\n",
    "\n",
    "We will look at these stocks' perfomance of from the beginning of millenium, through the financial crisis and seeing how they've performed up to today (February 2022)."
   ]
  },
  {
   "cell_type": "code",
   "execution_count": 14,
   "metadata": {},
   "outputs": [
    {
     "data": {
      "text/html": [
       "        <script type=\"text/javascript\">\n",
       "        window.PlotlyConfig = {MathJaxConfig: 'local'};\n",
       "        if (window.MathJax) {MathJax.Hub.Config({SVG: {font: \"STIX-Web\"}});}\n",
       "        if (typeof require !== 'undefined') {\n",
       "        require.undef(\"plotly\");\n",
       "        requirejs.config({\n",
       "            paths: {\n",
       "                'plotly': ['https://cdn.plot.ly/plotly-2.8.3.min']\n",
       "            }\n",
       "        });\n",
       "        require(['plotly'], function(Plotly) {\n",
       "            window._Plotly = Plotly;\n",
       "        });\n",
       "        }\n",
       "        </script>\n",
       "        "
      ]
     },
     "metadata": {},
     "output_type": "display_data"
    },
    {
     "data": {
      "text/html": [
       "        <script type=\"text/javascript\">\n",
       "        window.PlotlyConfig = {MathJaxConfig: 'local'};\n",
       "        if (window.MathJax) {MathJax.Hub.Config({SVG: {font: \"STIX-Web\"}});}\n",
       "        if (typeof require !== 'undefined') {\n",
       "        require.undef(\"plotly\");\n",
       "        requirejs.config({\n",
       "            paths: {\n",
       "                'plotly': ['https://cdn.plot.ly/plotly-2.8.3.min']\n",
       "            }\n",
       "        });\n",
       "        require(['plotly'], function(Plotly) {\n",
       "            window._Plotly = Plotly;\n",
       "        });\n",
       "        }\n",
       "        </script>\n",
       "        "
      ]
     },
     "metadata": {},
     "output_type": "display_data"
    }
   ],
   "source": [
    "import pandas_datareader.data as web\n",
    "import pandas as pd\n",
    "import numpy as np\n",
    "import datetime as dt\n",
    "import matplotlib.pyplot as plt\n",
    "import seaborn as sns\n",
    "%matplotlib inline\n",
    "\n",
    "# Plotly for last few charts\n",
    "from plotly import __version__\n",
    "import cufflinks as cf\n",
    "from plotly.offline import download_plotlyjs, init_notebook_mode, plot, iplot\n",
    "init_notebook_mode(connected=True)\n",
    "cf.go_offline()\n"
   ]
  },
  {
   "cell_type": "markdown",
   "metadata": {},
   "source": [
    "#### Getting the Data\n",
    "We will get the historical stock data using the stooq API\n"
   ]
  },
  {
   "cell_type": "code",
   "execution_count": 15,
   "metadata": {},
   "outputs": [],
   "source": [
    "# Let's Set the Start and End Date from Jan. 1, 2000 to the current day.\n",
    "start = dt.datetime(2000, 1, 1)\n",
    "end_today = pd.to_datetime(\"today\")\n",
    "\n",
    "# Bank of America\n",
    "BAC = web.DataReader('BAC', 'stooq', start, end_today)\n",
    "\n",
    "# CitiGroup\n",
    "C = web.DataReader('C', 'stooq', start, end_today)\n",
    "\n",
    "# Goldman Sachs\n",
    "GS= web.DataReader('GS', 'stooq', start, end_today)\n",
    "\n",
    "# JPMorgan Chase\n",
    "JPM = web.DataReader('JPM', 'stooq', start, end_today)\n",
    "\n",
    "# Morgan Stanley\n",
    "MS= web.DataReader('MS', 'stooq', start, end_today)\n",
    "\n",
    "# Wells Fargo\n",
    "WFC = web.DataReader('WFC', 'stooq', start, end_today)"
   ]
  },
  {
   "cell_type": "markdown",
   "metadata": {},
   "source": [
    "### Combine the Data into One Dataframe"
   ]
  },
  {
   "cell_type": "code",
   "execution_count": 16,
   "metadata": {},
   "outputs": [
    {
     "data": {
      "text/html": [
       "<div>\n",
       "<style scoped>\n",
       "    .dataframe tbody tr th:only-of-type {\n",
       "        vertical-align: middle;\n",
       "    }\n",
       "\n",
       "    .dataframe tbody tr th {\n",
       "        vertical-align: top;\n",
       "    }\n",
       "\n",
       "    .dataframe thead tr th {\n",
       "        text-align: left;\n",
       "    }\n",
       "\n",
       "    .dataframe thead tr:last-of-type th {\n",
       "        text-align: right;\n",
       "    }\n",
       "</style>\n",
       "<table border=\"1\" class=\"dataframe\">\n",
       "  <thead>\n",
       "    <tr>\n",
       "      <th>Bank Ticker</th>\n",
       "      <th colspan=\"5\" halign=\"left\">BAC</th>\n",
       "      <th colspan=\"5\" halign=\"left\">C</th>\n",
       "      <th>...</th>\n",
       "      <th colspan=\"5\" halign=\"left\">MS</th>\n",
       "      <th colspan=\"5\" halign=\"left\">WFC</th>\n",
       "    </tr>\n",
       "    <tr>\n",
       "      <th>Stock Info</th>\n",
       "      <th>Open</th>\n",
       "      <th>High</th>\n",
       "      <th>Low</th>\n",
       "      <th>Close</th>\n",
       "      <th>Volume</th>\n",
       "      <th>Open</th>\n",
       "      <th>High</th>\n",
       "      <th>Low</th>\n",
       "      <th>Close</th>\n",
       "      <th>Volume</th>\n",
       "      <th>...</th>\n",
       "      <th>Open</th>\n",
       "      <th>High</th>\n",
       "      <th>Low</th>\n",
       "      <th>Close</th>\n",
       "      <th>Volume</th>\n",
       "      <th>Open</th>\n",
       "      <th>High</th>\n",
       "      <th>Low</th>\n",
       "      <th>Close</th>\n",
       "      <th>Volume</th>\n",
       "    </tr>\n",
       "    <tr>\n",
       "      <th>Date</th>\n",
       "      <th></th>\n",
       "      <th></th>\n",
       "      <th></th>\n",
       "      <th></th>\n",
       "      <th></th>\n",
       "      <th></th>\n",
       "      <th></th>\n",
       "      <th></th>\n",
       "      <th></th>\n",
       "      <th></th>\n",
       "      <th></th>\n",
       "      <th></th>\n",
       "      <th></th>\n",
       "      <th></th>\n",
       "      <th></th>\n",
       "      <th></th>\n",
       "      <th></th>\n",
       "      <th></th>\n",
       "      <th></th>\n",
       "      <th></th>\n",
       "      <th></th>\n",
       "    </tr>\n",
       "  </thead>\n",
       "  <tbody>\n",
       "    <tr>\n",
       "      <th>2000-01-03</th>\n",
       "      <td>19.124</td>\n",
       "      <td>19.124</td>\n",
       "      <td>18.265</td>\n",
       "      <td>18.432</td>\n",
       "      <td>15838719.0</td>\n",
       "      <td>354.55</td>\n",
       "      <td>354.55</td>\n",
       "      <td>331.40</td>\n",
       "      <td>337.85</td>\n",
       "      <td>1953904.0</td>\n",
       "      <td>...</td>\n",
       "      <td>NaN</td>\n",
       "      <td>NaN</td>\n",
       "      <td>NaN</td>\n",
       "      <td>NaN</td>\n",
       "      <td>NaN</td>\n",
       "      <td>13.819</td>\n",
       "      <td>13.842</td>\n",
       "      <td>13.020</td>\n",
       "      <td>13.413</td>\n",
       "      <td>12268781.0</td>\n",
       "    </tr>\n",
       "    <tr>\n",
       "      <th>2000-01-04</th>\n",
       "      <td>18.174</td>\n",
       "      <td>18.249</td>\n",
       "      <td>17.107</td>\n",
       "      <td>17.340</td>\n",
       "      <td>31540844.0</td>\n",
       "      <td>331.40</td>\n",
       "      <td>332.42</td>\n",
       "      <td>316.84</td>\n",
       "      <td>316.84</td>\n",
       "      <td>2791909.0</td>\n",
       "      <td>...</td>\n",
       "      <td>NaN</td>\n",
       "      <td>NaN</td>\n",
       "      <td>NaN</td>\n",
       "      <td>NaN</td>\n",
       "      <td>NaN</td>\n",
       "      <td>12.773</td>\n",
       "      <td>12.922</td>\n",
       "      <td>12.339</td>\n",
       "      <td>12.742</td>\n",
       "      <td>20686276.0</td>\n",
       "    </tr>\n",
       "    <tr>\n",
       "      <th>2000-01-05</th>\n",
       "      <td>17.149</td>\n",
       "      <td>17.673</td>\n",
       "      <td>16.936</td>\n",
       "      <td>17.531</td>\n",
       "      <td>26412431.0</td>\n",
       "      <td>324.41</td>\n",
       "      <td>331.40</td>\n",
       "      <td>315.18</td>\n",
       "      <td>329.76</td>\n",
       "      <td>2024333.0</td>\n",
       "      <td>...</td>\n",
       "      <td>NaN</td>\n",
       "      <td>NaN</td>\n",
       "      <td>NaN</td>\n",
       "      <td>NaN</td>\n",
       "      <td>NaN</td>\n",
       "      <td>12.683</td>\n",
       "      <td>12.941</td>\n",
       "      <td>12.355</td>\n",
       "      <td>12.618</td>\n",
       "      <td>11170740.0</td>\n",
       "    </tr>\n",
       "    <tr>\n",
       "      <th>2000-01-06</th>\n",
       "      <td>17.858</td>\n",
       "      <td>19.028</td>\n",
       "      <td>17.793</td>\n",
       "      <td>19.028</td>\n",
       "      <td>20000345.0</td>\n",
       "      <td>327.06</td>\n",
       "      <td>348.61</td>\n",
       "      <td>326.58</td>\n",
       "      <td>345.33</td>\n",
       "      <td>2164586.0</td>\n",
       "      <td>...</td>\n",
       "      <td>NaN</td>\n",
       "      <td>NaN</td>\n",
       "      <td>NaN</td>\n",
       "      <td>NaN</td>\n",
       "      <td>NaN</td>\n",
       "      <td>12.707</td>\n",
       "      <td>13.369</td>\n",
       "      <td>12.662</td>\n",
       "      <td>13.178</td>\n",
       "      <td>11304597.0</td>\n",
       "    </tr>\n",
       "    <tr>\n",
       "      <th>2000-01-07</th>\n",
       "      <td>18.883</td>\n",
       "      <td>18.883</td>\n",
       "      <td>18.265</td>\n",
       "      <td>18.527</td>\n",
       "      <td>13443120.0</td>\n",
       "      <td>344.31</td>\n",
       "      <td>350.27</td>\n",
       "      <td>336.24</td>\n",
       "      <td>344.31</td>\n",
       "      <td>1620105.0</td>\n",
       "      <td>...</td>\n",
       "      <td>NaN</td>\n",
       "      <td>NaN</td>\n",
       "      <td>NaN</td>\n",
       "      <td>NaN</td>\n",
       "      <td>NaN</td>\n",
       "      <td>13.455</td>\n",
       "      <td>13.604</td>\n",
       "      <td>13.222</td>\n",
       "      <td>13.413</td>\n",
       "      <td>10468852.0</td>\n",
       "    </tr>\n",
       "    <tr>\n",
       "      <th>2000-01-10</th>\n",
       "      <td>18.622</td>\n",
       "      <td>18.622</td>\n",
       "      <td>17.776</td>\n",
       "      <td>17.886</td>\n",
       "      <td>12888418.0</td>\n",
       "      <td>350.27</td>\n",
       "      <td>350.27</td>\n",
       "      <td>341.04</td>\n",
       "      <td>342.65</td>\n",
       "      <td>987825.0</td>\n",
       "      <td>...</td>\n",
       "      <td>NaN</td>\n",
       "      <td>NaN</td>\n",
       "      <td>NaN</td>\n",
       "      <td>NaN</td>\n",
       "      <td>NaN</td>\n",
       "      <td>13.155</td>\n",
       "      <td>13.244</td>\n",
       "      <td>12.941</td>\n",
       "      <td>12.978</td>\n",
       "      <td>12155008.0</td>\n",
       "    </tr>\n",
       "    <tr>\n",
       "      <th>2000-01-11</th>\n",
       "      <td>17.340</td>\n",
       "      <td>17.858</td>\n",
       "      <td>17.340</td>\n",
       "      <td>17.504</td>\n",
       "      <td>12786260.0</td>\n",
       "      <td>340.03</td>\n",
       "      <td>346.44</td>\n",
       "      <td>336.73</td>\n",
       "      <td>338.38</td>\n",
       "      <td>1157820.0</td>\n",
       "      <td>...</td>\n",
       "      <td>NaN</td>\n",
       "      <td>NaN</td>\n",
       "      <td>NaN</td>\n",
       "      <td>NaN</td>\n",
       "      <td>NaN</td>\n",
       "      <td>12.957</td>\n",
       "      <td>13.020</td>\n",
       "      <td>12.707</td>\n",
       "      <td>12.773</td>\n",
       "      <td>8377579.0</td>\n",
       "    </tr>\n",
       "    <tr>\n",
       "      <th>2000-01-12</th>\n",
       "      <td>17.504</td>\n",
       "      <td>17.912</td>\n",
       "      <td>17.504</td>\n",
       "      <td>17.693</td>\n",
       "      <td>12789956.0</td>\n",
       "      <td>341.04</td>\n",
       "      <td>350.27</td>\n",
       "      <td>340.56</td>\n",
       "      <td>350.27</td>\n",
       "      <td>1331057.0</td>\n",
       "      <td>...</td>\n",
       "      <td>NaN</td>\n",
       "      <td>NaN</td>\n",
       "      <td>NaN</td>\n",
       "      <td>NaN</td>\n",
       "      <td>NaN</td>\n",
       "      <td>12.785</td>\n",
       "      <td>13.244</td>\n",
       "      <td>12.785</td>\n",
       "      <td>13.133</td>\n",
       "      <td>9544045.0</td>\n",
       "    </tr>\n",
       "    <tr>\n",
       "      <th>2000-01-13</th>\n",
       "      <td>17.886</td>\n",
       "      <td>18.215</td>\n",
       "      <td>17.838</td>\n",
       "      <td>18.102</td>\n",
       "      <td>14239568.0</td>\n",
       "      <td>350.27</td>\n",
       "      <td>357.22</td>\n",
       "      <td>348.61</td>\n",
       "      <td>354.55</td>\n",
       "      <td>1438182.0</td>\n",
       "      <td>...</td>\n",
       "      <td>NaN</td>\n",
       "      <td>NaN</td>\n",
       "      <td>NaN</td>\n",
       "      <td>NaN</td>\n",
       "      <td>NaN</td>\n",
       "      <td>13.662</td>\n",
       "      <td>13.880</td>\n",
       "      <td>13.604</td>\n",
       "      <td>13.863</td>\n",
       "      <td>15038319.0</td>\n",
       "    </tr>\n",
       "    <tr>\n",
       "      <th>2000-01-14</th>\n",
       "      <td>19.003</td>\n",
       "      <td>19.234</td>\n",
       "      <td>18.575</td>\n",
       "      <td>19.219</td>\n",
       "      <td>23619290.0</td>\n",
       "      <td>359.90</td>\n",
       "      <td>373.41</td>\n",
       "      <td>359.38</td>\n",
       "      <td>369.61</td>\n",
       "      <td>2585374.0</td>\n",
       "      <td>...</td>\n",
       "      <td>NaN</td>\n",
       "      <td>NaN</td>\n",
       "      <td>NaN</td>\n",
       "      <td>NaN</td>\n",
       "      <td>NaN</td>\n",
       "      <td>14.996</td>\n",
       "      <td>14.996</td>\n",
       "      <td>14.099</td>\n",
       "      <td>14.289</td>\n",
       "      <td>15609060.0</td>\n",
       "    </tr>\n",
       "  </tbody>\n",
       "</table>\n",
       "<p>10 rows × 30 columns</p>\n",
       "</div>"
      ],
      "text/plain": [
       "Bank Ticker     BAC                                           C          \\\n",
       "Stock Info     Open    High     Low   Close      Volume    Open    High   \n",
       "Date                                                                      \n",
       "2000-01-03   19.124  19.124  18.265  18.432  15838719.0  354.55  354.55   \n",
       "2000-01-04   18.174  18.249  17.107  17.340  31540844.0  331.40  332.42   \n",
       "2000-01-05   17.149  17.673  16.936  17.531  26412431.0  324.41  331.40   \n",
       "2000-01-06   17.858  19.028  17.793  19.028  20000345.0  327.06  348.61   \n",
       "2000-01-07   18.883  18.883  18.265  18.527  13443120.0  344.31  350.27   \n",
       "2000-01-10   18.622  18.622  17.776  17.886  12888418.0  350.27  350.27   \n",
       "2000-01-11   17.340  17.858  17.340  17.504  12786260.0  340.03  346.44   \n",
       "2000-01-12   17.504  17.912  17.504  17.693  12789956.0  341.04  350.27   \n",
       "2000-01-13   17.886  18.215  17.838  18.102  14239568.0  350.27  357.22   \n",
       "2000-01-14   19.003  19.234  18.575  19.219  23619290.0  359.90  373.41   \n",
       "\n",
       "Bank Ticker                             ...   MS                        \\\n",
       "Stock Info      Low   Close     Volume  ... Open High Low Close Volume   \n",
       "Date                                    ...                              \n",
       "2000-01-03   331.40  337.85  1953904.0  ...  NaN  NaN NaN   NaN    NaN   \n",
       "2000-01-04   316.84  316.84  2791909.0  ...  NaN  NaN NaN   NaN    NaN   \n",
       "2000-01-05   315.18  329.76  2024333.0  ...  NaN  NaN NaN   NaN    NaN   \n",
       "2000-01-06   326.58  345.33  2164586.0  ...  NaN  NaN NaN   NaN    NaN   \n",
       "2000-01-07   336.24  344.31  1620105.0  ...  NaN  NaN NaN   NaN    NaN   \n",
       "2000-01-10   341.04  342.65   987825.0  ...  NaN  NaN NaN   NaN    NaN   \n",
       "2000-01-11   336.73  338.38  1157820.0  ...  NaN  NaN NaN   NaN    NaN   \n",
       "2000-01-12   340.56  350.27  1331057.0  ...  NaN  NaN NaN   NaN    NaN   \n",
       "2000-01-13   348.61  354.55  1438182.0  ...  NaN  NaN NaN   NaN    NaN   \n",
       "2000-01-14   359.38  369.61  2585374.0  ...  NaN  NaN NaN   NaN    NaN   \n",
       "\n",
       "Bank Ticker     WFC                                      \n",
       "Stock Info     Open    High     Low   Close      Volume  \n",
       "Date                                                     \n",
       "2000-01-03   13.819  13.842  13.020  13.413  12268781.0  \n",
       "2000-01-04   12.773  12.922  12.339  12.742  20686276.0  \n",
       "2000-01-05   12.683  12.941  12.355  12.618  11170740.0  \n",
       "2000-01-06   12.707  13.369  12.662  13.178  11304597.0  \n",
       "2000-01-07   13.455  13.604  13.222  13.413  10468852.0  \n",
       "2000-01-10   13.155  13.244  12.941  12.978  12155008.0  \n",
       "2000-01-11   12.957  13.020  12.707  12.773   8377579.0  \n",
       "2000-01-12   12.785  13.244  12.785  13.133   9544045.0  \n",
       "2000-01-13   13.662  13.880  13.604  13.863  15038319.0  \n",
       "2000-01-14   14.996  14.996  14.099  14.289  15609060.0  \n",
       "\n",
       "[10 rows x 30 columns]"
      ]
     },
     "execution_count": 16,
     "metadata": {},
     "output_type": "execute_result"
    }
   ],
   "source": [
    "tickers = ['BAC', 'C', 'GS', 'JPM', 'MS', 'WFC']\n",
    "Bank_Stocks = pd.concat([BAC, C, GS, JPM, MS, WFC],axis=1,keys=tickers).sort_index()\n",
    "\n",
    "# Set Multilevel Index Labels\n",
    "Bank_Stocks.columns.names = ['Bank Ticker','Stock Info']\n",
    "\n",
    "Bank_Stocks.head(10)"
   ]
  },
  {
   "cell_type": "markdown",
   "metadata": {},
   "source": [
    "### Let's plot the banks stocks prices from 2000 to today (2.10.22)\n",
    "\n",
    "Obsesrvations\n",
    "* We can see City stock dominated the financial industry but they took a dive during the financial crisis.\n",
    "* We can see that although Goldman Sachs also dropped substantially during the 2007-2008 financial crisis, they rebounded rather quickly compared to other banks."
   ]
  },
  {
   "cell_type": "code",
   "execution_count": 17,
   "metadata": {},
   "outputs": [
    {
     "data": {
      "text/html": [
       "<div>\n",
       "<style scoped>\n",
       "    .dataframe tbody tr th:only-of-type {\n",
       "        vertical-align: middle;\n",
       "    }\n",
       "\n",
       "    .dataframe tbody tr th {\n",
       "        vertical-align: top;\n",
       "    }\n",
       "\n",
       "    .dataframe thead th {\n",
       "        text-align: right;\n",
       "    }\n",
       "</style>\n",
       "<table border=\"1\" class=\"dataframe\">\n",
       "  <thead>\n",
       "    <tr style=\"text-align: right;\">\n",
       "      <th>Bank Ticker</th>\n",
       "      <th>BAC</th>\n",
       "      <th>C</th>\n",
       "      <th>GS</th>\n",
       "      <th>JPM</th>\n",
       "      <th>MS</th>\n",
       "      <th>WFC</th>\n",
       "    </tr>\n",
       "    <tr>\n",
       "      <th>Date</th>\n",
       "      <th></th>\n",
       "      <th></th>\n",
       "      <th></th>\n",
       "      <th></th>\n",
       "      <th></th>\n",
       "      <th></th>\n",
       "    </tr>\n",
       "  </thead>\n",
       "  <tbody>\n",
       "    <tr>\n",
       "      <th>2000-01-03</th>\n",
       "      <td>18.432</td>\n",
       "      <td>337.85</td>\n",
       "      <td>73.386</td>\n",
       "      <td>34.998</td>\n",
       "      <td>NaN</td>\n",
       "      <td>13.413</td>\n",
       "    </tr>\n",
       "    <tr>\n",
       "      <th>2000-01-04</th>\n",
       "      <td>17.340</td>\n",
       "      <td>316.84</td>\n",
       "      <td>68.759</td>\n",
       "      <td>34.215</td>\n",
       "      <td>NaN</td>\n",
       "      <td>12.742</td>\n",
       "    </tr>\n",
       "    <tr>\n",
       "      <th>2000-01-05</th>\n",
       "      <td>17.531</td>\n",
       "      <td>329.76</td>\n",
       "      <td>65.544</td>\n",
       "      <td>34.024</td>\n",
       "      <td>NaN</td>\n",
       "      <td>12.618</td>\n",
       "    </tr>\n",
       "    <tr>\n",
       "      <th>2000-01-06</th>\n",
       "      <td>19.028</td>\n",
       "      <td>345.33</td>\n",
       "      <td>68.344</td>\n",
       "      <td>34.493</td>\n",
       "      <td>NaN</td>\n",
       "      <td>13.178</td>\n",
       "    </tr>\n",
       "    <tr>\n",
       "      <th>2000-01-07</th>\n",
       "      <td>18.527</td>\n",
       "      <td>344.31</td>\n",
       "      <td>68.605</td>\n",
       "      <td>35.142</td>\n",
       "      <td>NaN</td>\n",
       "      <td>13.413</td>\n",
       "    </tr>\n",
       "    <tr>\n",
       "      <th>...</th>\n",
       "      <td>...</td>\n",
       "      <td>...</td>\n",
       "      <td>...</td>\n",
       "      <td>...</td>\n",
       "      <td>...</td>\n",
       "      <td>...</td>\n",
       "    </tr>\n",
       "    <tr>\n",
       "      <th>2022-02-07</th>\n",
       "      <td>48.510</td>\n",
       "      <td>66.36</td>\n",
       "      <td>368.150</td>\n",
       "      <td>153.070</td>\n",
       "      <td>105.18</td>\n",
       "      <td>57.330</td>\n",
       "    </tr>\n",
       "    <tr>\n",
       "      <th>2022-02-08</th>\n",
       "      <td>49.380</td>\n",
       "      <td>67.12</td>\n",
       "      <td>370.100</td>\n",
       "      <td>155.950</td>\n",
       "      <td>106.35</td>\n",
       "      <td>58.750</td>\n",
       "    </tr>\n",
       "    <tr>\n",
       "      <th>2022-02-09</th>\n",
       "      <td>49.280</td>\n",
       "      <td>67.84</td>\n",
       "      <td>374.530</td>\n",
       "      <td>156.600</td>\n",
       "      <td>108.73</td>\n",
       "      <td>59.060</td>\n",
       "    </tr>\n",
       "    <tr>\n",
       "      <th>2022-02-10</th>\n",
       "      <td>49.050</td>\n",
       "      <td>67.50</td>\n",
       "      <td>370.570</td>\n",
       "      <td>155.950</td>\n",
       "      <td>107.57</td>\n",
       "      <td>59.050</td>\n",
       "    </tr>\n",
       "    <tr>\n",
       "      <th>2022-02-11</th>\n",
       "      <td>47.920</td>\n",
       "      <td>67.15</td>\n",
       "      <td>363.060</td>\n",
       "      <td>153.920</td>\n",
       "      <td>104.57</td>\n",
       "      <td>58.310</td>\n",
       "    </tr>\n",
       "  </tbody>\n",
       "</table>\n",
       "<p>5565 rows × 6 columns</p>\n",
       "</div>"
      ],
      "text/plain": [
       "Bank Ticker     BAC       C       GS      JPM      MS     WFC\n",
       "Date                                                         \n",
       "2000-01-03   18.432  337.85   73.386   34.998     NaN  13.413\n",
       "2000-01-04   17.340  316.84   68.759   34.215     NaN  12.742\n",
       "2000-01-05   17.531  329.76   65.544   34.024     NaN  12.618\n",
       "2000-01-06   19.028  345.33   68.344   34.493     NaN  13.178\n",
       "2000-01-07   18.527  344.31   68.605   35.142     NaN  13.413\n",
       "...             ...     ...      ...      ...     ...     ...\n",
       "2022-02-07   48.510   66.36  368.150  153.070  105.18  57.330\n",
       "2022-02-08   49.380   67.12  370.100  155.950  106.35  58.750\n",
       "2022-02-09   49.280   67.84  374.530  156.600  108.73  59.060\n",
       "2022-02-10   49.050   67.50  370.570  155.950  107.57  59.050\n",
       "2022-02-11   47.920   67.15  363.060  153.920  104.57  58.310\n",
       "\n",
       "[5565 rows x 6 columns]"
      ]
     },
     "execution_count": 17,
     "metadata": {},
     "output_type": "execute_result"
    }
   ],
   "source": [
    "Closing_Prices = Bank_Stocks.xs(key='Close', level='Stock Info', axis=1)\n",
    "\n",
    "Closing_Prices"
   ]
  },
  {
   "cell_type": "code",
   "execution_count": 39,
   "metadata": {},
   "outputs": [
    {
     "data": {
      "image/png": "[encoded data removed]",
      "text/plain": [
       "<Figure size 2800x1200 with 1 Axes>"
      ]
     },
     "metadata": {},
     "output_type": "display_data"
    }
   ],
   "source": [
    "plt.style.use('seaborn-darkgrid')\n",
    "plt.figure(figsize=(14,6), dpi=200)\n",
    "plt.plot(Closing_Prices)\n",
    "plt.title(\"Banks Stock Closing Prices from 2000 - 2022\", fontsize=20)\n",
    "plt.legend(tickers, loc=0, fontsize='large');"
   ]
  },
  {
   "cell_type": "markdown",
   "metadata": {},
   "source": [
    "### What has the Daily Return been for these six banks since the year 2000?\n"
   ]
  },
  {
   "cell_type": "code",
   "execution_count": 19,
   "metadata": {},
   "outputs": [
    {
     "data": {
      "text/html": [
       "<div>\n",
       "<style scoped>\n",
       "    .dataframe tbody tr th:only-of-type {\n",
       "        vertical-align: middle;\n",
       "    }\n",
       "\n",
       "    .dataframe tbody tr th {\n",
       "        vertical-align: top;\n",
       "    }\n",
       "\n",
       "    .dataframe thead th {\n",
       "        text-align: right;\n",
       "    }\n",
       "</style>\n",
       "<table border=\"1\" class=\"dataframe\">\n",
       "  <thead>\n",
       "    <tr style=\"text-align: right;\">\n",
       "      <th></th>\n",
       "      <th>BAC Daily Return</th>\n",
       "      <th>C Daily Return</th>\n",
       "      <th>GS Daily Return</th>\n",
       "      <th>JPM Daily Return</th>\n",
       "      <th>MS Daily Return</th>\n",
       "      <th>WFC Daily Return</th>\n",
       "    </tr>\n",
       "    <tr>\n",
       "      <th>Date</th>\n",
       "      <th></th>\n",
       "      <th></th>\n",
       "      <th></th>\n",
       "      <th></th>\n",
       "      <th></th>\n",
       "      <th></th>\n",
       "    </tr>\n",
       "  </thead>\n",
       "  <tbody>\n",
       "    <tr>\n",
       "      <th>2000-01-03</th>\n",
       "      <td>NaN</td>\n",
       "      <td>NaN</td>\n",
       "      <td>NaN</td>\n",
       "      <td>NaN</td>\n",
       "      <td>NaN</td>\n",
       "      <td>NaN</td>\n",
       "    </tr>\n",
       "    <tr>\n",
       "      <th>2000-01-04</th>\n",
       "      <td>-0.059245</td>\n",
       "      <td>-0.062187</td>\n",
       "      <td>-0.063050</td>\n",
       "      <td>-0.022373</td>\n",
       "      <td>NaN</td>\n",
       "      <td>-0.050026</td>\n",
       "    </tr>\n",
       "    <tr>\n",
       "      <th>2000-01-05</th>\n",
       "      <td>0.011015</td>\n",
       "      <td>0.040778</td>\n",
       "      <td>-0.046758</td>\n",
       "      <td>-0.005582</td>\n",
       "      <td>NaN</td>\n",
       "      <td>-0.009732</td>\n",
       "    </tr>\n",
       "    <tr>\n",
       "      <th>2000-01-06</th>\n",
       "      <td>0.085392</td>\n",
       "      <td>0.047216</td>\n",
       "      <td>0.042719</td>\n",
       "      <td>0.013784</td>\n",
       "      <td>NaN</td>\n",
       "      <td>0.044381</td>\n",
       "    </tr>\n",
       "    <tr>\n",
       "      <th>2000-01-07</th>\n",
       "      <td>-0.026330</td>\n",
       "      <td>-0.002954</td>\n",
       "      <td>0.003819</td>\n",
       "      <td>0.018815</td>\n",
       "      <td>NaN</td>\n",
       "      <td>0.017833</td>\n",
       "    </tr>\n",
       "    <tr>\n",
       "      <th>...</th>\n",
       "      <td>...</td>\n",
       "      <td>...</td>\n",
       "      <td>...</td>\n",
       "      <td>...</td>\n",
       "      <td>...</td>\n",
       "      <td>...</td>\n",
       "    </tr>\n",
       "    <tr>\n",
       "      <th>2022-02-07</th>\n",
       "      <td>0.004764</td>\n",
       "      <td>0.004237</td>\n",
       "      <td>0.001496</td>\n",
       "      <td>0.003343</td>\n",
       "      <td>0.010278</td>\n",
       "      <td>0.017753</td>\n",
       "    </tr>\n",
       "    <tr>\n",
       "      <th>2022-02-08</th>\n",
       "      <td>0.017934</td>\n",
       "      <td>0.011453</td>\n",
       "      <td>0.005297</td>\n",
       "      <td>0.018815</td>\n",
       "      <td>0.011124</td>\n",
       "      <td>0.024769</td>\n",
       "    </tr>\n",
       "    <tr>\n",
       "      <th>2022-02-09</th>\n",
       "      <td>-0.002025</td>\n",
       "      <td>0.010727</td>\n",
       "      <td>0.011970</td>\n",
       "      <td>0.004168</td>\n",
       "      <td>0.022379</td>\n",
       "      <td>0.005277</td>\n",
       "    </tr>\n",
       "    <tr>\n",
       "      <th>2022-02-10</th>\n",
       "      <td>-0.004667</td>\n",
       "      <td>-0.005012</td>\n",
       "      <td>-0.010573</td>\n",
       "      <td>-0.004151</td>\n",
       "      <td>-0.010669</td>\n",
       "      <td>-0.000169</td>\n",
       "    </tr>\n",
       "    <tr>\n",
       "      <th>2022-02-11</th>\n",
       "      <td>-0.023038</td>\n",
       "      <td>-0.005185</td>\n",
       "      <td>-0.020266</td>\n",
       "      <td>-0.013017</td>\n",
       "      <td>-0.027889</td>\n",
       "      <td>-0.012532</td>\n",
       "    </tr>\n",
       "  </tbody>\n",
       "</table>\n",
       "<p>5565 rows × 6 columns</p>\n",
       "</div>"
      ],
      "text/plain": [
       "            BAC Daily Return  C Daily Return  GS Daily Return  \\\n",
       "Date                                                            \n",
       "2000-01-03               NaN             NaN              NaN   \n",
       "2000-01-04         -0.059245       -0.062187        -0.063050   \n",
       "2000-01-05          0.011015        0.040778        -0.046758   \n",
       "2000-01-06          0.085392        0.047216         0.042719   \n",
       "2000-01-07         -0.026330       -0.002954         0.003819   \n",
       "...                      ...             ...              ...   \n",
       "2022-02-07          0.004764        0.004237         0.001496   \n",
       "2022-02-08          0.017934        0.011453         0.005297   \n",
       "2022-02-09         -0.002025        0.010727         0.011970   \n",
       "2022-02-10         -0.004667       -0.005012        -0.010573   \n",
       "2022-02-11         -0.023038       -0.005185        -0.020266   \n",
       "\n",
       "            JPM Daily Return  MS Daily Return  WFC Daily Return  \n",
       "Date                                                             \n",
       "2000-01-03               NaN              NaN               NaN  \n",
       "2000-01-04         -0.022373              NaN         -0.050026  \n",
       "2000-01-05         -0.005582              NaN         -0.009732  \n",
       "2000-01-06          0.013784              NaN          0.044381  \n",
       "2000-01-07          0.018815              NaN          0.017833  \n",
       "...                      ...              ...               ...  \n",
       "2022-02-07          0.003343         0.010278          0.017753  \n",
       "2022-02-08          0.018815         0.011124          0.024769  \n",
       "2022-02-09          0.004168         0.022379          0.005277  \n",
       "2022-02-10         -0.004151        -0.010669         -0.000169  \n",
       "2022-02-11         -0.013017        -0.027889         -0.012532  \n",
       "\n",
       "[5565 rows x 6 columns]"
      ]
     },
     "execution_count": 19,
     "metadata": {},
     "output_type": "execute_result"
    }
   ],
   "source": [
    "# Let's set and empty dataframe which we will fill with daily return data\n",
    "returns_df = pd.DataFrame()\n",
    "\n",
    "for ticker in tickers:\n",
    "    returns_df[ticker + ' Daily Return'] = Bank_Stocks[ticker]['Close'].pct_change()\n",
    "\n",
    "returns_df"
   ]
  },
  {
   "cell_type": "markdown",
   "metadata": {},
   "source": [
    "### Which Stock had the most volatility?\n",
    "##### Below is the standard deviation for each bank stock and we can see Morgan Stanley had the biggest standard deviation throughout the whole time period."
   ]
  },
  {
   "cell_type": "code",
   "execution_count": 20,
   "metadata": {},
   "outputs": [
    {
     "data": {
      "text/plain": [
       "BAC Daily Return    0.028607\n",
       "C Daily Return      0.030463\n",
       "GS Daily Return     0.023306\n",
       "JPM Daily Return    0.024412\n",
       "MS Daily Return     0.031750\n",
       "WFC Daily Return    0.024513\n",
       "dtype: float64"
      ]
     },
     "execution_count": 20,
     "metadata": {},
     "output_type": "execute_result"
    }
   ],
   "source": [
    "returns_df.std()"
   ]
  },
  {
   "cell_type": "markdown",
   "metadata": {},
   "source": [
    "### What was the date with the lowest return for each bank?\n",
    "##### We can see all banks had their lowest return on 2008 or 2009. Bank of America, Goldman Sachs, Morgan Stanley, JP Morgan Chase, and Wells Fargo all had their lowest daily return on the same data."
   ]
  },
  {
   "cell_type": "code",
   "execution_count": 21,
   "metadata": {},
   "outputs": [
    {
     "data": {
      "text/plain": [
       "BAC Daily Return   2009-01-20\n",
       "C Daily Return     2009-02-27\n",
       "GS Daily Return    2009-01-20\n",
       "JPM Daily Return   2009-01-20\n",
       "MS Daily Return    2008-10-09\n",
       "WFC Daily Return   2009-01-20\n",
       "dtype: datetime64[ns]"
      ]
     },
     "execution_count": 21,
     "metadata": {},
     "output_type": "execute_result"
    }
   ],
   "source": [
    "returns_df.idxmin()"
   ]
  },
  {
   "cell_type": "markdown",
   "metadata": {},
   "source": [
    "### What were the dates with highest return for each bank?"
   ]
  },
  {
   "cell_type": "code",
   "execution_count": 22,
   "metadata": {},
   "outputs": [
    {
     "data": {
      "text/plain": [
       "BAC Daily Return   2009-04-09\n",
       "C Daily Return     2008-11-24\n",
       "GS Daily Return    2008-11-24\n",
       "JPM Daily Return   2009-01-21\n",
       "MS Daily Return    2008-10-13\n",
       "WFC Daily Return   2008-07-16\n",
       "dtype: datetime64[ns]"
      ]
     },
     "execution_count": 22,
     "metadata": {},
     "output_type": "execute_result"
    }
   ],
   "source": [
    "returns_df.idxmax()"
   ]
  },
  {
   "cell_type": "code",
   "execution_count": 23,
   "metadata": {},
   "outputs": [
    {
     "data": {
      "text/plain": [
       "Text(0.5, 1.0, 'Distribution of Morgan Stanley Returns from 2015 - 2022 So Far')"
      ]
     },
     "execution_count": 23,
     "metadata": {},
     "output_type": "execute_result"
    },
    {
     "data": {
      "image/png": "[encoded data removed]",
      "text/plain": [
       "<Figure size 1296x432 with 1 Axes>"
      ]
     },
     "metadata": {},
     "output_type": "display_data"
    }
   ],
   "source": [
    "sns.displot(returns_df.loc['2008':'2009']['MS Daily Return'], bins =50).figure.set_size_inches(18, 6)\n",
    "plt.xlabel('Daily Returns', fontsize=20)\n",
    "plt.ylabel('Count of Days', fontsize=20)\n",
    "plt.title('Distribution of Morgan Stanley Returns from 2015 - 2022 So Far', fontsize=20)"
   ]
  },
  {
   "cell_type": "code",
   "execution_count": 24,
   "metadata": {},
   "outputs": [
    {
     "data": {
      "text/plain": [
       "Text(0.5, 1.0, 'Distribution of Goldman Sachs Returns from 2015 - 2022 So Far')"
      ]
     },
     "execution_count": 24,
     "metadata": {},
     "output_type": "execute_result"
    },
    {
     "data": {
      "image/png": "[encoded data removed]",
      "text/plain": [
       "<Figure size 1296x432 with 1 Axes>"
      ]
     },
     "metadata": {},
     "output_type": "display_data"
    }
   ],
   "source": [
    "GS_dist = sns.displot(returns_df.loc['2008':'2009']['GS Daily Return'], bins =50, color='red').figure.set_size_inches(18, 6)\n",
    "plt.xlabel('Daily Returns', fontsize=20)\n",
    "plt.ylabel('Count of Days', fontsize=20)\n",
    "plt.title('Distribution of Goldman Sachs Returns from 2015 - 2022 So Far', fontsize=20)"
   ]
  },
  {
   "cell_type": "markdown",
   "metadata": {},
   "source": [
    "### Moving Averages\n",
    "\n",
    "##### Let's analyze the moving averages for these stocks in the year 2007-2008. \n",
    "\n",
    "* This plot shows the rolling 30 day average against the Close Price for Bank Of America's stock for 2007 and 2008"
   ]
  },
  {
   "cell_type": "code",
   "execution_count": 25,
   "metadata": {},
   "outputs": [
    {
     "data": {
      "text/plain": [
       "<matplotlib.legend.Legend at 0x7fd2d52a9430>"
      ]
     },
     "execution_count": 25,
     "metadata": {},
     "output_type": "execute_result"
    },
    {
     "data": {
      "image/png": "[encoded data removed]",
      "text/plain": [
       "<Figure size 1152x576 with 1 Axes>"
      ]
     },
     "metadata": {},
     "output_type": "display_data"
    }
   ],
   "source": [
    "plt.figure(figsize=(16,8))\n",
    "Closing_Prices['BAC'].loc['2008'].rolling(window=30).mean().plot(label='30 Day Moving Avg')\n",
    "Closing_Prices['BAC'].loc['2008'].plot(label='BAC Close')\n",
    "plt.legend()"
   ]
  },
  {
   "cell_type": "markdown",
   "metadata": {},
   "source": [
    "### What is the correlation between these stocks?"
   ]
  },
  {
   "cell_type": "code",
   "execution_count": 26,
   "metadata": {},
   "outputs": [
    {
     "data": {
      "text/plain": [
       "<AxesSubplot:xlabel='Bank Ticker', ylabel='Bank Ticker'>"
      ]
     },
     "execution_count": 26,
     "metadata": {},
     "output_type": "execute_result"
    },
    {
     "data": {
      "image/png": "[encoded data removed]",
      "text/plain": [
       "<Figure size 432x288 with 2 Axes>"
      ]
     },
     "metadata": {},
     "output_type": "display_data"
    }
   ],
   "source": [
    "sns.heatmap(Closing_Prices.corr(), annot=True)"
   ]
  },
  {
   "cell_type": "code",
   "execution_count": 27,
   "metadata": {},
   "outputs": [
    {
     "data": {
      "text/plain": [
       "<seaborn.matrix.ClusterGrid at 0x7fd2d53e42e0>"
      ]
     },
     "execution_count": 27,
     "metadata": {},
     "output_type": "execute_result"
    },
    {
     "data": {
      "image/png": "[encoded data removed]",
      "text/plain": [
       "<Figure size 720x720 with 4 Axes>"
      ]
     },
     "metadata": {},
     "output_type": "display_data"
    }
   ],
   "source": [
    "sns.clustermap(Closing_Prices.corr(), annot=True)"
   ]
  },
  {
   "cell_type": "code",
   "execution_count": 28,
   "metadata": {},
   "outputs": [
    {
     "data": {
      "application/vnd.plotly.v1+json": {
       "config": {
        "linkText": "Export to plot.ly",
        "plotlyServerURL": "https://plot.ly",
        "showLink": true
       },
       "data": [
        {
         "close": [
          15.036,
          15.235,
          15.437,
          15.304,
          15.43,
          15.493,
          15.259,
          15.162,
          14.976,
          15.456,
          15.86,
          15.562,
          15.009,
          14.948,
          15.369,
          15.276,
          15.36,
          15.674,
          15.904,
          15.456,
          15.739,
          15.869,
          15.53,
          15.573,
          15.537,
          15.563,
          15.563,
          15.722,
          15.759,
          15.896,
          15.521,
          15.53,
          15.325,
          15.475,
          15.815,
          15.904,
          15.749,
          15.992,
          15.422,
          15.155,
          15.306,
          15.201,
          14.951,
          15.227,
          15.396,
          14.612,
          14.709,
          14.719,
          14.399,
          14.165,
          14.436,
          14.381,
          14.361,
          14.426,
          13.935,
          13.827,
          13.827,
          13.88,
          14.031,
          14.031,
          13.981,
          13.981,
          13.703,
          13.854,
          13.88,
          13.678,
          13.783,
          14.157,
          13.854,
          14.005,
          13.871,
          13.988,
          13.862,
          14.133,
          14.549,
          14.531,
          14.218,
          14.292,
          14.292,
          14.165,
          14.399,
          13.945,
          14.199,
          14.125,
          13.836,
          14.51,
          14.529,
          14.6,
          14.264,
          13.553,
          13.578,
          14.299,
          14.85,
          15.508,
          15.709,
          15.781,
          15.716,
          15.651,
          15.558,
          15.8,
          16.022,
          15.762,
          15.818,
          15.872,
          15.808,
          15.781,
          15.881,
          16.101,
          16.126,
          15.881,
          15.694,
          15.898,
          16.145,
          16.385,
          16.056,
          16.092,
          16.073,
          15.941,
          15.702,
          15.213,
          15.116,
          14.832,
          14.636,
          14.434,
          14.822,
          15.044,
          15.124,
          15.291,
          15.116,
          15,
          15.46,
          15.426,
          15.533,
          15.694,
          15.517,
          15.25,
          15.433,
          15.426,
          15.584,
          15.517,
          15.533,
          15.533,
          15.623,
          15.373,
          15.167,
          15.264,
          14.901,
          15.036,
          14.805,
          14.657,
          14.61,
          14.761,
          14.822,
          14.61,
          14.832,
          14.813,
          14.822,
          14.85,
          14.619,
          14.476,
          14.628,
          14.582,
          14.547,
          14.601,
          14.564,
          14.38,
          14.425,
          14.476,
          14.556,
          14.266,
          14.106,
          14.15,
          13.856,
          13.777,
          13.848,
          13.891,
          13.938,
          13.725,
          13.786,
          13.777,
          13.982,
          13.848,
          14.007,
          13.99,
          13.92,
          13.91,
          13.821,
          13.69,
          13.734,
          13.76,
          13.645,
          13.626,
          13.742,
          13.555,
          13.655,
          13.645,
          13.821,
          13.92,
          14.024,
          13.821,
          14.15,
          14.249,
          14.282,
          14.249,
          14.219,
          14.195,
          13.982,
          14.316,
          14.36,
          14.166,
          14.024,
          14.158,
          14.134,
          13.956,
          14.158,
          14.555,
          14.46,
          14.3,
          14.46,
          14.308,
          14.387,
          14.679,
          14.662,
          14.714,
          14.441,
          14.493,
          14.434,
          14.555,
          14.096,
          13.939,
          14.024,
          13.647,
          13.372,
          13.618,
          13.418,
          13.796,
          13.991,
          13.884,
          14.2,
          13.601,
          13.469,
          13.574,
          13.418,
          14.158,
          14.52,
          14.722,
          14.989,
          15.26,
          14.954,
          14.879,
          15.344,
          15.801
         ],
         "high": [
          15.251,
          15.404,
          15.503,
          15.395,
          15.529,
          15.493,
          15.285,
          15.216,
          15.422,
          15.93,
          15.887,
          15.628,
          15.09,
          15.244,
          15.554,
          15.529,
          15.599,
          15.904,
          15.93,
          15.878,
          15.984,
          15.869,
          15.666,
          15.59,
          15.658,
          15.658,
          15.797,
          15.887,
          15.904,
          15.92,
          15.682,
          15.555,
          15.422,
          15.708,
          16.028,
          15.984,
          16.108,
          16.116,
          15.475,
          15.422,
          15.378,
          15.269,
          15.306,
          15.537,
          15.422,
          14.674,
          14.745,
          14.745,
          14.436,
          14.512,
          14.512,
          14.443,
          14.512,
          14.504,
          14.182,
          13.888,
          13.917,
          14.095,
          14.06,
          14.192,
          14.095,
          14.067,
          13.703,
          13.935,
          13.898,
          13.836,
          14.095,
          14.274,
          13.917,
          14.125,
          13.88,
          14.031,
          13.997,
          14.684,
          14.602,
          14.602,
          14.316,
          14.309,
          14.352,
          14.666,
          14.399,
          14.133,
          14.426,
          14.133,
          14.256,
          14.537,
          14.6,
          14.609,
          14.264,
          14.397,
          14.191,
          14.796,
          15.274,
          15.709,
          15.898,
          15.818,
          15.716,
          15.709,
          15.677,
          15.96,
          16.03,
          16.048,
          15.969,
          16.03,
          15.922,
          15.96,
          16.039,
          16.245,
          16.163,
          15.889,
          15.79,
          16.19,
          16.369,
          16.413,
          16.136,
          16.19,
          16.126,
          16.048,
          15.854,
          15.232,
          15.141,
          14.957,
          14.85,
          14.656,
          15.036,
          15.106,
          15.283,
          15.373,
          15.213,
          15.32,
          15.558,
          15.651,
          15.709,
          15.735,
          15.567,
          15.442,
          15.451,
          15.623,
          15.594,
          15.541,
          15.614,
          15.702,
          15.651,
          15.409,
          15.391,
          15.409,
          15.079,
          15.116,
          14.84,
          14.733,
          14.761,
          14.813,
          14.832,
          14.813,
          14.874,
          14.832,
          14.919,
          14.858,
          14.647,
          14.628,
          14.69,
          14.628,
          14.592,
          14.69,
          14.574,
          14.46,
          14.601,
          14.706,
          14.564,
          14.3,
          14.21,
          14.2,
          13.91,
          13.955,
          13.948,
          13.99,
          14.016,
          13.848,
          13.891,
          13.948,
          14.116,
          14.033,
          14.125,
          14.042,
          13.982,
          13.955,
          13.938,
          13.856,
          13.812,
          13.83,
          13.69,
          13.742,
          13.821,
          13.715,
          13.76,
          13.856,
          13.99,
          14.062,
          14.106,
          14.141,
          14.258,
          14.274,
          14.36,
          14.3,
          14.352,
          14.309,
          14.282,
          14.46,
          14.716,
          14.192,
          14.15,
          14.258,
          14.15,
          14.016,
          14.51,
          14.563,
          14.608,
          14.407,
          14.502,
          14.46,
          14.617,
          14.722,
          14.82,
          14.768,
          14.52,
          14.67,
          14.563,
          14.785,
          14.2,
          14.125,
          14.062,
          13.675,
          13.657,
          13.675,
          13.884,
          13.939,
          14.062,
          14.292,
          14.292,
          13.743,
          13.796,
          13.591,
          13.911,
          14.315,
          14.908,
          15.034,
          15.344,
          15.305,
          15.163,
          15.394,
          15.717,
          15.913
         ],
         "low": [
          15.036,
          15.225,
          15.333,
          15.17,
          15.386,
          15.276,
          15.055,
          14.984,
          14.976,
          15.456,
          15.395,
          15.18,
          14.741,
          14.865,
          15.153,
          15.071,
          15.304,
          15.58,
          15.529,
          15.413,
          15.682,
          15.573,
          15.521,
          15.438,
          15.514,
          15.37,
          15.555,
          15.675,
          15.7,
          15.53,
          15.447,
          15.155,
          15.227,
          15.457,
          15.749,
          15.648,
          15.648,
          15.824,
          15.172,
          15.111,
          15.137,
          15.032,
          14.932,
          15.12,
          14.659,
          14.522,
          14.557,
          14.477,
          14.258,
          14.165,
          14.343,
          14.238,
          14.282,
          14.005,
          13.854,
          13.721,
          13.748,
          13.809,
          13.819,
          13.871,
          13.871,
          13.757,
          13.035,
          13.686,
          13.65,
          13.586,
          13.703,
          14.086,
          13.721,
          13.88,
          13.765,
          13.871,
          13.809,
          14.06,
          14.333,
          14.266,
          14.165,
          14.165,
          14.086,
          14.105,
          14.165,
          13.809,
          14.14,
          13.871,
          13.73,
          14.369,
          14.387,
          14.29,
          13.622,
          13.545,
          12.966,
          14.299,
          14.85,
          15.488,
          15.677,
          15.594,
          15.575,
          15.488,
          15.116,
          15.735,
          15.863,
          15.633,
          15.781,
          15.808,
          15.725,
          15.669,
          15.863,
          16.03,
          15.913,
          15.633,
          15.541,
          15.844,
          16.056,
          16.013,
          16.004,
          16.056,
          15.889,
          15.863,
          15.533,
          14.975,
          15.009,
          14.796,
          14.609,
          14.407,
          14.51,
          14.84,
          15,
          15.177,
          14.967,
          14.975,
          15.409,
          15.409,
          15.498,
          15.594,
          15.409,
          15.204,
          15.291,
          15.365,
          15.426,
          15.32,
          15.417,
          15.488,
          15.417,
          15.097,
          15.141,
          15.07,
          14.85,
          14.864,
          14.61,
          14.582,
          14.582,
          14.681,
          14.647,
          14.547,
          14.796,
          14.664,
          14.724,
          14.681,
          14.442,
          14.435,
          14.564,
          14.484,
          14.476,
          14.547,
          14.36,
          14.249,
          14.239,
          14.46,
          14.274,
          14.096,
          13.982,
          13.786,
          13.725,
          13.777,
          13.821,
          13.883,
          13.715,
          13.663,
          13.777,
          13.725,
          13.795,
          13.805,
          13.91,
          13.938,
          13.812,
          13.752,
          13.725,
          13.682,
          13.582,
          13.663,
          13.503,
          13.616,
          13.635,
          13.522,
          13.513,
          13.635,
          13.821,
          13.92,
          13.848,
          13.821,
          14.087,
          14.134,
          14.033,
          14.116,
          14.078,
          14.052,
          13.982,
          14.274,
          14.309,
          13.948,
          13.955,
          14.087,
          13.875,
          13.787,
          14.033,
          14.407,
          14.342,
          14.21,
          14.134,
          14.192,
          14.332,
          14.45,
          14.599,
          14.45,
          14.308,
          14.434,
          14.342,
          14.315,
          14.033,
          13.902,
          13.778,
          13.347,
          13.372,
          13.418,
          13.4,
          13.665,
          13.856,
          13.884,
          13.618,
          13.372,
          13.418,
          13.212,
          13.372,
          13.921,
          14.407,
          14.705,
          14.963,
          15.093,
          14.889,
          14.811,
          15.26,
          15.606
         ],
         "open": [
          15.199,
          15.369,
          15.413,
          15.386,
          15.474,
          15.333,
          15.235,
          15.17,
          15.36,
          15.904,
          15.769,
          15.207,
          14.976,
          15.162,
          15.323,
          15.285,
          15.537,
          15.896,
          15.58,
          15.797,
          15.975,
          15.61,
          15.573,
          15.555,
          15.6,
          15.378,
          15.7,
          15.869,
          15.841,
          15.53,
          15.59,
          15.26,
          15.26,
          15.666,
          16.028,
          15.708,
          16.062,
          15.896,
          15.172,
          15.414,
          15.155,
          15.057,
          15.306,
          15.286,
          14.659,
          14.612,
          14.719,
          14.512,
          14.258,
          14.485,
          14.399,
          14.258,
          14.504,
          14.086,
          14.05,
          13.765,
          13.898,
          14.031,
          14.005,
          14.06,
          13.971,
          13.765,
          13.435,
          13.827,
          13.854,
          13.809,
          14.067,
          14.149,
          13.845,
          13.898,
          13.802,
          13.961,
          13.971,
          14.512,
          14.566,
          14.292,
          14.228,
          14.248,
          14.14,
          14.584,
          14.218,
          14.067,
          14.228,
          14.095,
          14.164,
          14.502,
          14.563,
          14.546,
          14.04,
          14.387,
          13.339,
          14.387,
          15.264,
          15.584,
          15.735,
          15.641,
          15.604,
          15.594,
          15.651,
          15.854,
          15.872,
          15.913,
          15.905,
          15.922,
          15.8,
          15.905,
          16.013,
          16.163,
          15.941,
          15.8,
          15.684,
          16.163,
          16.331,
          16.013,
          16.083,
          16.118,
          15.951,
          15.905,
          15.567,
          15.036,
          15.079,
          14.919,
          14.681,
          14.581,
          15.009,
          14.901,
          15.242,
          15.32,
          15.167,
          15.213,
          15.524,
          15.604,
          15.567,
          15.594,
          15.417,
          15.349,
          15.409,
          15.623,
          15.508,
          15.391,
          15.498,
          15.659,
          15.442,
          15.141,
          15.33,
          15.133,
          14.984,
          14.911,
          14.628,
          14.681,
          14.752,
          14.805,
          14.664,
          14.813,
          14.805,
          14.796,
          14.858,
          14.681,
          14.442,
          14.628,
          14.637,
          14.556,
          14.574,
          14.564,
          14.451,
          14.37,
          14.484,
          14.538,
          14.292,
          14.166,
          14.166,
          13.812,
          13.795,
          13.839,
          13.91,
          13.92,
          13.768,
          13.812,
          13.83,
          13.91,
          13.848,
          13.901,
          14.062,
          13.964,
          13.891,
          13.839,
          13.742,
          13.76,
          13.626,
          13.663,
          13.655,
          13.725,
          13.655,
          13.706,
          13.626,
          13.839,
          13.929,
          13.998,
          13.891,
          14.134,
          14.175,
          14.229,
          14.266,
          14.239,
          14.21,
          14.096,
          14.2,
          14.451,
          14.53,
          14.096,
          14.134,
          14.141,
          13.939,
          13.93,
          14.493,
          14.45,
          14.36,
          14.407,
          14.249,
          14.308,
          14.608,
          14.59,
          14.759,
          14.483,
          14.416,
          14.617,
          14.434,
          14.387,
          14.106,
          13.939,
          13.778,
          13.478,
          13.443,
          13.515,
          13.875,
          13.727,
          13.875,
          14.158,
          13.727,
          13.487,
          13.761,
          13.382,
          13.761,
          14.125,
          14.848,
          15.024,
          15.344,
          15.147,
          15.129,
          15.377,
          15.704,
          15.881
         ],
         "showlegend": false,
         "type": "candlestick",
         "x": [
          "2015-12-31",
          "2015-12-30",
          "2015-12-29",
          "2015-12-28",
          "2015-12-24",
          "2015-12-23",
          "2015-12-22",
          "2015-12-21",
          "2015-12-18",
          "2015-12-17",
          "2015-12-16",
          "2015-12-15",
          "2015-12-14",
          "2015-12-11",
          "2015-12-10",
          "2015-12-09",
          "2015-12-08",
          "2015-12-07",
          "2015-12-04",
          "2015-12-03",
          "2015-12-02",
          "2015-12-01",
          "2015-11-30",
          "2015-11-27",
          "2015-11-25",
          "2015-11-24",
          "2015-11-23",
          "2015-11-20",
          "2015-11-19",
          "2015-11-18",
          "2015-11-17",
          "2015-11-16",
          "2015-11-13",
          "2015-11-12",
          "2015-11-11",
          "2015-11-10",
          "2015-11-09",
          "2015-11-06",
          "2015-11-05",
          "2015-11-04",
          "2015-11-03",
          "2015-11-02",
          "2015-10-30",
          "2015-10-29",
          "2015-10-28",
          "2015-10-27",
          "2015-10-26",
          "2015-10-23",
          "2015-10-22",
          "2015-10-21",
          "2015-10-20",
          "2015-10-19",
          "2015-10-16",
          "2015-10-15",
          "2015-10-14",
          "2015-10-13",
          "2015-10-12",
          "2015-10-09",
          "2015-10-08",
          "2015-10-07",
          "2015-10-06",
          "2015-10-05",
          "2015-10-02",
          "2015-10-01",
          "2015-09-30",
          "2015-09-29",
          "2015-09-28",
          "2015-09-25",
          "2015-09-24",
          "2015-09-23",
          "2015-09-22",
          "2015-09-21",
          "2015-09-18",
          "2015-09-17",
          "2015-09-16",
          "2015-09-15",
          "2015-09-14",
          "2015-09-11",
          "2015-09-10",
          "2015-09-09",
          "2015-09-08",
          "2015-09-04",
          "2015-09-03",
          "2015-09-02",
          "2015-09-01",
          "2015-08-31",
          "2015-08-28",
          "2015-08-27",
          "2015-08-26",
          "2015-08-25",
          "2015-08-24",
          "2015-08-21",
          "2015-08-20",
          "2015-08-19",
          "2015-08-18",
          "2015-08-17",
          "2015-08-14",
          "2015-08-13",
          "2015-08-12",
          "2015-08-11",
          "2015-08-10",
          "2015-08-07",
          "2015-08-06",
          "2015-08-05",
          "2015-08-04",
          "2015-08-03",
          "2015-07-31",
          "2015-07-30",
          "2015-07-29",
          "2015-07-28",
          "2015-07-27",
          "2015-07-24",
          "2015-07-23",
          "2015-07-22",
          "2015-07-21",
          "2015-07-20",
          "2015-07-17",
          "2015-07-16",
          "2015-07-15",
          "2015-07-14",
          "2015-07-13",
          "2015-07-10",
          "2015-07-09",
          "2015-07-08",
          "2015-07-07",
          "2015-07-06",
          "2015-07-02",
          "2015-07-01",
          "2015-06-30",
          "2015-06-29",
          "2015-06-26",
          "2015-06-25",
          "2015-06-24",
          "2015-06-23",
          "2015-06-22",
          "2015-06-19",
          "2015-06-18",
          "2015-06-17",
          "2015-06-16",
          "2015-06-15",
          "2015-06-12",
          "2015-06-11",
          "2015-06-10",
          "2015-06-09",
          "2015-06-08",
          "2015-06-05",
          "2015-06-04",
          "2015-06-03",
          "2015-06-02",
          "2015-06-01",
          "2015-05-29",
          "2015-05-28",
          "2015-05-27",
          "2015-05-26",
          "2015-05-22",
          "2015-05-21",
          "2015-05-20",
          "2015-05-19",
          "2015-05-18",
          "2015-05-15",
          "2015-05-14",
          "2015-05-13",
          "2015-05-12",
          "2015-05-11",
          "2015-05-08",
          "2015-05-07",
          "2015-05-06",
          "2015-05-05",
          "2015-05-04",
          "2015-05-01",
          "2015-04-30",
          "2015-04-29",
          "2015-04-28",
          "2015-04-27",
          "2015-04-24",
          "2015-04-23",
          "2015-04-22",
          "2015-04-21",
          "2015-04-20",
          "2015-04-17",
          "2015-04-16",
          "2015-04-15",
          "2015-04-14",
          "2015-04-13",
          "2015-04-10",
          "2015-04-09",
          "2015-04-08",
          "2015-04-07",
          "2015-04-06",
          "2015-04-02",
          "2015-04-01",
          "2015-03-31",
          "2015-03-30",
          "2015-03-27",
          "2015-03-26",
          "2015-03-25",
          "2015-03-24",
          "2015-03-23",
          "2015-03-20",
          "2015-03-19",
          "2015-03-18",
          "2015-03-17",
          "2015-03-16",
          "2015-03-13",
          "2015-03-12",
          "2015-03-11",
          "2015-03-10",
          "2015-03-09",
          "2015-03-06",
          "2015-03-05",
          "2015-03-04",
          "2015-03-03",
          "2015-03-02",
          "2015-02-27",
          "2015-02-26",
          "2015-02-25",
          "2015-02-24",
          "2015-02-23",
          "2015-02-20",
          "2015-02-19",
          "2015-02-18",
          "2015-02-17",
          "2015-02-13",
          "2015-02-12",
          "2015-02-11",
          "2015-02-10",
          "2015-02-09",
          "2015-02-06",
          "2015-02-05",
          "2015-02-04",
          "2015-02-03",
          "2015-02-02",
          "2015-01-30",
          "2015-01-29",
          "2015-01-28",
          "2015-01-27",
          "2015-01-26",
          "2015-01-23",
          "2015-01-22",
          "2015-01-21",
          "2015-01-20",
          "2015-01-16",
          "2015-01-15",
          "2015-01-14",
          "2015-01-13",
          "2015-01-12",
          "2015-01-09",
          "2015-01-08",
          "2015-01-07",
          "2015-01-06",
          "2015-01-05",
          "2015-01-02"
         ],
         "yaxis": "y2"
        }
       ],
       "layout": {
        "legend": {
         "bgcolor": "#F5F6F9",
         "font": {
          "color": "#4D5663"
         }
        },
        "paper_bgcolor": "#F5F6F9",
        "plot_bgcolor": "#F5F6F9",
        "template": {
         "data": {
          "bar": [
           {
            "error_x": {
             "color": "#2a3f5f"
            },
            "error_y": {
             "color": "#2a3f5f"
            },
            "marker": {
             "line": {
              "color": "#E5ECF6",
              "width": 0.5
             },
             "pattern": {
              "fillmode": "overlay",
              "size": 10,
              "solidity": 0.2
             }
            },
            "type": "bar"
           }
          ],
          "barpolar": [
           {
            "marker": {
             "line": {
              "color": "#E5ECF6",
              "width": 0.5
             },
             "pattern": {
              "fillmode": "overlay",
              "size": 10,
              "solidity": 0.2
             }
            },
            "type": "barpolar"
           }
          ],
          "carpet": [
           {
            "aaxis": {
             "endlinecolor": "#2a3f5f",
             "gridcolor": "white",
             "linecolor": "white",
             "minorgridcolor": "white",
             "startlinecolor": "#2a3f5f"
            },
            "baxis": {
             "endlinecolor": "#2a3f5f",
             "gridcolor": "white",
             "linecolor": "white",
             "minorgridcolor": "white",
             "startlinecolor": "#2a3f5f"
            },
            "type": "carpet"
           }
          ],
          "choropleth": [
           {
            "colorbar": {
             "outlinewidth": 0,
             "ticks": ""
            },
            "type": "choropleth"
           }
          ],
          "contour": [
           {
            "colorbar": {
             "outlinewidth": 0,
             "ticks": ""
            },
            "colorscale": [
             [
              0,
              "#0d0887"
             ],
             [
              0.1111111111111111,
              "#46039f"
             ],
             [
              0.2222222222222222,
              "#7201a8"
             ],
             [
              0.3333333333333333,
              "#9c179e"
             ],
             [
              0.4444444444444444,
              "#bd3786"
             ],
             [
              0.5555555555555556,
              "#d8576b"
             ],
             [
              0.6666666666666666,
              "#ed7953"
             ],
             [
              0.7777777777777778,
              "#fb9f3a"
             ],
             [
              0.8888888888888888,
              "#fdca26"
             ],
             [
              1,
              "#f0f921"
             ]
            ],
            "type": "contour"
           }
          ],
          "contourcarpet": [
           {
            "colorbar": {
             "outlinewidth": 0,
             "ticks": ""
            },
            "type": "contourcarpet"
           }
          ],
          "heatmap": [
           {
            "colorbar": {
             "outlinewidth": 0,
             "ticks": ""
            },
            "colorscale": [
             [
              0,
              "#0d0887"
             ],
             [
              0.1111111111111111,
              "#46039f"
             ],
             [
              0.2222222222222222,
              "#7201a8"
             ],
             [
              0.3333333333333333,
              "#9c179e"
             ],
             [
              0.4444444444444444,
              "#bd3786"
             ],
             [
              0.5555555555555556,
              "#d8576b"
             ],
             [
              0.6666666666666666,
              "#ed7953"
             ],
             [
              0.7777777777777778,
              "#fb9f3a"
             ],
             [
              0.8888888888888888,
              "#fdca26"
             ],
             [
              1,
              "#f0f921"
             ]
            ],
            "type": "heatmap"
           }
          ],
          "heatmapgl": [
           {
            "colorbar": {
             "outlinewidth": 0,
             "ticks": ""
            },
            "colorscale": [
             [
              0,
              "#0d0887"
             ],
             [
              0.1111111111111111,
              "#46039f"
             ],
             [
              0.2222222222222222,
              "#7201a8"
             ],
             [
              0.3333333333333333,
              "#9c179e"
             ],
             [
              0.4444444444444444,
              "#bd3786"
             ],
             [
              0.5555555555555556,
              "#d8576b"
             ],
             [
              0.6666666666666666,
              "#ed7953"
             ],
             [
              0.7777777777777778,
              "#fb9f3a"
             ],
             [
              0.8888888888888888,
              "#fdca26"
             ],
             [
              1,
              "#f0f921"
             ]
            ],
            "type": "heatmapgl"
           }
          ],
          "histogram": [
           {
            "marker": {
             "pattern": {
              "fillmode": "overlay",
              "size": 10,
              "solidity": 0.2
             }
            },
            "type": "histogram"
           }
          ],
          "histogram2d": [
           {
            "colorbar": {
             "outlinewidth": 0,
             "ticks": ""
            },
            "colorscale": [
             [
              0,
              "#0d0887"
             ],
             [
              0.1111111111111111,
              "#46039f"
             ],
             [
              0.2222222222222222,
              "#7201a8"
             ],
             [
              0.3333333333333333,
              "#9c179e"
             ],
             [
              0.4444444444444444,
              "#bd3786"
             ],
             [
              0.5555555555555556,
              "#d8576b"
             ],
             [
              0.6666666666666666,
              "#ed7953"
             ],
             [
              0.7777777777777778,
              "#fb9f3a"
             ],
             [
              0.8888888888888888,
              "#fdca26"
             ],
             [
              1,
              "#f0f921"
             ]
            ],
            "type": "histogram2d"
           }
          ],
          "histogram2dcontour": [
           {
            "colorbar": {
             "outlinewidth": 0,
             "ticks": ""
            },
            "colorscale": [
             [
              0,
              "#0d0887"
             ],
             [
              0.1111111111111111,
              "#46039f"
             ],
             [
              0.2222222222222222,
              "#7201a8"
             ],
             [
              0.3333333333333333,
              "#9c179e"
             ],
             [
              0.4444444444444444,
              "#bd3786"
             ],
             [
              0.5555555555555556,
              "#d8576b"
             ],
             [
              0.6666666666666666,
              "#ed7953"
             ],
             [
              0.7777777777777778,
              "#fb9f3a"
             ],
             [
              0.8888888888888888,
              "#fdca26"
             ],
             [
              1,
              "#f0f921"
             ]
            ],
            "type": "histogram2dcontour"
           }
          ],
          "mesh3d": [
           {
            "colorbar": {
             "outlinewidth": 0,
             "ticks": ""
            },
            "type": "mesh3d"
           }
          ],
          "parcoords": [
           {
            "line": {
             "colorbar": {
              "outlinewidth": 0,
              "ticks": ""
             }
            },
            "type": "parcoords"
           }
          ],
          "pie": [
           {
            "automargin": true,
            "type": "pie"
           }
          ],
          "scatter": [
           {
            "marker": {
             "colorbar": {
              "outlinewidth": 0,
              "ticks": ""
             }
            },
            "type": "scatter"
           }
          ],
          "scatter3d": [
           {
            "line": {
             "colorbar": {
              "outlinewidth": 0,
              "ticks": ""
             }
            },
            "marker": {
             "colorbar": {
              "outlinewidth": 0,
              "ticks": ""
             }
            },
            "type": "scatter3d"
           }
          ],
          "scattercarpet": [
           {
            "marker": {
             "colorbar": {
              "outlinewidth": 0,
              "ticks": ""
             }
            },
            "type": "scattercarpet"
           }
          ],
          "scattergeo": [
           {
            "marker": {
             "colorbar": {
              "outlinewidth": 0,
              "ticks": ""
             }
            },
            "type": "scattergeo"
           }
          ],
          "scattergl": [
           {
            "marker": {
             "colorbar": {
              "outlinewidth": 0,
              "ticks": ""
             }
            },
            "type": "scattergl"
           }
          ],
          "scattermapbox": [
           {
            "marker": {
             "colorbar": {
              "outlinewidth": 0,
              "ticks": ""
             }
            },
            "type": "scattermapbox"
           }
          ],
          "scatterpolar": [
           {
            "marker": {
             "colorbar": {
              "outlinewidth": 0,
              "ticks": ""
             }
            },
            "type": "scatterpolar"
           }
          ],
          "scatterpolargl": [
           {
            "marker": {
             "colorbar": {
              "outlinewidth": 0,
              "ticks": ""
             }
            },
            "type": "scatterpolargl"
           }
          ],
          "scatterternary": [
           {
            "marker": {
             "colorbar": {
              "outlinewidth": 0,
              "ticks": ""
             }
            },
            "type": "scatterternary"
           }
          ],
          "surface": [
           {
            "colorbar": {
             "outlinewidth": 0,
             "ticks": ""
            },
            "colorscale": [
             [
              0,
              "#0d0887"
             ],
             [
              0.1111111111111111,
              "#46039f"
             ],
             [
              0.2222222222222222,
              "#7201a8"
             ],
             [
              0.3333333333333333,
              "#9c179e"
             ],
             [
              0.4444444444444444,
              "#bd3786"
             ],
             [
              0.5555555555555556,
              "#d8576b"
             ],
             [
              0.6666666666666666,
              "#ed7953"
             ],
             [
              0.7777777777777778,
              "#fb9f3a"
             ],
             [
              0.8888888888888888,
              "#fdca26"
             ],
             [
              1,
              "#f0f921"
             ]
            ],
            "type": "surface"
           }
          ],
          "table": [
           {
            "cells": {
             "fill": {
              "color": "#EBF0F8"
             },
             "line": {
              "color": "white"
             }
            },
            "header": {
             "fill": {
              "color": "#C8D4E3"
             },
             "line": {
              "color": "white"
             }
            },
            "type": "table"
           }
          ]
         },
         "layout": {
          "annotationdefaults": {
           "arrowcolor": "#2a3f5f",
           "arrowhead": 0,
           "arrowwidth": 1
          },
          "autotypenumbers": "strict",
          "coloraxis": {
           "colorbar": {
            "outlinewidth": 0,
            "ticks": ""
           }
          },
          "colorscale": {
           "diverging": [
            [
             0,
             "#8e0152"
            ],
            [
             0.1,
             "#c51b7d"
            ],
            [
             0.2,
             "#de77ae"
            ],
            [
             0.3,
             "#f1b6da"
            ],
            [
             0.4,
             "#fde0ef"
            ],
            [
             0.5,
             "#f7f7f7"
            ],
            [
             0.6,
             "#e6f5d0"
            ],
            [
             0.7,
             "#b8e186"
            ],
            [
             0.8,
             "#7fbc41"
            ],
            [
             0.9,
             "#4d9221"
            ],
            [
             1,
             "#276419"
            ]
           ],
           "sequential": [
            [
             0,
             "#0d0887"
            ],
            [
             0.1111111111111111,
             "#46039f"
            ],
            [
             0.2222222222222222,
             "#7201a8"
            ],
            [
             0.3333333333333333,
             "#9c179e"
            ],
            [
             0.4444444444444444,
             "#bd3786"
            ],
            [
             0.5555555555555556,
             "#d8576b"
            ],
            [
             0.6666666666666666,
             "#ed7953"
            ],
            [
             0.7777777777777778,
             "#fb9f3a"
            ],
            [
             0.8888888888888888,
             "#fdca26"
            ],
            [
             1,
             "#f0f921"
            ]
           ],
           "sequentialminus": [
            [
             0,
             "#0d0887"
            ],
            [
             0.1111111111111111,
             "#46039f"
            ],
            [
             0.2222222222222222,
             "#7201a8"
            ],
            [
             0.3333333333333333,
             "#9c179e"
            ],
            [
             0.4444444444444444,
             "#bd3786"
            ],
            [
             0.5555555555555556,
             "#d8576b"
            ],
            [
             0.6666666666666666,
             "#ed7953"
            ],
            [
             0.7777777777777778,
             "#fb9f3a"
            ],
            [
             0.8888888888888888,
             "#fdca26"
            ],
            [
             1,
             "#f0f921"
            ]
           ]
          },
          "colorway": [
           "#636efa",
           "#EF553B",
           "#00cc96",
           "#ab63fa",
           "#FFA15A",
           "#19d3f3",
           "#FF6692",
           "#B6E880",
           "#FF97FF",
           "#FECB52"
          ],
          "font": {
           "color": "#2a3f5f"
          },
          "geo": {
           "bgcolor": "white",
           "lakecolor": "white",
           "landcolor": "#E5ECF6",
           "showlakes": true,
           "showland": true,
           "subunitcolor": "white"
          },
          "hoverlabel": {
           "align": "left"
          },
          "hovermode": "closest",
          "mapbox": {
           "style": "light"
          },
          "paper_bgcolor": "white",
          "plot_bgcolor": "#E5ECF6",
          "polar": {
           "angularaxis": {
            "gridcolor": "white",
            "linecolor": "white",
            "ticks": ""
           },
           "bgcolor": "#E5ECF6",
           "radialaxis": {
            "gridcolor": "white",
            "linecolor": "white",
            "ticks": ""
           }
          },
          "scene": {
           "xaxis": {
            "backgroundcolor": "#E5ECF6",
            "gridcolor": "white",
            "gridwidth": 2,
            "linecolor": "white",
            "showbackground": true,
            "ticks": "",
            "zerolinecolor": "white"
           },
           "yaxis": {
            "backgroundcolor": "#E5ECF6",
            "gridcolor": "white",
            "gridwidth": 2,
            "linecolor": "white",
            "showbackground": true,
            "ticks": "",
            "zerolinecolor": "white"
           },
           "zaxis": {
            "backgroundcolor": "#E5ECF6",
            "gridcolor": "white",
            "gridwidth": 2,
            "linecolor": "white",
            "showbackground": true,
            "ticks": "",
            "zerolinecolor": "white"
           }
          },
          "shapedefaults": {
           "line": {
            "color": "#2a3f5f"
           }
          },
          "ternary": {
           "aaxis": {
            "gridcolor": "white",
            "linecolor": "white",
            "ticks": ""
           },
           "baxis": {
            "gridcolor": "white",
            "linecolor": "white",
            "ticks": ""
           },
           "bgcolor": "#E5ECF6",
           "caxis": {
            "gridcolor": "white",
            "linecolor": "white",
            "ticks": ""
           }
          },
          "title": {
           "x": 0.05
          },
          "xaxis": {
           "automargin": true,
           "gridcolor": "white",
           "linecolor": "white",
           "ticks": "",
           "title": {
            "standoff": 15
           },
           "zerolinecolor": "white",
           "zerolinewidth": 2
          },
          "yaxis": {
           "automargin": true,
           "gridcolor": "white",
           "linecolor": "white",
           "ticks": "",
           "title": {
            "standoff": 15
           },
           "zerolinecolor": "white",
           "zerolinewidth": 2
          }
         }
        },
        "title": {
         "font": {
          "color": "#4D5663"
         }
        },
        "xaxis": {
         "gridcolor": "#E1E5ED",
         "rangeslider": {
          "visible": false
         },
         "showgrid": true,
         "tickfont": {
          "color": "#4D5663"
         },
         "title": {
          "font": {
           "color": "#4D5663"
          },
          "text": ""
         },
         "zerolinecolor": "#E1E5ED"
        },
        "yaxis": {
         "gridcolor": "#E1E5ED",
         "showgrid": true,
         "showticklabels": false,
         "tickfont": {
          "color": "#4D5663"
         },
         "title": {
          "font": {
           "color": "#4D5663"
          },
          "text": ""
         },
         "zerolinecolor": "#E1E5ED"
        },
        "yaxis2": {
         "gridcolor": "#E1E5ED",
         "showgrid": true,
         "tickfont": {
          "color": "#4D5663"
         },
         "title": {
          "font": {
           "color": "#4D5663"
          },
          "text": ""
         },
         "zerolinecolor": "#E1E5ED"
        }
       }
      },
      "text/html": [
       "<div>                            <div id=\"1a4a5b7f-850f-4f23-9c12-fadbd7bb5be0\" class=\"plotly-graph-div\" style=\"height:525px; width:100%;\"></div>            <script type=\"text/javascript\">                require([\"plotly\"], function(Plotly) {                    window.PLOTLYENV=window.PLOTLYENV || {};\n",
       "                    window.PLOTLYENV.BASE_URL='https://plot.ly';                                    if (document.getElementById(\"1a4a5b7f-850f-4f23-9c12-fadbd7bb5be0\")) {                    Plotly.newPlot(                        \"1a4a5b7f-850f-4f23-9c12-fadbd7bb5be0\",                        [{\"close\":[15.036,15.235,15.437,15.304,15.43,15.493,15.259,15.162,14.976,15.456,15.86,15.562,15.009,14.948,15.369,15.276,15.36,15.674,15.904,15.456,15.739,15.869,15.53,15.573,15.537,15.563,15.563,15.722,15.759,15.896,15.521,15.53,15.325,15.475,15.815,15.904,15.749,15.992,15.422,15.155,15.306,15.201,14.951,15.227,15.396,14.612,14.709,14.719,14.399,14.165,14.436,14.381,14.361,14.426,13.935,13.827,13.827,13.88,14.031,14.031,13.981,13.981,13.703,13.854,13.88,13.678,13.783,14.157,13.854,14.005,13.871,13.988,13.862,14.133,14.549,14.531,14.218,14.292,14.292,14.165,14.399,13.945,14.199,14.125,13.836,14.51,14.529,14.6,14.264,13.553,13.578,14.299,14.85,15.508,15.709,15.781,15.716,15.651,15.558,15.8,16.022,15.762,15.818,15.872,15.808,15.781,15.881,16.101,16.126,15.881,15.694,15.898,16.145,16.385,16.056,16.092,16.073,15.941,15.702,15.213,15.116,14.832,14.636,14.434,14.822,15.044,15.124,15.291,15.116,15.0,15.46,15.426,15.533,15.694,15.517,15.25,15.433,15.426,15.584,15.517,15.533,15.533,15.623,15.373,15.167,15.264,14.901,15.036,14.805,14.657,14.61,14.761,14.822,14.61,14.832,14.813,14.822,14.85,14.619,14.476,14.628,14.582,14.547,14.601,14.564,14.38,14.425,14.476,14.556,14.266,14.106,14.15,13.856,13.777,13.848,13.891,13.938,13.725,13.786,13.777,13.982,13.848,14.007,13.99,13.92,13.91,13.821,13.69,13.734,13.76,13.645,13.626,13.742,13.555,13.655,13.645,13.821,13.92,14.024,13.821,14.15,14.249,14.282,14.249,14.219,14.195,13.982,14.316,14.36,14.166,14.024,14.158,14.134,13.956,14.158,14.555,14.46,14.3,14.46,14.308,14.387,14.679,14.662,14.714,14.441,14.493,14.434,14.555,14.096,13.939,14.024,13.647,13.372,13.618,13.418,13.796,13.991,13.884,14.2,13.601,13.469,13.574,13.418,14.158,14.52,14.722,14.989,15.26,14.954,14.879,15.344,15.801],\"high\":[15.251,15.404,15.503,15.395,15.529,15.493,15.285,15.216,15.422,15.93,15.887,15.628,15.09,15.244,15.554,15.529,15.599,15.904,15.93,15.878,15.984,15.869,15.666,15.59,15.658,15.658,15.797,15.887,15.904,15.92,15.682,15.555,15.422,15.708,16.028,15.984,16.108,16.116,15.475,15.422,15.378,15.269,15.306,15.537,15.422,14.674,14.745,14.745,14.436,14.512,14.512,14.443,14.512,14.504,14.182,13.888,13.917,14.095,14.06,14.192,14.095,14.067,13.703,13.935,13.898,13.836,14.095,14.274,13.917,14.125,13.88,14.031,13.997,14.684,14.602,14.602,14.316,14.309,14.352,14.666,14.399,14.133,14.426,14.133,14.256,14.537,14.6,14.609,14.264,14.397,14.191,14.796,15.274,15.709,15.898,15.818,15.716,15.709,15.677,15.96,16.03,16.048,15.969,16.03,15.922,15.96,16.039,16.245,16.163,15.889,15.79,16.19,16.369,16.413,16.136,16.19,16.126,16.048,15.854,15.232,15.141,14.957,14.85,14.656,15.036,15.106,15.283,15.373,15.213,15.32,15.558,15.651,15.709,15.735,15.567,15.442,15.451,15.623,15.594,15.541,15.614,15.702,15.651,15.409,15.391,15.409,15.079,15.116,14.84,14.733,14.761,14.813,14.832,14.813,14.874,14.832,14.919,14.858,14.647,14.628,14.69,14.628,14.592,14.69,14.574,14.46,14.601,14.706,14.564,14.3,14.21,14.2,13.91,13.955,13.948,13.99,14.016,13.848,13.891,13.948,14.116,14.033,14.125,14.042,13.982,13.955,13.938,13.856,13.812,13.83,13.69,13.742,13.821,13.715,13.76,13.856,13.99,14.062,14.106,14.141,14.258,14.274,14.36,14.3,14.352,14.309,14.282,14.46,14.716,14.192,14.15,14.258,14.15,14.016,14.51,14.563,14.608,14.407,14.502,14.46,14.617,14.722,14.82,14.768,14.52,14.67,14.563,14.785,14.2,14.125,14.062,13.675,13.657,13.675,13.884,13.939,14.062,14.292,14.292,13.743,13.796,13.591,13.911,14.315,14.908,15.034,15.344,15.305,15.163,15.394,15.717,15.913],\"low\":[15.036,15.225,15.333,15.17,15.386,15.276,15.055,14.984,14.976,15.456,15.395,15.18,14.741,14.865,15.153,15.071,15.304,15.58,15.529,15.413,15.682,15.573,15.521,15.438,15.514,15.37,15.555,15.675,15.7,15.53,15.447,15.155,15.227,15.457,15.749,15.648,15.648,15.824,15.172,15.111,15.137,15.032,14.932,15.12,14.659,14.522,14.557,14.477,14.258,14.165,14.343,14.238,14.282,14.005,13.854,13.721,13.748,13.809,13.819,13.871,13.871,13.757,13.035,13.686,13.65,13.586,13.703,14.086,13.721,13.88,13.765,13.871,13.809,14.06,14.333,14.266,14.165,14.165,14.086,14.105,14.165,13.809,14.14,13.871,13.73,14.369,14.387,14.29,13.622,13.545,12.966,14.299,14.85,15.488,15.677,15.594,15.575,15.488,15.116,15.735,15.863,15.633,15.781,15.808,15.725,15.669,15.863,16.03,15.913,15.633,15.541,15.844,16.056,16.013,16.004,16.056,15.889,15.863,15.533,14.975,15.009,14.796,14.609,14.407,14.51,14.84,15.0,15.177,14.967,14.975,15.409,15.409,15.498,15.594,15.409,15.204,15.291,15.365,15.426,15.32,15.417,15.488,15.417,15.097,15.141,15.07,14.85,14.864,14.61,14.582,14.582,14.681,14.647,14.547,14.796,14.664,14.724,14.681,14.442,14.435,14.564,14.484,14.476,14.547,14.36,14.249,14.239,14.46,14.274,14.096,13.982,13.786,13.725,13.777,13.821,13.883,13.715,13.663,13.777,13.725,13.795,13.805,13.91,13.938,13.812,13.752,13.725,13.682,13.582,13.663,13.503,13.616,13.635,13.522,13.513,13.635,13.821,13.92,13.848,13.821,14.087,14.134,14.033,14.116,14.078,14.052,13.982,14.274,14.309,13.948,13.955,14.087,13.875,13.787,14.033,14.407,14.342,14.21,14.134,14.192,14.332,14.45,14.599,14.45,14.308,14.434,14.342,14.315,14.033,13.902,13.778,13.347,13.372,13.418,13.4,13.665,13.856,13.884,13.618,13.372,13.418,13.212,13.372,13.921,14.407,14.705,14.963,15.093,14.889,14.811,15.26,15.606],\"open\":[15.199,15.369,15.413,15.386,15.474,15.333,15.235,15.17,15.36,15.904,15.769,15.207,14.976,15.162,15.323,15.285,15.537,15.896,15.58,15.797,15.975,15.61,15.573,15.555,15.6,15.378,15.7,15.869,15.841,15.53,15.59,15.26,15.26,15.666,16.028,15.708,16.062,15.896,15.172,15.414,15.155,15.057,15.306,15.286,14.659,14.612,14.719,14.512,14.258,14.485,14.399,14.258,14.504,14.086,14.05,13.765,13.898,14.031,14.005,14.06,13.971,13.765,13.435,13.827,13.854,13.809,14.067,14.149,13.845,13.898,13.802,13.961,13.971,14.512,14.566,14.292,14.228,14.248,14.14,14.584,14.218,14.067,14.228,14.095,14.164,14.502,14.563,14.546,14.04,14.387,13.339,14.387,15.264,15.584,15.735,15.641,15.604,15.594,15.651,15.854,15.872,15.913,15.905,15.922,15.8,15.905,16.013,16.163,15.941,15.8,15.684,16.163,16.331,16.013,16.083,16.118,15.951,15.905,15.567,15.036,15.079,14.919,14.681,14.581,15.009,14.901,15.242,15.32,15.167,15.213,15.524,15.604,15.567,15.594,15.417,15.349,15.409,15.623,15.508,15.391,15.498,15.659,15.442,15.141,15.33,15.133,14.984,14.911,14.628,14.681,14.752,14.805,14.664,14.813,14.805,14.796,14.858,14.681,14.442,14.628,14.637,14.556,14.574,14.564,14.451,14.37,14.484,14.538,14.292,14.166,14.166,13.812,13.795,13.839,13.91,13.92,13.768,13.812,13.83,13.91,13.848,13.901,14.062,13.964,13.891,13.839,13.742,13.76,13.626,13.663,13.655,13.725,13.655,13.706,13.626,13.839,13.929,13.998,13.891,14.134,14.175,14.229,14.266,14.239,14.21,14.096,14.2,14.451,14.53,14.096,14.134,14.141,13.939,13.93,14.493,14.45,14.36,14.407,14.249,14.308,14.608,14.59,14.759,14.483,14.416,14.617,14.434,14.387,14.106,13.939,13.778,13.478,13.443,13.515,13.875,13.727,13.875,14.158,13.727,13.487,13.761,13.382,13.761,14.125,14.848,15.024,15.344,15.147,15.129,15.377,15.704,15.881],\"showlegend\":false,\"x\":[\"2015-12-31\",\"2015-12-30\",\"2015-12-29\",\"2015-12-28\",\"2015-12-24\",\"2015-12-23\",\"2015-12-22\",\"2015-12-21\",\"2015-12-18\",\"2015-12-17\",\"2015-12-16\",\"2015-12-15\",\"2015-12-14\",\"2015-12-11\",\"2015-12-10\",\"2015-12-09\",\"2015-12-08\",\"2015-12-07\",\"2015-12-04\",\"2015-12-03\",\"2015-12-02\",\"2015-12-01\",\"2015-11-30\",\"2015-11-27\",\"2015-11-25\",\"2015-11-24\",\"2015-11-23\",\"2015-11-20\",\"2015-11-19\",\"2015-11-18\",\"2015-11-17\",\"2015-11-16\",\"2015-11-13\",\"2015-11-12\",\"2015-11-11\",\"2015-11-10\",\"2015-11-09\",\"2015-11-06\",\"2015-11-05\",\"2015-11-04\",\"2015-11-03\",\"2015-11-02\",\"2015-10-30\",\"2015-10-29\",\"2015-10-28\",\"2015-10-27\",\"2015-10-26\",\"2015-10-23\",\"2015-10-22\",\"2015-10-21\",\"2015-10-20\",\"2015-10-19\",\"2015-10-16\",\"2015-10-15\",\"2015-10-14\",\"2015-10-13\",\"2015-10-12\",\"2015-10-09\",\"2015-10-08\",\"2015-10-07\",\"2015-10-06\",\"2015-10-05\",\"2015-10-02\",\"2015-10-01\",\"2015-09-30\",\"2015-09-29\",\"2015-09-28\",\"2015-09-25\",\"2015-09-24\",\"2015-09-23\",\"2015-09-22\",\"2015-09-21\",\"2015-09-18\",\"2015-09-17\",\"2015-09-16\",\"2015-09-15\",\"2015-09-14\",\"2015-09-11\",\"2015-09-10\",\"2015-09-09\",\"2015-09-08\",\"2015-09-04\",\"2015-09-03\",\"2015-09-02\",\"2015-09-01\",\"2015-08-31\",\"2015-08-28\",\"2015-08-27\",\"2015-08-26\",\"2015-08-25\",\"2015-08-24\",\"2015-08-21\",\"2015-08-20\",\"2015-08-19\",\"2015-08-18\",\"2015-08-17\",\"2015-08-14\",\"2015-08-13\",\"2015-08-12\",\"2015-08-11\",\"2015-08-10\",\"2015-08-07\",\"2015-08-06\",\"2015-08-05\",\"2015-08-04\",\"2015-08-03\",\"2015-07-31\",\"2015-07-30\",\"2015-07-29\",\"2015-07-28\",\"2015-07-27\",\"2015-07-24\",\"2015-07-23\",\"2015-07-22\",\"2015-07-21\",\"2015-07-20\",\"2015-07-17\",\"2015-07-16\",\"2015-07-15\",\"2015-07-14\",\"2015-07-13\",\"2015-07-10\",\"2015-07-09\",\"2015-07-08\",\"2015-07-07\",\"2015-07-06\",\"2015-07-02\",\"2015-07-01\",\"2015-06-30\",\"2015-06-29\",\"2015-06-26\",\"2015-06-25\",\"2015-06-24\",\"2015-06-23\",\"2015-06-22\",\"2015-06-19\",\"2015-06-18\",\"2015-06-17\",\"2015-06-16\",\"2015-06-15\",\"2015-06-12\",\"2015-06-11\",\"2015-06-10\",\"2015-06-09\",\"2015-06-08\",\"2015-06-05\",\"2015-06-04\",\"2015-06-03\",\"2015-06-02\",\"2015-06-01\",\"2015-05-29\",\"2015-05-28\",\"2015-05-27\",\"2015-05-26\",\"2015-05-22\",\"2015-05-21\",\"2015-05-20\",\"2015-05-19\",\"2015-05-18\",\"2015-05-15\",\"2015-05-14\",\"2015-05-13\",\"2015-05-12\",\"2015-05-11\",\"2015-05-08\",\"2015-05-07\",\"2015-05-06\",\"2015-05-05\",\"2015-05-04\",\"2015-05-01\",\"2015-04-30\",\"2015-04-29\",\"2015-04-28\",\"2015-04-27\",\"2015-04-24\",\"2015-04-23\",\"2015-04-22\",\"2015-04-21\",\"2015-04-20\",\"2015-04-17\",\"2015-04-16\",\"2015-04-15\",\"2015-04-14\",\"2015-04-13\",\"2015-04-10\",\"2015-04-09\",\"2015-04-08\",\"2015-04-07\",\"2015-04-06\",\"2015-04-02\",\"2015-04-01\",\"2015-03-31\",\"2015-03-30\",\"2015-03-27\",\"2015-03-26\",\"2015-03-25\",\"2015-03-24\",\"2015-03-23\",\"2015-03-20\",\"2015-03-19\",\"2015-03-18\",\"2015-03-17\",\"2015-03-16\",\"2015-03-13\",\"2015-03-12\",\"2015-03-11\",\"2015-03-10\",\"2015-03-09\",\"2015-03-06\",\"2015-03-05\",\"2015-03-04\",\"2015-03-03\",\"2015-03-02\",\"2015-02-27\",\"2015-02-26\",\"2015-02-25\",\"2015-02-24\",\"2015-02-23\",\"2015-02-20\",\"2015-02-19\",\"2015-02-18\",\"2015-02-17\",\"2015-02-13\",\"2015-02-12\",\"2015-02-11\",\"2015-02-10\",\"2015-02-09\",\"2015-02-06\",\"2015-02-05\",\"2015-02-04\",\"2015-02-03\",\"2015-02-02\",\"2015-01-30\",\"2015-01-29\",\"2015-01-28\",\"2015-01-27\",\"2015-01-26\",\"2015-01-23\",\"2015-01-22\",\"2015-01-21\",\"2015-01-20\",\"2015-01-16\",\"2015-01-15\",\"2015-01-14\",\"2015-01-13\",\"2015-01-12\",\"2015-01-09\",\"2015-01-08\",\"2015-01-07\",\"2015-01-06\",\"2015-01-05\",\"2015-01-02\"],\"yaxis\":\"y2\",\"type\":\"candlestick\"}],                        {\"legend\":{\"bgcolor\":\"#F5F6F9\",\"font\":{\"color\":\"#4D5663\"}},\"paper_bgcolor\":\"#F5F6F9\",\"plot_bgcolor\":\"#F5F6F9\",\"template\":{\"data\":{\"barpolar\":[{\"marker\":{\"line\":{\"color\":\"#E5ECF6\",\"width\":0.5},\"pattern\":{\"fillmode\":\"overlay\",\"size\":10,\"solidity\":0.2}},\"type\":\"barpolar\"}],\"bar\":[{\"error_x\":{\"color\":\"#2a3f5f\"},\"error_y\":{\"color\":\"#2a3f5f\"},\"marker\":{\"line\":{\"color\":\"#E5ECF6\",\"width\":0.5},\"pattern\":{\"fillmode\":\"overlay\",\"size\":10,\"solidity\":0.2}},\"type\":\"bar\"}],\"carpet\":[{\"aaxis\":{\"endlinecolor\":\"#2a3f5f\",\"gridcolor\":\"white\",\"linecolor\":\"white\",\"minorgridcolor\":\"white\",\"startlinecolor\":\"#2a3f5f\"},\"baxis\":{\"endlinecolor\":\"#2a3f5f\",\"gridcolor\":\"white\",\"linecolor\":\"white\",\"minorgridcolor\":\"white\",\"startlinecolor\":\"#2a3f5f\"},\"type\":\"carpet\"}],\"choropleth\":[{\"colorbar\":{\"outlinewidth\":0,\"ticks\":\"\"},\"type\":\"choropleth\"}],\"contourcarpet\":[{\"colorbar\":{\"outlinewidth\":0,\"ticks\":\"\"},\"type\":\"contourcarpet\"}],\"contour\":[{\"colorbar\":{\"outlinewidth\":0,\"ticks\":\"\"},\"colorscale\":[[0.0,\"#0d0887\"],[0.1111111111111111,\"#46039f\"],[0.2222222222222222,\"#7201a8\"],[0.3333333333333333,\"#9c179e\"],[0.4444444444444444,\"#bd3786\"],[0.5555555555555556,\"#d8576b\"],[0.6666666666666666,\"#ed7953\"],[0.7777777777777778,\"#fb9f3a\"],[0.8888888888888888,\"#fdca26\"],[1.0,\"#f0f921\"]],\"type\":\"contour\"}],\"heatmapgl\":[{\"colorbar\":{\"outlinewidth\":0,\"ticks\":\"\"},\"colorscale\":[[0.0,\"#0d0887\"],[0.1111111111111111,\"#46039f\"],[0.2222222222222222,\"#7201a8\"],[0.3333333333333333,\"#9c179e\"],[0.4444444444444444,\"#bd3786\"],[0.5555555555555556,\"#d8576b\"],[0.6666666666666666,\"#ed7953\"],[0.7777777777777778,\"#fb9f3a\"],[0.8888888888888888,\"#fdca26\"],[1.0,\"#f0f921\"]],\"type\":\"heatmapgl\"}],\"heatmap\":[{\"colorbar\":{\"outlinewidth\":0,\"ticks\":\"\"},\"colorscale\":[[0.0,\"#0d0887\"],[0.1111111111111111,\"#46039f\"],[0.2222222222222222,\"#7201a8\"],[0.3333333333333333,\"#9c179e\"],[0.4444444444444444,\"#bd3786\"],[0.5555555555555556,\"#d8576b\"],[0.6666666666666666,\"#ed7953\"],[0.7777777777777778,\"#fb9f3a\"],[0.8888888888888888,\"#fdca26\"],[1.0,\"#f0f921\"]],\"type\":\"heatmap\"}],\"histogram2dcontour\":[{\"colorbar\":{\"outlinewidth\":0,\"ticks\":\"\"},\"colorscale\":[[0.0,\"#0d0887\"],[0.1111111111111111,\"#46039f\"],[0.2222222222222222,\"#7201a8\"],[0.3333333333333333,\"#9c179e\"],[0.4444444444444444,\"#bd3786\"],[0.5555555555555556,\"#d8576b\"],[0.6666666666666666,\"#ed7953\"],[0.7777777777777778,\"#fb9f3a\"],[0.8888888888888888,\"#fdca26\"],[1.0,\"#f0f921\"]],\"type\":\"histogram2dcontour\"}],\"histogram2d\":[{\"colorbar\":{\"outlinewidth\":0,\"ticks\":\"\"},\"colorscale\":[[0.0,\"#0d0887\"],[0.1111111111111111,\"#46039f\"],[0.2222222222222222,\"#7201a8\"],[0.3333333333333333,\"#9c179e\"],[0.4444444444444444,\"#bd3786\"],[0.5555555555555556,\"#d8576b\"],[0.6666666666666666,\"#ed7953\"],[0.7777777777777778,\"#fb9f3a\"],[0.8888888888888888,\"#fdca26\"],[1.0,\"#f0f921\"]],\"type\":\"histogram2d\"}],\"histogram\":[{\"marker\":{\"pattern\":{\"fillmode\":\"overlay\",\"size\":10,\"solidity\":0.2}},\"type\":\"histogram\"}],\"mesh3d\":[{\"colorbar\":{\"outlinewidth\":0,\"ticks\":\"\"},\"type\":\"mesh3d\"}],\"parcoords\":[{\"line\":{\"colorbar\":{\"outlinewidth\":0,\"ticks\":\"\"}},\"type\":\"parcoords\"}],\"pie\":[{\"automargin\":true,\"type\":\"pie\"}],\"scatter3d\":[{\"line\":{\"colorbar\":{\"outlinewidth\":0,\"ticks\":\"\"}},\"marker\":{\"colorbar\":{\"outlinewidth\":0,\"ticks\":\"\"}},\"type\":\"scatter3d\"}],\"scattercarpet\":[{\"marker\":{\"colorbar\":{\"outlinewidth\":0,\"ticks\":\"\"}},\"type\":\"scattercarpet\"}],\"scattergeo\":[{\"marker\":{\"colorbar\":{\"outlinewidth\":0,\"ticks\":\"\"}},\"type\":\"scattergeo\"}],\"scattergl\":[{\"marker\":{\"colorbar\":{\"outlinewidth\":0,\"ticks\":\"\"}},\"type\":\"scattergl\"}],\"scattermapbox\":[{\"marker\":{\"colorbar\":{\"outlinewidth\":0,\"ticks\":\"\"}},\"type\":\"scattermapbox\"}],\"scatterpolargl\":[{\"marker\":{\"colorbar\":{\"outlinewidth\":0,\"ticks\":\"\"}},\"type\":\"scatterpolargl\"}],\"scatterpolar\":[{\"marker\":{\"colorbar\":{\"outlinewidth\":0,\"ticks\":\"\"}},\"type\":\"scatterpolar\"}],\"scatter\":[{\"marker\":{\"colorbar\":{\"outlinewidth\":0,\"ticks\":\"\"}},\"type\":\"scatter\"}],\"scatterternary\":[{\"marker\":{\"colorbar\":{\"outlinewidth\":0,\"ticks\":\"\"}},\"type\":\"scatterternary\"}],\"surface\":[{\"colorbar\":{\"outlinewidth\":0,\"ticks\":\"\"},\"colorscale\":[[0.0,\"#0d0887\"],[0.1111111111111111,\"#46039f\"],[0.2222222222222222,\"#7201a8\"],[0.3333333333333333,\"#9c179e\"],[0.4444444444444444,\"#bd3786\"],[0.5555555555555556,\"#d8576b\"],[0.6666666666666666,\"#ed7953\"],[0.7777777777777778,\"#fb9f3a\"],[0.8888888888888888,\"#fdca26\"],[1.0,\"#f0f921\"]],\"type\":\"surface\"}],\"table\":[{\"cells\":{\"fill\":{\"color\":\"#EBF0F8\"},\"line\":{\"color\":\"white\"}},\"header\":{\"fill\":{\"color\":\"#C8D4E3\"},\"line\":{\"color\":\"white\"}},\"type\":\"table\"}]},\"layout\":{\"annotationdefaults\":{\"arrowcolor\":\"#2a3f5f\",\"arrowhead\":0,\"arrowwidth\":1},\"autotypenumbers\":\"strict\",\"coloraxis\":{\"colorbar\":{\"outlinewidth\":0,\"ticks\":\"\"}},\"colorscale\":{\"diverging\":[[0,\"#8e0152\"],[0.1,\"#c51b7d\"],[0.2,\"#de77ae\"],[0.3,\"#f1b6da\"],[0.4,\"#fde0ef\"],[0.5,\"#f7f7f7\"],[0.6,\"#e6f5d0\"],[0.7,\"#b8e186\"],[0.8,\"#7fbc41\"],[0.9,\"#4d9221\"],[1,\"#276419\"]],\"sequential\":[[0.0,\"#0d0887\"],[0.1111111111111111,\"#46039f\"],[0.2222222222222222,\"#7201a8\"],[0.3333333333333333,\"#9c179e\"],[0.4444444444444444,\"#bd3786\"],[0.5555555555555556,\"#d8576b\"],[0.6666666666666666,\"#ed7953\"],[0.7777777777777778,\"#fb9f3a\"],[0.8888888888888888,\"#fdca26\"],[1.0,\"#f0f921\"]],\"sequentialminus\":[[0.0,\"#0d0887\"],[0.1111111111111111,\"#46039f\"],[0.2222222222222222,\"#7201a8\"],[0.3333333333333333,\"#9c179e\"],[0.4444444444444444,\"#bd3786\"],[0.5555555555555556,\"#d8576b\"],[0.6666666666666666,\"#ed7953\"],[0.7777777777777778,\"#fb9f3a\"],[0.8888888888888888,\"#fdca26\"],[1.0,\"#f0f921\"]]},\"colorway\":[\"#636efa\",\"#EF553B\",\"#00cc96\",\"#ab63fa\",\"#FFA15A\",\"#19d3f3\",\"#FF6692\",\"#B6E880\",\"#FF97FF\",\"#FECB52\"],\"font\":{\"color\":\"#2a3f5f\"},\"geo\":{\"bgcolor\":\"white\",\"lakecolor\":\"white\",\"landcolor\":\"#E5ECF6\",\"showlakes\":true,\"showland\":true,\"subunitcolor\":\"white\"},\"hoverlabel\":{\"align\":\"left\"},\"hovermode\":\"closest\",\"mapbox\":{\"style\":\"light\"},\"paper_bgcolor\":\"white\",\"plot_bgcolor\":\"#E5ECF6\",\"polar\":{\"angularaxis\":{\"gridcolor\":\"white\",\"linecolor\":\"white\",\"ticks\":\"\"},\"bgcolor\":\"#E5ECF6\",\"radialaxis\":{\"gridcolor\":\"white\",\"linecolor\":\"white\",\"ticks\":\"\"}},\"scene\":{\"xaxis\":{\"backgroundcolor\":\"#E5ECF6\",\"gridcolor\":\"white\",\"gridwidth\":2,\"linecolor\":\"white\",\"showbackground\":true,\"ticks\":\"\",\"zerolinecolor\":\"white\"},\"yaxis\":{\"backgroundcolor\":\"#E5ECF6\",\"gridcolor\":\"white\",\"gridwidth\":2,\"linecolor\":\"white\",\"showbackground\":true,\"ticks\":\"\",\"zerolinecolor\":\"white\"},\"zaxis\":{\"backgroundcolor\":\"#E5ECF6\",\"gridcolor\":\"white\",\"gridwidth\":2,\"linecolor\":\"white\",\"showbackground\":true,\"ticks\":\"\",\"zerolinecolor\":\"white\"}},\"shapedefaults\":{\"line\":{\"color\":\"#2a3f5f\"}},\"ternary\":{\"aaxis\":{\"gridcolor\":\"white\",\"linecolor\":\"white\",\"ticks\":\"\"},\"baxis\":{\"gridcolor\":\"white\",\"linecolor\":\"white\",\"ticks\":\"\"},\"bgcolor\":\"#E5ECF6\",\"caxis\":{\"gridcolor\":\"white\",\"linecolor\":\"white\",\"ticks\":\"\"}},\"title\":{\"x\":0.05},\"xaxis\":{\"automargin\":true,\"gridcolor\":\"white\",\"linecolor\":\"white\",\"ticks\":\"\",\"title\":{\"standoff\":15},\"zerolinecolor\":\"white\",\"zerolinewidth\":2},\"yaxis\":{\"automargin\":true,\"gridcolor\":\"white\",\"linecolor\":\"white\",\"ticks\":\"\",\"title\":{\"standoff\":15},\"zerolinecolor\":\"white\",\"zerolinewidth\":2}}},\"title\":{\"font\":{\"color\":\"#4D5663\"}},\"xaxis\":{\"gridcolor\":\"#E1E5ED\",\"rangeslider\":{\"visible\":false},\"showgrid\":true,\"tickfont\":{\"color\":\"#4D5663\"},\"title\":{\"font\":{\"color\":\"#4D5663\"},\"text\":\"\"},\"zerolinecolor\":\"#E1E5ED\"},\"yaxis\":{\"gridcolor\":\"#E1E5ED\",\"showgrid\":true,\"showticklabels\":false,\"tickfont\":{\"color\":\"#4D5663\"},\"title\":{\"font\":{\"color\":\"#4D5663\"},\"text\":\"\"},\"zerolinecolor\":\"#E1E5ED\"},\"yaxis2\":{\"gridcolor\":\"#E1E5ED\",\"showgrid\":true,\"tickfont\":{\"color\":\"#4D5663\"},\"title\":{\"font\":{\"color\":\"#4D5663\"},\"text\":\"\"},\"zerolinecolor\":\"#E1E5ED\"}},                        {\"showLink\": true, \"linkText\": \"Export to plot.ly\", \"plotlyServerURL\": \"https://plot.ly\", \"responsive\": true}                    ).then(function(){\n",
       "                            \n",
       "var gd = document.getElementById('1a4a5b7f-850f-4f23-9c12-fadbd7bb5be0');\n",
       "var x = new MutationObserver(function (mutations, observer) {{\n",
       "        var display = window.getComputedStyle(gd).display;\n",
       "        if (!display || display === 'none') {{\n",
       "            console.log([gd, 'removed!']);\n",
       "            Plotly.purge(gd);\n",
       "            observer.disconnect();\n",
       "        }}\n",
       "}});\n",
       "\n",
       "// Listen for the removal of the full notebook cells\n",
       "var notebookContainer = gd.closest('#notebook-container');\n",
       "if (notebookContainer) {{\n",
       "    x.observe(notebookContainer, {childList: true});\n",
       "}}\n",
       "\n",
       "// Listen for the clearing of the current output cell\n",
       "var outputEl = gd.closest('.output');\n",
       "if (outputEl) {{\n",
       "    x.observe(outputEl, {childList: true});\n",
       "}}\n",
       "\n",
       "                        })                };                });            </script>        </div>"
      ]
     },
     "metadata": {},
     "output_type": "display_data"
    }
   ],
   "source": [
    "BAC_15 = BAC[['Open','High','Low','Close']].loc['2015']\n",
    "\n",
    "BAC_15.iplot(kind='candle')"
   ]
  },
  {
   "cell_type": "markdown",
   "metadata": {},
   "source": [
    "### Simple Moving Average for Morgan Stanley in 2015"
   ]
  },
  {
   "cell_type": "markdown",
   "metadata": {},
   "source": [
    "### Bollinger Band Plot for Bank of America for the year 2015"
   ]
  },
  {
   "cell_type": "code",
   "execution_count": 29,
   "metadata": {},
   "outputs": [
    {
     "data": {
      "application/vnd.plotly.v1+json": {
       "config": {
        "linkText": "Export to plot.ly",
        "plotlyServerURL": "https://plot.ly",
        "showLink": true
       },
       "data": [
        {
         "line": {
          "color": "rgba(255, 153, 51, 1.0)",
          "dash": "solid",
          "shape": "linear",
          "width": 1.3
         },
         "mode": "lines",
         "name": "Close",
         "text": "",
         "type": "scatter",
         "x": [
          "2015-12-31",
          "2015-12-30",
          "2015-12-29",
          "2015-12-28",
          "2015-12-24",
          "2015-12-23",
          "2015-12-22",
          "2015-12-21",
          "2015-12-18",
          "2015-12-17",
          "2015-12-16",
          "2015-12-15",
          "2015-12-14",
          "2015-12-11",
          "2015-12-10",
          "2015-12-09",
          "2015-12-08",
          "2015-12-07",
          "2015-12-04",
          "2015-12-03",
          "2015-12-02",
          "2015-12-01",
          "2015-11-30",
          "2015-11-27",
          "2015-11-25",
          "2015-11-24",
          "2015-11-23",
          "2015-11-20",
          "2015-11-19",
          "2015-11-18",
          "2015-11-17",
          "2015-11-16",
          "2015-11-13",
          "2015-11-12",
          "2015-11-11",
          "2015-11-10",
          "2015-11-09",
          "2015-11-06",
          "2015-11-05",
          "2015-11-04",
          "2015-11-03",
          "2015-11-02",
          "2015-10-30",
          "2015-10-29",
          "2015-10-28",
          "2015-10-27",
          "2015-10-26",
          "2015-10-23",
          "2015-10-22",
          "2015-10-21",
          "2015-10-20",
          "2015-10-19",
          "2015-10-16",
          "2015-10-15",
          "2015-10-14",
          "2015-10-13",
          "2015-10-12",
          "2015-10-09",
          "2015-10-08",
          "2015-10-07",
          "2015-10-06",
          "2015-10-05",
          "2015-10-02",
          "2015-10-01",
          "2015-09-30",
          "2015-09-29",
          "2015-09-28",
          "2015-09-25",
          "2015-09-24",
          "2015-09-23",
          "2015-09-22",
          "2015-09-21",
          "2015-09-18",
          "2015-09-17",
          "2015-09-16",
          "2015-09-15",
          "2015-09-14",
          "2015-09-11",
          "2015-09-10",
          "2015-09-09",
          "2015-09-08",
          "2015-09-04",
          "2015-09-03",
          "2015-09-02",
          "2015-09-01",
          "2015-08-31",
          "2015-08-28",
          "2015-08-27",
          "2015-08-26",
          "2015-08-25",
          "2015-08-24",
          "2015-08-21",
          "2015-08-20",
          "2015-08-19",
          "2015-08-18",
          "2015-08-17",
          "2015-08-14",
          "2015-08-13",
          "2015-08-12",
          "2015-08-11",
          "2015-08-10",
          "2015-08-07",
          "2015-08-06",
          "2015-08-05",
          "2015-08-04",
          "2015-08-03",
          "2015-07-31",
          "2015-07-30",
          "2015-07-29",
          "2015-07-28",
          "2015-07-27",
          "2015-07-24",
          "2015-07-23",
          "2015-07-22",
          "2015-07-21",
          "2015-07-20",
          "2015-07-17",
          "2015-07-16",
          "2015-07-15",
          "2015-07-14",
          "2015-07-13",
          "2015-07-10",
          "2015-07-09",
          "2015-07-08",
          "2015-07-07",
          "2015-07-06",
          "2015-07-02",
          "2015-07-01",
          "2015-06-30",
          "2015-06-29",
          "2015-06-26",
          "2015-06-25",
          "2015-06-24",
          "2015-06-23",
          "2015-06-22",
          "2015-06-19",
          "2015-06-18",
          "2015-06-17",
          "2015-06-16",
          "2015-06-15",
          "2015-06-12",
          "2015-06-11",
          "2015-06-10",
          "2015-06-09",
          "2015-06-08",
          "2015-06-05",
          "2015-06-04",
          "2015-06-03",
          "2015-06-02",
          "2015-06-01",
          "2015-05-29",
          "2015-05-28",
          "2015-05-27",
          "2015-05-26",
          "2015-05-22",
          "2015-05-21",
          "2015-05-20",
          "2015-05-19",
          "2015-05-18",
          "2015-05-15",
          "2015-05-14",
          "2015-05-13",
          "2015-05-12",
          "2015-05-11",
          "2015-05-08",
          "2015-05-07",
          "2015-05-06",
          "2015-05-05",
          "2015-05-04",
          "2015-05-01",
          "2015-04-30",
          "2015-04-29",
          "2015-04-28",
          "2015-04-27",
          "2015-04-24",
          "2015-04-23",
          "2015-04-22",
          "2015-04-21",
          "2015-04-20",
          "2015-04-17",
          "2015-04-16",
          "2015-04-15",
          "2015-04-14",
          "2015-04-13",
          "2015-04-10",
          "2015-04-09",
          "2015-04-08",
          "2015-04-07",
          "2015-04-06",
          "2015-04-02",
          "2015-04-01",
          "2015-03-31",
          "2015-03-30",
          "2015-03-27",
          "2015-03-26",
          "2015-03-25",
          "2015-03-24",
          "2015-03-23",
          "2015-03-20",
          "2015-03-19",
          "2015-03-18",
          "2015-03-17",
          "2015-03-16",
          "2015-03-13",
          "2015-03-12",
          "2015-03-11",
          "2015-03-10",
          "2015-03-09",
          "2015-03-06",
          "2015-03-05",
          "2015-03-04",
          "2015-03-03",
          "2015-03-02",
          "2015-02-27",
          "2015-02-26",
          "2015-02-25",
          "2015-02-24",
          "2015-02-23",
          "2015-02-20",
          "2015-02-19",
          "2015-02-18",
          "2015-02-17",
          "2015-02-13",
          "2015-02-12",
          "2015-02-11",
          "2015-02-10",
          "2015-02-09",
          "2015-02-06",
          "2015-02-05",
          "2015-02-04",
          "2015-02-03",
          "2015-02-02",
          "2015-01-30",
          "2015-01-29",
          "2015-01-28",
          "2015-01-27",
          "2015-01-26",
          "2015-01-23",
          "2015-01-22",
          "2015-01-21",
          "2015-01-20",
          "2015-01-16",
          "2015-01-15",
          "2015-01-14",
          "2015-01-13",
          "2015-01-12",
          "2015-01-09",
          "2015-01-08",
          "2015-01-07",
          "2015-01-06",
          "2015-01-05",
          "2015-01-02"
         ],
         "y": [
          15.036,
          15.235,
          15.437,
          15.304,
          15.43,
          15.493,
          15.259,
          15.162,
          14.976,
          15.456,
          15.86,
          15.562,
          15.009,
          14.948,
          15.369,
          15.276,
          15.36,
          15.674,
          15.904,
          15.456,
          15.739,
          15.869,
          15.53,
          15.573,
          15.537,
          15.563,
          15.563,
          15.722,
          15.759,
          15.896,
          15.521,
          15.53,
          15.325,
          15.475,
          15.815,
          15.904,
          15.749,
          15.992,
          15.422,
          15.155,
          15.306,
          15.201,
          14.951,
          15.227,
          15.396,
          14.612,
          14.709,
          14.719,
          14.399,
          14.165,
          14.436,
          14.381,
          14.361,
          14.426,
          13.935,
          13.827,
          13.827,
          13.88,
          14.031,
          14.031,
          13.981,
          13.981,
          13.703,
          13.854,
          13.88,
          13.678,
          13.783,
          14.157,
          13.854,
          14.005,
          13.871,
          13.988,
          13.862,
          14.133,
          14.549,
          14.531,
          14.218,
          14.292,
          14.292,
          14.165,
          14.399,
          13.945,
          14.199,
          14.125,
          13.836,
          14.51,
          14.529,
          14.6,
          14.264,
          13.553,
          13.578,
          14.299,
          14.85,
          15.508,
          15.709,
          15.781,
          15.716,
          15.651,
          15.558,
          15.8,
          16.022,
          15.762,
          15.818,
          15.872,
          15.808,
          15.781,
          15.881,
          16.101,
          16.126,
          15.881,
          15.694,
          15.898,
          16.145,
          16.385,
          16.056,
          16.092,
          16.073,
          15.941,
          15.702,
          15.213,
          15.116,
          14.832,
          14.636,
          14.434,
          14.822,
          15.044,
          15.124,
          15.291,
          15.116,
          15,
          15.46,
          15.426,
          15.533,
          15.694,
          15.517,
          15.25,
          15.433,
          15.426,
          15.584,
          15.517,
          15.533,
          15.533,
          15.623,
          15.373,
          15.167,
          15.264,
          14.901,
          15.036,
          14.805,
          14.657,
          14.61,
          14.761,
          14.822,
          14.61,
          14.832,
          14.813,
          14.822,
          14.85,
          14.619,
          14.476,
          14.628,
          14.582,
          14.547,
          14.601,
          14.564,
          14.38,
          14.425,
          14.476,
          14.556,
          14.266,
          14.106,
          14.15,
          13.856,
          13.777,
          13.848,
          13.891,
          13.938,
          13.725,
          13.786,
          13.777,
          13.982,
          13.848,
          14.007,
          13.99,
          13.92,
          13.91,
          13.821,
          13.69,
          13.734,
          13.76,
          13.645,
          13.626,
          13.742,
          13.555,
          13.655,
          13.645,
          13.821,
          13.92,
          14.024,
          13.821,
          14.15,
          14.249,
          14.282,
          14.249,
          14.219,
          14.195,
          13.982,
          14.316,
          14.36,
          14.166,
          14.024,
          14.158,
          14.134,
          13.956,
          14.158,
          14.555,
          14.46,
          14.3,
          14.46,
          14.308,
          14.387,
          14.679,
          14.662,
          14.714,
          14.441,
          14.493,
          14.434,
          14.555,
          14.096,
          13.939,
          14.024,
          13.647,
          13.372,
          13.618,
          13.418,
          13.796,
          13.991,
          13.884,
          14.2,
          13.601,
          13.469,
          13.574,
          13.418,
          14.158,
          14.52,
          14.722,
          14.989,
          15.26,
          14.954,
          14.879,
          15.344,
          15.801
         ]
        },
        {
         "line": {
          "color": "rgba(55, 128, 191, 1.0)",
          "dash": "solid",
          "shape": "linear",
          "width": 1.3
         },
         "mode": "lines",
         "name": "SMA(14)",
         "text": "",
         "type": "scatter",
         "x": [
          "2015-12-31",
          "2015-12-30",
          "2015-12-29",
          "2015-12-28",
          "2015-12-24",
          "2015-12-23",
          "2015-12-22",
          "2015-12-21",
          "2015-12-18",
          "2015-12-17",
          "2015-12-16",
          "2015-12-15",
          "2015-12-14",
          "2015-12-11",
          "2015-12-10",
          "2015-12-09",
          "2015-12-08",
          "2015-12-07",
          "2015-12-04",
          "2015-12-03",
          "2015-12-02",
          "2015-12-01",
          "2015-11-30",
          "2015-11-27",
          "2015-11-25",
          "2015-11-24",
          "2015-11-23",
          "2015-11-20",
          "2015-11-19",
          "2015-11-18",
          "2015-11-17",
          "2015-11-16",
          "2015-11-13",
          "2015-11-12",
          "2015-11-11",
          "2015-11-10",
          "2015-11-09",
          "2015-11-06",
          "2015-11-05",
          "2015-11-04",
          "2015-11-03",
          "2015-11-02",
          "2015-10-30",
          "2015-10-29",
          "2015-10-28",
          "2015-10-27",
          "2015-10-26",
          "2015-10-23",
          "2015-10-22",
          "2015-10-21",
          "2015-10-20",
          "2015-10-19",
          "2015-10-16",
          "2015-10-15",
          "2015-10-14",
          "2015-10-13",
          "2015-10-12",
          "2015-10-09",
          "2015-10-08",
          "2015-10-07",
          "2015-10-06",
          "2015-10-05",
          "2015-10-02",
          "2015-10-01",
          "2015-09-30",
          "2015-09-29",
          "2015-09-28",
          "2015-09-25",
          "2015-09-24",
          "2015-09-23",
          "2015-09-22",
          "2015-09-21",
          "2015-09-18",
          "2015-09-17",
          "2015-09-16",
          "2015-09-15",
          "2015-09-14",
          "2015-09-11",
          "2015-09-10",
          "2015-09-09",
          "2015-09-08",
          "2015-09-04",
          "2015-09-03",
          "2015-09-02",
          "2015-09-01",
          "2015-08-31",
          "2015-08-28",
          "2015-08-27",
          "2015-08-26",
          "2015-08-25",
          "2015-08-24",
          "2015-08-21",
          "2015-08-20",
          "2015-08-19",
          "2015-08-18",
          "2015-08-17",
          "2015-08-14",
          "2015-08-13",
          "2015-08-12",
          "2015-08-11",
          "2015-08-10",
          "2015-08-07",
          "2015-08-06",
          "2015-08-05",
          "2015-08-04",
          "2015-08-03",
          "2015-07-31",
          "2015-07-30",
          "2015-07-29",
          "2015-07-28",
          "2015-07-27",
          "2015-07-24",
          "2015-07-23",
          "2015-07-22",
          "2015-07-21",
          "2015-07-20",
          "2015-07-17",
          "2015-07-16",
          "2015-07-15",
          "2015-07-14",
          "2015-07-13",
          "2015-07-10",
          "2015-07-09",
          "2015-07-08",
          "2015-07-07",
          "2015-07-06",
          "2015-07-02",
          "2015-07-01",
          "2015-06-30",
          "2015-06-29",
          "2015-06-26",
          "2015-06-25",
          "2015-06-24",
          "2015-06-23",
          "2015-06-22",
          "2015-06-19",
          "2015-06-18",
          "2015-06-17",
          "2015-06-16",
          "2015-06-15",
          "2015-06-12",
          "2015-06-11",
          "2015-06-10",
          "2015-06-09",
          "2015-06-08",
          "2015-06-05",
          "2015-06-04",
          "2015-06-03",
          "2015-06-02",
          "2015-06-01",
          "2015-05-29",
          "2015-05-28",
          "2015-05-27",
          "2015-05-26",
          "2015-05-22",
          "2015-05-21",
          "2015-05-20",
          "2015-05-19",
          "2015-05-18",
          "2015-05-15",
          "2015-05-14",
          "2015-05-13",
          "2015-05-12",
          "2015-05-11",
          "2015-05-08",
          "2015-05-07",
          "2015-05-06",
          "2015-05-05",
          "2015-05-04",
          "2015-05-01",
          "2015-04-30",
          "2015-04-29",
          "2015-04-28",
          "2015-04-27",
          "2015-04-24",
          "2015-04-23",
          "2015-04-22",
          "2015-04-21",
          "2015-04-20",
          "2015-04-17",
          "2015-04-16",
          "2015-04-15",
          "2015-04-14",
          "2015-04-13",
          "2015-04-10",
          "2015-04-09",
          "2015-04-08",
          "2015-04-07",
          "2015-04-06",
          "2015-04-02",
          "2015-04-01",
          "2015-03-31",
          "2015-03-30",
          "2015-03-27",
          "2015-03-26",
          "2015-03-25",
          "2015-03-24",
          "2015-03-23",
          "2015-03-20",
          "2015-03-19",
          "2015-03-18",
          "2015-03-17",
          "2015-03-16",
          "2015-03-13",
          "2015-03-12",
          "2015-03-11",
          "2015-03-10",
          "2015-03-09",
          "2015-03-06",
          "2015-03-05",
          "2015-03-04",
          "2015-03-03",
          "2015-03-02",
          "2015-02-27",
          "2015-02-26",
          "2015-02-25",
          "2015-02-24",
          "2015-02-23",
          "2015-02-20",
          "2015-02-19",
          "2015-02-18",
          "2015-02-17",
          "2015-02-13",
          "2015-02-12",
          "2015-02-11",
          "2015-02-10",
          "2015-02-09",
          "2015-02-06",
          "2015-02-05",
          "2015-02-04",
          "2015-02-03",
          "2015-02-02",
          "2015-01-30",
          "2015-01-29",
          "2015-01-28",
          "2015-01-27",
          "2015-01-26",
          "2015-01-23",
          "2015-01-22",
          "2015-01-21",
          "2015-01-20",
          "2015-01-16",
          "2015-01-15",
          "2015-01-14",
          "2015-01-13",
          "2015-01-12",
          "2015-01-09",
          "2015-01-08",
          "2015-01-07",
          "2015-01-06",
          "2015-01-05",
          "2015-01-02"
         ],
         "y": [
          "",
          "",
          "",
          "",
          "",
          "",
          "",
          "",
          "",
          "",
          "",
          "",
          "",
          15.297642857142858,
          15.321428571428571,
          15.324357142857144,
          15.318857142857143,
          15.345285714285714,
          15.379142857142856,
          15.376499999999998,
          15.410785714285714,
          15.461285714285713,
          15.500857142857143,
          15.509214285714284,
          15.486142857142857,
          15.486214285714285,
          15.525785714285716,
          15.581071428571429,
          15.608928571428573,
          15.653214285714284,
          15.664714285714286,
          15.654428571428571,
          15.613071428571429,
          15.614428571428572,
          15.619857142857143,
          15.622357142857142,
          15.638000000000002,
          15.667928571428572,
          15.659714285714285,
          15.630571428571429,
          15.612214285714286,
          15.575000000000001,
          15.517285714285714,
          15.4695,
          15.460571428571427,
          15.395,
          15.351,
          15.297,
          15.195857142857145,
          15.071642857142859,
          14.977857142857143,
          14.862785714285716,
          14.787,
          14.73492857142857,
          14.636999999999999,
          14.538857142857141,
          14.45857142857143,
          14.362357142857144,
          14.264857142857144,
          14.223357142857141,
          14.171357142857143,
          14.118642857142857,
          14.068928571428572,
          14.046714285714286,
          14.007,
          13.956785714285713,
          13.9155,
          13.896285714285714,
          13.890500000000001,
          13.903214285714284,
          13.906357142857143,
          13.914071428571429,
          13.902,
          13.909285714285716,
          13.949857142857141,
          13.989142857142856,
          14.02592857142857,
          14.057214285714286,
          14.08664285714286,
          14.121428571428572,
          14.165428571428572,
          14.150285714285713,
          14.174928571428572,
          14.1835,
          14.181,
          14.218285714285713,
          14.265928571428573,
          14.299285714285714,
          14.27892857142857,
          14.209071428571429,
          14.16335714285714,
          14.163857142857141,
          14.203714285714286,
          14.299642857142857,
          14.393214285714285,
          14.524357142857143,
          14.632714285714284,
          14.741714285714286,
          14.864714285714285,
          14.956857142857144,
          15.063500000000001,
          15.1465,
          15.257500000000002,
          15.423142857142858,
          15.58242857142857,
          15.688285714285714,
          15.761928571428571,
          15.804285714285713,
          15.834071428571429,
          15.841214285714285,
          15.839642857142858,
          15.857285714285714,
          15.899214285714285,
          15.941,
          15.943428571428571,
          15.967,
          15.985214285714287,
          15.990142857142857,
          15.98257142857143,
          15.942000000000002,
          15.887357142857143,
          15.796714285714286,
          15.690285714285716,
          15.586928571428572,
          15.52464285714286,
          15.463642857142856,
          15.390714285714285,
          15.312571428571427,
          15.245428571428572,
          15.167428571428571,
          15.123642857142858,
          15.086857142857143,
          15.074785714285715,
          15.109142857142857,
          15.137785714285714,
          15.167642857142857,
          15.224571428571426,
          15.295428571428571,
          15.349857142857145,
          15.383642857142858,
          15.412857142857144,
          15.430142857142858,
          15.466357142857143,
          15.492999999999999,
          15.472071428571427,
          15.4605,
          15.415357142857143,
          15.36835714285714,
          15.317499999999999,
          15.275142857142857,
          15.216357142857143,
          15.16885714285714,
          15.11442857142857,
          15.049642857142857,
          14.999571428571429,
          14.948142857142857,
          14.89092857142857,
          14.85357142857143,
          14.814428571428573,
          14.758142857142857,
          14.738642857142858,
          14.706214285714285,
          14.687785714285715,
          14.683785714285715,
          14.6805,
          14.653285714285715,
          14.624928571428573,
          14.615357142857144,
          14.595642857142858,
          14.55657142857143,
          14.505428571428572,
          14.455428571428572,
          14.40092857142857,
          14.350999999999999,
          14.295285714285715,
          14.245928571428573,
          14.202428571428571,
          14.139857142857142,
          14.084285714285715,
          14.041214285714286,
          14.009571428571428,
          13.964714285714285,
          13.9255,
          13.905785714285713,
          13.8925,
          13.875357142857142,
          13.872857142857143,
          13.866642857142859,
          13.858500000000001,
          13.849142857142857,
          13.828214285714283,
          13.821142857142856,
          13.818,
          13.802142857142856,
          13.778785714285714,
          13.764285714285714,
          13.751000000000001,
          13.745999999999999,
          13.75342857142857,
          13.747071428571427,
          13.770571428571428,
          13.8105,
          13.849642857142857,
          13.884571428571428,
          13.925571428571429,
          13.966214285714287,
          13.983357142857143,
          14.037714285714287,
          14.088071428571428,
          14.125285714285713,
          14.139785714285713,
          14.156785714285716,
          14.164642857142857,
          14.174285714285714,
          14.174857142857144,
          14.196714285714288,
          14.209428571428571,
          14.213071428571428,
          14.230285714285715,
          14.238357142857142,
          14.267285714285714,
          14.293214285714285,
          14.314785714285716,
          14.353928571428572,
          14.383714285714287,
          14.407642857142857,
          14.42907142857143,
          14.471857142857143,
          14.467428571428572,
          14.423428571428571,
          14.392285714285716,
          14.345642857142858,
          14.267928571428572,
          14.218642857142857,
          14.149428571428572,
          14.086357142857143,
          14.03842857142857,
          13.979142857142858,
          13.96192857142857,
          13.898214285714285,
          13.829285714285716,
          13.759214285714284,
          13.710785714285715,
          13.72642857142857,
          13.761857142857142,
          13.838642857142858,
          13.954142857142855,
          14.071428571428571,
          14.181142857142857,
          14.2585,
          14.355142857142857,
          14.492071428571426
         ]
        },
        {
         "line": {
          "color": "rgba(55, 128, 191, 0.8999999999999999)",
          "dash": "solid",
          "shape": "linear",
          "width": 1.3
         },
         "mode": "lines",
         "name": "UPPER(14)",
         "text": "",
         "type": "scatter",
         "x": [
          "2015-12-31",
          "2015-12-30",
          "2015-12-29",
          "2015-12-28",
          "2015-12-24",
          "2015-12-23",
          "2015-12-22",
          "2015-12-21",
          "2015-12-18",
          "2015-12-17",
          "2015-12-16",
          "2015-12-15",
          "2015-12-14",
          "2015-12-11",
          "2015-12-10",
          "2015-12-09",
          "2015-12-08",
          "2015-12-07",
          "2015-12-04",
          "2015-12-03",
          "2015-12-02",
          "2015-12-01",
          "2015-11-30",
          "2015-11-27",
          "2015-11-25",
          "2015-11-24",
          "2015-11-23",
          "2015-11-20",
          "2015-11-19",
          "2015-11-18",
          "2015-11-17",
          "2015-11-16",
          "2015-11-13",
          "2015-11-12",
          "2015-11-11",
          "2015-11-10",
          "2015-11-09",
          "2015-11-06",
          "2015-11-05",
          "2015-11-04",
          "2015-11-03",
          "2015-11-02",
          "2015-10-30",
          "2015-10-29",
          "2015-10-28",
          "2015-10-27",
          "2015-10-26",
          "2015-10-23",
          "2015-10-22",
          "2015-10-21",
          "2015-10-20",
          "2015-10-19",
          "2015-10-16",
          "2015-10-15",
          "2015-10-14",
          "2015-10-13",
          "2015-10-12",
          "2015-10-09",
          "2015-10-08",
          "2015-10-07",
          "2015-10-06",
          "2015-10-05",
          "2015-10-02",
          "2015-10-01",
          "2015-09-30",
          "2015-09-29",
          "2015-09-28",
          "2015-09-25",
          "2015-09-24",
          "2015-09-23",
          "2015-09-22",
          "2015-09-21",
          "2015-09-18",
          "2015-09-17",
          "2015-09-16",
          "2015-09-15",
          "2015-09-14",
          "2015-09-11",
          "2015-09-10",
          "2015-09-09",
          "2015-09-08",
          "2015-09-04",
          "2015-09-03",
          "2015-09-02",
          "2015-09-01",
          "2015-08-31",
          "2015-08-28",
          "2015-08-27",
          "2015-08-26",
          "2015-08-25",
          "2015-08-24",
          "2015-08-21",
          "2015-08-20",
          "2015-08-19",
          "2015-08-18",
          "2015-08-17",
          "2015-08-14",
          "2015-08-13",
          "2015-08-12",
          "2015-08-11",
          "2015-08-10",
          "2015-08-07",
          "2015-08-06",
          "2015-08-05",
          "2015-08-04",
          "2015-08-03",
          "2015-07-31",
          "2015-07-30",
          "2015-07-29",
          "2015-07-28",
          "2015-07-27",
          "2015-07-24",
          "2015-07-23",
          "2015-07-22",
          "2015-07-21",
          "2015-07-20",
          "2015-07-17",
          "2015-07-16",
          "2015-07-15",
          "2015-07-14",
          "2015-07-13",
          "2015-07-10",
          "2015-07-09",
          "2015-07-08",
          "2015-07-07",
          "2015-07-06",
          "2015-07-02",
          "2015-07-01",
          "2015-06-30",
          "2015-06-29",
          "2015-06-26",
          "2015-06-25",
          "2015-06-24",
          "2015-06-23",
          "2015-06-22",
          "2015-06-19",
          "2015-06-18",
          "2015-06-17",
          "2015-06-16",
          "2015-06-15",
          "2015-06-12",
          "2015-06-11",
          "2015-06-10",
          "2015-06-09",
          "2015-06-08",
          "2015-06-05",
          "2015-06-04",
          "2015-06-03",
          "2015-06-02",
          "2015-06-01",
          "2015-05-29",
          "2015-05-28",
          "2015-05-27",
          "2015-05-26",
          "2015-05-22",
          "2015-05-21",
          "2015-05-20",
          "2015-05-19",
          "2015-05-18",
          "2015-05-15",
          "2015-05-14",
          "2015-05-13",
          "2015-05-12",
          "2015-05-11",
          "2015-05-08",
          "2015-05-07",
          "2015-05-06",
          "2015-05-05",
          "2015-05-04",
          "2015-05-01",
          "2015-04-30",
          "2015-04-29",
          "2015-04-28",
          "2015-04-27",
          "2015-04-24",
          "2015-04-23",
          "2015-04-22",
          "2015-04-21",
          "2015-04-20",
          "2015-04-17",
          "2015-04-16",
          "2015-04-15",
          "2015-04-14",
          "2015-04-13",
          "2015-04-10",
          "2015-04-09",
          "2015-04-08",
          "2015-04-07",
          "2015-04-06",
          "2015-04-02",
          "2015-04-01",
          "2015-03-31",
          "2015-03-30",
          "2015-03-27",
          "2015-03-26",
          "2015-03-25",
          "2015-03-24",
          "2015-03-23",
          "2015-03-20",
          "2015-03-19",
          "2015-03-18",
          "2015-03-17",
          "2015-03-16",
          "2015-03-13",
          "2015-03-12",
          "2015-03-11",
          "2015-03-10",
          "2015-03-09",
          "2015-03-06",
          "2015-03-05",
          "2015-03-04",
          "2015-03-03",
          "2015-03-02",
          "2015-02-27",
          "2015-02-26",
          "2015-02-25",
          "2015-02-24",
          "2015-02-23",
          "2015-02-20",
          "2015-02-19",
          "2015-02-18",
          "2015-02-17",
          "2015-02-13",
          "2015-02-12",
          "2015-02-11",
          "2015-02-10",
          "2015-02-09",
          "2015-02-06",
          "2015-02-05",
          "2015-02-04",
          "2015-02-03",
          "2015-02-02",
          "2015-01-30",
          "2015-01-29",
          "2015-01-28",
          "2015-01-27",
          "2015-01-26",
          "2015-01-23",
          "2015-01-22",
          "2015-01-21",
          "2015-01-20",
          "2015-01-16",
          "2015-01-15",
          "2015-01-14",
          "2015-01-13",
          "2015-01-12",
          "2015-01-09",
          "2015-01-08",
          "2015-01-07",
          "2015-01-06",
          "2015-01-05",
          "2015-01-02"
         ],
         "y": [
          "",
          "",
          "",
          "",
          "",
          "",
          "",
          "",
          "",
          "",
          "",
          "",
          "",
          15.820252643705441,
          15.82261406712742,
          15.823843406404528,
          15.814682705944595,
          15.875921575854093,
          15.987811951096266,
          15.983358112931487,
          16.042764866118784,
          16.120050258925698,
          16.097695405779277,
          16.10662314123899,
          16.049152821335518,
          16.04926595902073,
          16.017745173885906,
          15.95253461799792,
          15.970238550669254,
          15.989886853029203,
          15.96754038820819,
          15.965564173115943,
          15.935040814871254,
          15.933694763028782,
          15.95062488116198,
          15.961655611096319,
          15.979144679436297,
          16.0549427546596,
          16.063229172349544,
          16.11499699753753,
          16.126243425008898,
          16.128698057122783,
          16.151023553105247,
          16.080715560615456,
          16.072198119283346,
          16.15371186382427,
          16.19396801654813,
          16.200439240645697,
          16.164205413690727,
          16.093362555914084,
          15.972426970901992,
          15.714421670664862,
          15.612708460377199,
          15.55257414605997,
          15.487750257126041,
          15.42558452517342,
          15.38710466869911,
          15.224684443611563,
          14.903369768908036,
          14.83982080808769,
          14.731610166543303,
          14.588517214910919,
          14.557914627096217,
          14.545066912535274,
          14.458092349405693,
          14.384440628059386,
          14.28233154801002,
          14.162241671971598,
          14.15635218565103,
          14.17298134029343,
          14.173309869462065,
          14.183968804265668,
          14.164381988124855,
          14.191976552287505,
          14.393883377108383,
          14.53147903284255,
          14.55434301500091,
          14.593584524417993,
          14.626328581725899,
          14.607798936344208,
          14.630919355794607,
          14.630517343379896,
          14.624067552341895,
          14.623149335791119,
          14.628629654616784,
          14.683288231116936,
          14.709884538951176,
          14.769611577472553,
          14.726832039246744,
          14.776689644946197,
          14.823434810614932,
          14.824365039341899,
          14.958190335625842,
          15.325589506570862,
          15.667175806343527,
          15.966465984827096,
          16.192668018474215,
          16.360976117266205,
          16.4488400438479,
          16.601035657803425,
          16.78020968828341,
          16.878965872679736,
          16.944945543280856,
          16.820112072627197,
          16.499078899621257,
          16.233521543895286,
          16.024845304998596,
          16.0816518189991,
          16.153700506179625,
          16.160203244839636,
          16.161492900718077,
          16.16116871664155,
          16.186758988402183,
          16.321451553571933,
          16.326532264389567,
          16.34255128708431,
          16.354315629788935,
          16.354544881238148,
          16.367123687127208,
          16.499239349209663,
          16.59900295240124,
          16.690976139835428,
          16.754282368002638,
          16.836126828597635,
          16.836242140963424,
          16.77987047532183,
          16.656492107650443,
          16.441625413595553,
          16.292889887559706,
          16.09962126008858,
          15.920346298597924,
          15.758776486525397,
          15.70380163854122,
          15.818139052051952,
          15.87961512804662,
          15.889844025428047,
          15.88963716935229,
          15.786203603258926,
          15.779690639882196,
          15.783206932792055,
          15.789813257130218,
          15.805217706815673,
          15.807107994443873,
          15.71394203904038,
          15.753663019667046,
          15.762799647573424,
          15.83643824751899,
          15.802159371558563,
          15.835087748041845,
          15.902040398590009,
          15.928097634520002,
          15.908541007613014,
          15.834401098376933,
          15.776764731232886,
          15.678241945339066,
          15.558354349933719,
          15.363178481986496,
          15.23569481926386,
          15.169564700722214,
          15.050592308020589,
          15.026428682573314,
          14.948358779857694,
          14.936719661127288,
          14.936619717076177,
          14.938605226007382,
          14.951980751530632,
          14.929939506199263,
          14.930623679316392,
          14.88609354899197,
          14.867512149398022,
          14.860682512486793,
          14.798611603361438,
          14.856236726949165,
          14.911904215050656,
          14.891508919042266,
          14.854192918964731,
          14.80502230587267,
          14.74608221258366,
          14.665130419373629,
          14.617006010116617,
          14.541531354352937,
          14.428832591965948,
          14.24449336863152,
          14.16208383225548,
          14.121969957812743,
          14.051660390600789,
          14.051322148507777,
          14.064492228196944,
          14.068655619995065,
          14.064662061560128,
          14.06263951220093,
          14.074211236036257,
          14.074024037333288,
          14.09408579903187,
          14.060900997400909,
          14.051890601985326,
          14.005597117634565,
          13.982483208055971,
          14.01828814442288,
          13.999734127758655,
          14.101829835058366,
          14.224379023573286,
          14.330578232390886,
          14.40672419978273,
          14.456754557523805,
          14.485601011987386,
          14.486452550320879,
          14.504581704596024,
          14.528449912141314,
          14.48505267182401,
          14.461023875225619,
          14.452061521283001,
          14.450398650831223,
          14.415770134642017,
          14.416131780043782,
          14.51124292310102,
          14.551952878739732,
          14.558481298178634,
          14.600125953034677,
          14.60980885388626,
          14.615062325673907,
          14.70489241134274,
          14.770800004595909,
          14.847461807335867,
          14.840433979969905,
          14.848239380850615,
          14.840557638667176,
          14.784033480740268,
          14.79988489756971,
          14.854412215084524,
          14.872126988408436,
          14.96947252183469,
          15.074656230854975,
          15.09603851638516,
          15.117780292109215,
          15.020547901549655,
          14.912302955742796,
          14.763632444127955,
          14.712609273514122,
          14.604851905201725,
          14.498035835986556,
          14.292204791371802,
          14.235094594811295,
          14.291547327789914,
          14.455021950496441,
          14.6957738881969,
          14.962796447794377,
          15.274780227758228,
          15.40772305794959,
          15.516644360067364,
          15.727452500861004,
          16.033952889501702
         ]
        },
        {
         "line": {
          "color": "rgba(55, 128, 191, 0.7999999999999998)",
          "dash": "solid",
          "shape": "linear",
          "width": 1.3
         },
         "mode": "lines",
         "name": "LOWER(14)",
         "text": "",
         "type": "scatter",
         "x": [
          "2015-12-31",
          "2015-12-30",
          "2015-12-29",
          "2015-12-28",
          "2015-12-24",
          "2015-12-23",
          "2015-12-22",
          "2015-12-21",
          "2015-12-18",
          "2015-12-17",
          "2015-12-16",
          "2015-12-15",
          "2015-12-14",
          "2015-12-11",
          "2015-12-10",
          "2015-12-09",
          "2015-12-08",
          "2015-12-07",
          "2015-12-04",
          "2015-12-03",
          "2015-12-02",
          "2015-12-01",
          "2015-11-30",
          "2015-11-27",
          "2015-11-25",
          "2015-11-24",
          "2015-11-23",
          "2015-11-20",
          "2015-11-19",
          "2015-11-18",
          "2015-11-17",
          "2015-11-16",
          "2015-11-13",
          "2015-11-12",
          "2015-11-11",
          "2015-11-10",
          "2015-11-09",
          "2015-11-06",
          "2015-11-05",
          "2015-11-04",
          "2015-11-03",
          "2015-11-02",
          "2015-10-30",
          "2015-10-29",
          "2015-10-28",
          "2015-10-27",
          "2015-10-26",
          "2015-10-23",
          "2015-10-22",
          "2015-10-21",
          "2015-10-20",
          "2015-10-19",
          "2015-10-16",
          "2015-10-15",
          "2015-10-14",
          "2015-10-13",
          "2015-10-12",
          "2015-10-09",
          "2015-10-08",
          "2015-10-07",
          "2015-10-06",
          "2015-10-05",
          "2015-10-02",
          "2015-10-01",
          "2015-09-30",
          "2015-09-29",
          "2015-09-28",
          "2015-09-25",
          "2015-09-24",
          "2015-09-23",
          "2015-09-22",
          "2015-09-21",
          "2015-09-18",
          "2015-09-17",
          "2015-09-16",
          "2015-09-15",
          "2015-09-14",
          "2015-09-11",
          "2015-09-10",
          "2015-09-09",
          "2015-09-08",
          "2015-09-04",
          "2015-09-03",
          "2015-09-02",
          "2015-09-01",
          "2015-08-31",
          "2015-08-28",
          "2015-08-27",
          "2015-08-26",
          "2015-08-25",
          "2015-08-24",
          "2015-08-21",
          "2015-08-20",
          "2015-08-19",
          "2015-08-18",
          "2015-08-17",
          "2015-08-14",
          "2015-08-13",
          "2015-08-12",
          "2015-08-11",
          "2015-08-10",
          "2015-08-07",
          "2015-08-06",
          "2015-08-05",
          "2015-08-04",
          "2015-08-03",
          "2015-07-31",
          "2015-07-30",
          "2015-07-29",
          "2015-07-28",
          "2015-07-27",
          "2015-07-24",
          "2015-07-23",
          "2015-07-22",
          "2015-07-21",
          "2015-07-20",
          "2015-07-17",
          "2015-07-16",
          "2015-07-15",
          "2015-07-14",
          "2015-07-13",
          "2015-07-10",
          "2015-07-09",
          "2015-07-08",
          "2015-07-07",
          "2015-07-06",
          "2015-07-02",
          "2015-07-01",
          "2015-06-30",
          "2015-06-29",
          "2015-06-26",
          "2015-06-25",
          "2015-06-24",
          "2015-06-23",
          "2015-06-22",
          "2015-06-19",
          "2015-06-18",
          "2015-06-17",
          "2015-06-16",
          "2015-06-15",
          "2015-06-12",
          "2015-06-11",
          "2015-06-10",
          "2015-06-09",
          "2015-06-08",
          "2015-06-05",
          "2015-06-04",
          "2015-06-03",
          "2015-06-02",
          "2015-06-01",
          "2015-05-29",
          "2015-05-28",
          "2015-05-27",
          "2015-05-26",
          "2015-05-22",
          "2015-05-21",
          "2015-05-20",
          "2015-05-19",
          "2015-05-18",
          "2015-05-15",
          "2015-05-14",
          "2015-05-13",
          "2015-05-12",
          "2015-05-11",
          "2015-05-08",
          "2015-05-07",
          "2015-05-06",
          "2015-05-05",
          "2015-05-04",
          "2015-05-01",
          "2015-04-30",
          "2015-04-29",
          "2015-04-28",
          "2015-04-27",
          "2015-04-24",
          "2015-04-23",
          "2015-04-22",
          "2015-04-21",
          "2015-04-20",
          "2015-04-17",
          "2015-04-16",
          "2015-04-15",
          "2015-04-14",
          "2015-04-13",
          "2015-04-10",
          "2015-04-09",
          "2015-04-08",
          "2015-04-07",
          "2015-04-06",
          "2015-04-02",
          "2015-04-01",
          "2015-03-31",
          "2015-03-30",
          "2015-03-27",
          "2015-03-26",
          "2015-03-25",
          "2015-03-24",
          "2015-03-23",
          "2015-03-20",
          "2015-03-19",
          "2015-03-18",
          "2015-03-17",
          "2015-03-16",
          "2015-03-13",
          "2015-03-12",
          "2015-03-11",
          "2015-03-10",
          "2015-03-09",
          "2015-03-06",
          "2015-03-05",
          "2015-03-04",
          "2015-03-03",
          "2015-03-02",
          "2015-02-27",
          "2015-02-26",
          "2015-02-25",
          "2015-02-24",
          "2015-02-23",
          "2015-02-20",
          "2015-02-19",
          "2015-02-18",
          "2015-02-17",
          "2015-02-13",
          "2015-02-12",
          "2015-02-11",
          "2015-02-10",
          "2015-02-09",
          "2015-02-06",
          "2015-02-05",
          "2015-02-04",
          "2015-02-03",
          "2015-02-02",
          "2015-01-30",
          "2015-01-29",
          "2015-01-28",
          "2015-01-27",
          "2015-01-26",
          "2015-01-23",
          "2015-01-22",
          "2015-01-21",
          "2015-01-20",
          "2015-01-16",
          "2015-01-15",
          "2015-01-14",
          "2015-01-13",
          "2015-01-12",
          "2015-01-09",
          "2015-01-08",
          "2015-01-07",
          "2015-01-06",
          "2015-01-05",
          "2015-01-02"
         ],
         "y": [
          "",
          "",
          "",
          "",
          "",
          "",
          "",
          "",
          "",
          "",
          "",
          "",
          "",
          14.775033070580275,
          14.820243075729723,
          14.82487087930976,
          14.82303157976969,
          14.814649852717334,
          14.770473763189447,
          14.76964188706851,
          14.778806562452644,
          14.80252116964573,
          14.904018879935007,
          14.911805430189577,
          14.923132892950198,
          14.923162612407841,
          15.033826254685527,
          15.209608239144938,
          15.24761859218789,
          15.316541718399366,
          15.361888183220382,
          15.3432929697412,
          15.291102042271604,
          15.295162379828362,
          15.289089404552305,
          15.283058674617966,
          15.296855320563706,
          15.280914388197544,
          15.256199399079028,
          15.146145859605324,
          15.098185146419675,
          15.021301942877221,
          14.883547875466181,
          14.858284439384544,
          14.848944737859506,
          14.636288136175727,
          14.508031983451872,
          14.393560759354305,
          14.227508872023565,
          14.049923158371636,
          13.983287314812294,
          14.01114975790657,
          13.961291539622803,
          13.917282996797171,
          13.786249742873956,
          13.652129760540863,
          13.53003818844375,
          13.500029842102725,
          13.626344516806252,
          13.606893477626592,
          13.611104119170983,
          13.648768499374796,
          13.579942515760926,
          13.548361658893297,
          13.555907650594307,
          13.529130800512041,
          13.548668451989979,
          13.63032975659983,
          13.624647814348972,
          13.633447231135138,
          13.639404416252221,
          13.64417405287719,
          13.639618011875143,
          13.626594876283926,
          13.5058309086059,
          13.446806681443162,
          13.497514127856231,
          13.520844047010579,
          13.54695713255982,
          13.635058206512936,
          13.699937787062538,
          13.67005408519153,
          13.725789590515248,
          13.743850664208882,
          13.733370345383214,
          13.75328319745449,
          13.82197260390597,
          13.828959851098876,
          13.831025103610397,
          13.64145321219666,
          13.50327947509935,
          13.503349246372384,
          13.44923823580273,
          13.27369620771485,
          13.119252765085042,
          13.08224830088719,
          13.072760552954351,
          13.122452454162369,
          13.28058852758067,
          13.312678627910861,
          13.346790311716592,
          13.414034127320264,
          13.570054456719149,
          14.026173641658518,
          14.665778243235886,
          15.143049884676143,
          15.499011837858546,
          15.526919609572328,
          15.514442350963233,
          15.522225326588934,
          15.51779281356764,
          15.553402711929879,
          15.611669583026389,
          15.560548446428069,
          15.560324878467577,
          15.591448712915692,
          15.616112941639638,
          15.625740833047567,
          15.598019170015654,
          15.384760650790342,
          15.175711333313044,
          14.902452431593142,
          14.626289060568794,
          14.337730314259511,
          14.213043573322294,
          14.147415238963886,
          14.124936463778127,
          14.183517443547304,
          14.197967255297439,
          14.235235882768563,
          14.326939415687793,
          14.41493779918889,
          14.44576979003021,
          14.40014666223376,
          14.395956300524809,
          14.445441688857667,
          14.559505687790562,
          14.804653539598217,
          14.920023645832094,
          14.984078781493661,
          15.03590102858407,
          15.055068007470043,
          15.125606291270413,
          15.272057960959618,
          15.190479837475808,
          15.158200352426576,
          14.994276038195297,
          14.934554914155719,
          14.799912251958153,
          14.648245315695705,
          14.504616651194285,
          14.429173278101267,
          14.394456044480208,
          14.322520983052828,
          14.320900911803792,
          14.337931364351995,
          14.418678660870645,
          14.471448037878998,
          14.459292442134933,
          14.465693406265126,
          14.450857031712403,
          14.464069791570877,
          14.438851767444142,
          14.430951711495254,
          14.422394773992618,
          14.354590677040798,
          14.319917636657882,
          14.300090606397896,
          14.305192165293745,
          14.245630707744839,
          14.150174630370351,
          14.112245539495705,
          13.945620415907976,
          13.790095784949342,
          13.699062509529163,
          13.637664223892415,
          13.599834836984472,
          13.533632073130624,
          13.5034410091978,
          13.465422561311955,
          13.47761150278992,
          13.500595979462622,
          13.606506631368479,
          13.649487596315947,
          13.663030042187257,
          13.699053895113495,
          13.694392137206508,
          13.668793486088774,
          13.648344380004938,
          13.633623652725586,
          13.593789059227637,
          13.568074478249455,
          13.561975962666711,
          13.510199915253843,
          13.49667043117052,
          13.476680826586103,
          13.496402882365437,
          13.509516791944026,
          13.488568998434259,
          13.4944087293842,
          13.43931302208449,
          13.396620976426712,
          13.368707481894829,
          13.362418657360127,
          13.394388299619052,
          13.446827559441187,
          13.480261735393407,
          13.57084686683255,
          13.647692945001543,
          13.765518756747417,
          13.818547553345807,
          13.861509907288431,
          13.87888706345449,
          13.932801293929412,
          13.933582505670506,
          13.882185648327555,
          13.86690426411741,
          13.867661558964222,
          13.860445475536753,
          13.866905431828023,
          13.919509102897521,
          13.88153616008583,
          13.858771423975522,
          13.860395335521277,
          13.92699459145867,
          13.9670463334351,
          14.017585218475682,
          14.159680804974018,
          14.134972245287434,
          13.992444927772619,
          13.912444440162997,
          13.721813192451025,
          13.461200912002168,
          13.341247197900554,
          13.18107685074793,
          13.15216638416463,
          13.164554187114344,
          13.19465327015776,
          13.211247869343019,
          13.191576666226846,
          13.160535592584875,
          13.226223780056767,
          13.186476833760134,
          13.161309815067227,
          13.068692335217843,
          12.981511826088816,
          12.945489266491334,
          12.868076915098914,
          12.954562656336124,
          13.000355639932636,
          12.98283321342471,
          12.95018996764115
         ]
        }
       ],
       "layout": {
        "legend": {
         "bgcolor": "#F5F6F9",
         "font": {
          "color": "#4D5663"
         }
        },
        "paper_bgcolor": "#F5F6F9",
        "plot_bgcolor": "#F5F6F9",
        "template": {
         "data": {
          "bar": [
           {
            "error_x": {
             "color": "#2a3f5f"
            },
            "error_y": {
             "color": "#2a3f5f"
            },
            "marker": {
             "line": {
              "color": "#E5ECF6",
              "width": 0.5
             },
             "pattern": {
              "fillmode": "overlay",
              "size": 10,
              "solidity": 0.2
             }
            },
            "type": "bar"
           }
          ],
          "barpolar": [
           {
            "marker": {
             "line": {
              "color": "#E5ECF6",
              "width": 0.5
             },
             "pattern": {
              "fillmode": "overlay",
              "size": 10,
              "solidity": 0.2
             }
            },
            "type": "barpolar"
           }
          ],
          "carpet": [
           {
            "aaxis": {
             "endlinecolor": "#2a3f5f",
             "gridcolor": "white",
             "linecolor": "white",
             "minorgridcolor": "white",
             "startlinecolor": "#2a3f5f"
            },
            "baxis": {
             "endlinecolor": "#2a3f5f",
             "gridcolor": "white",
             "linecolor": "white",
             "minorgridcolor": "white",
             "startlinecolor": "#2a3f5f"
            },
            "type": "carpet"
           }
          ],
          "choropleth": [
           {
            "colorbar": {
             "outlinewidth": 0,
             "ticks": ""
            },
            "type": "choropleth"
           }
          ],
          "contour": [
           {
            "colorbar": {
             "outlinewidth": 0,
             "ticks": ""
            },
            "colorscale": [
             [
              0,
              "#0d0887"
             ],
             [
              0.1111111111111111,
              "#46039f"
             ],
             [
              0.2222222222222222,
              "#7201a8"
             ],
             [
              0.3333333333333333,
              "#9c179e"
             ],
             [
              0.4444444444444444,
              "#bd3786"
             ],
             [
              0.5555555555555556,
              "#d8576b"
             ],
             [
              0.6666666666666666,
              "#ed7953"
             ],
             [
              0.7777777777777778,
              "#fb9f3a"
             ],
             [
              0.8888888888888888,
              "#fdca26"
             ],
             [
              1,
              "#f0f921"
             ]
            ],
            "type": "contour"
           }
          ],
          "contourcarpet": [
           {
            "colorbar": {
             "outlinewidth": 0,
             "ticks": ""
            },
            "type": "contourcarpet"
           }
          ],
          "heatmap": [
           {
            "colorbar": {
             "outlinewidth": 0,
             "ticks": ""
            },
            "colorscale": [
             [
              0,
              "#0d0887"
             ],
             [
              0.1111111111111111,
              "#46039f"
             ],
             [
              0.2222222222222222,
              "#7201a8"
             ],
             [
              0.3333333333333333,
              "#9c179e"
             ],
             [
              0.4444444444444444,
              "#bd3786"
             ],
             [
              0.5555555555555556,
              "#d8576b"
             ],
             [
              0.6666666666666666,
              "#ed7953"
             ],
             [
              0.7777777777777778,
              "#fb9f3a"
             ],
             [
              0.8888888888888888,
              "#fdca26"
             ],
             [
              1,
              "#f0f921"
             ]
            ],
            "type": "heatmap"
           }
          ],
          "heatmapgl": [
           {
            "colorbar": {
             "outlinewidth": 0,
             "ticks": ""
            },
            "colorscale": [
             [
              0,
              "#0d0887"
             ],
             [
              0.1111111111111111,
              "#46039f"
             ],
             [
              0.2222222222222222,
              "#7201a8"
             ],
             [
              0.3333333333333333,
              "#9c179e"
             ],
             [
              0.4444444444444444,
              "#bd3786"
             ],
             [
              0.5555555555555556,
              "#d8576b"
             ],
             [
              0.6666666666666666,
              "#ed7953"
             ],
             [
              0.7777777777777778,
              "#fb9f3a"
             ],
             [
              0.8888888888888888,
              "#fdca26"
             ],
             [
              1,
              "#f0f921"
             ]
            ],
            "type": "heatmapgl"
           }
          ],
          "histogram": [
           {
            "marker": {
             "pattern": {
              "fillmode": "overlay",
              "size": 10,
              "solidity": 0.2
             }
            },
            "type": "histogram"
           }
          ],
          "histogram2d": [
           {
            "colorbar": {
             "outlinewidth": 0,
             "ticks": ""
            },
            "colorscale": [
             [
              0,
              "#0d0887"
             ],
             [
              0.1111111111111111,
              "#46039f"
             ],
             [
              0.2222222222222222,
              "#7201a8"
             ],
             [
              0.3333333333333333,
              "#9c179e"
             ],
             [
              0.4444444444444444,
              "#bd3786"
             ],
             [
              0.5555555555555556,
              "#d8576b"
             ],
             [
              0.6666666666666666,
              "#ed7953"
             ],
             [
              0.7777777777777778,
              "#fb9f3a"
             ],
             [
              0.8888888888888888,
              "#fdca26"
             ],
             [
              1,
              "#f0f921"
             ]
            ],
            "type": "histogram2d"
           }
          ],
          "histogram2dcontour": [
           {
            "colorbar": {
             "outlinewidth": 0,
             "ticks": ""
            },
            "colorscale": [
             [
              0,
              "#0d0887"
             ],
             [
              0.1111111111111111,
              "#46039f"
             ],
             [
              0.2222222222222222,
              "#7201a8"
             ],
             [
              0.3333333333333333,
              "#9c179e"
             ],
             [
              0.4444444444444444,
              "#bd3786"
             ],
             [
              0.5555555555555556,
              "#d8576b"
             ],
             [
              0.6666666666666666,
              "#ed7953"
             ],
             [
              0.7777777777777778,
              "#fb9f3a"
             ],
             [
              0.8888888888888888,
              "#fdca26"
             ],
             [
              1,
              "#f0f921"
             ]
            ],
            "type": "histogram2dcontour"
           }
          ],
          "mesh3d": [
           {
            "colorbar": {
             "outlinewidth": 0,
             "ticks": ""
            },
            "type": "mesh3d"
           }
          ],
          "parcoords": [
           {
            "line": {
             "colorbar": {
              "outlinewidth": 0,
              "ticks": ""
             }
            },
            "type": "parcoords"
           }
          ],
          "pie": [
           {
            "automargin": true,
            "type": "pie"
           }
          ],
          "scatter": [
           {
            "marker": {
             "colorbar": {
              "outlinewidth": 0,
              "ticks": ""
             }
            },
            "type": "scatter"
           }
          ],
          "scatter3d": [
           {
            "line": {
             "colorbar": {
              "outlinewidth": 0,
              "ticks": ""
             }
            },
            "marker": {
             "colorbar": {
              "outlinewidth": 0,
              "ticks": ""
             }
            },
            "type": "scatter3d"
           }
          ],
          "scattercarpet": [
           {
            "marker": {
             "colorbar": {
              "outlinewidth": 0,
              "ticks": ""
             }
            },
            "type": "scattercarpet"
           }
          ],
          "scattergeo": [
           {
            "marker": {
             "colorbar": {
              "outlinewidth": 0,
              "ticks": ""
             }
            },
            "type": "scattergeo"
           }
          ],
          "scattergl": [
           {
            "marker": {
             "colorbar": {
              "outlinewidth": 0,
              "ticks": ""
             }
            },
            "type": "scattergl"
           }
          ],
          "scattermapbox": [
           {
            "marker": {
             "colorbar": {
              "outlinewidth": 0,
              "ticks": ""
             }
            },
            "type": "scattermapbox"
           }
          ],
          "scatterpolar": [
           {
            "marker": {
             "colorbar": {
              "outlinewidth": 0,
              "ticks": ""
             }
            },
            "type": "scatterpolar"
           }
          ],
          "scatterpolargl": [
           {
            "marker": {
             "colorbar": {
              "outlinewidth": 0,
              "ticks": ""
             }
            },
            "type": "scatterpolargl"
           }
          ],
          "scatterternary": [
           {
            "marker": {
             "colorbar": {
              "outlinewidth": 0,
              "ticks": ""
             }
            },
            "type": "scatterternary"
           }
          ],
          "surface": [
           {
            "colorbar": {
             "outlinewidth": 0,
             "ticks": ""
            },
            "colorscale": [
             [
              0,
              "#0d0887"
             ],
             [
              0.1111111111111111,
              "#46039f"
             ],
             [
              0.2222222222222222,
              "#7201a8"
             ],
             [
              0.3333333333333333,
              "#9c179e"
             ],
             [
              0.4444444444444444,
              "#bd3786"
             ],
             [
              0.5555555555555556,
              "#d8576b"
             ],
             [
              0.6666666666666666,
              "#ed7953"
             ],
             [
              0.7777777777777778,
              "#fb9f3a"
             ],
             [
              0.8888888888888888,
              "#fdca26"
             ],
             [
              1,
              "#f0f921"
             ]
            ],
            "type": "surface"
           }
          ],
          "table": [
           {
            "cells": {
             "fill": {
              "color": "#EBF0F8"
             },
             "line": {
              "color": "white"
             }
            },
            "header": {
             "fill": {
              "color": "#C8D4E3"
             },
             "line": {
              "color": "white"
             }
            },
            "type": "table"
           }
          ]
         },
         "layout": {
          "annotationdefaults": {
           "arrowcolor": "#2a3f5f",
           "arrowhead": 0,
           "arrowwidth": 1
          },
          "autotypenumbers": "strict",
          "coloraxis": {
           "colorbar": {
            "outlinewidth": 0,
            "ticks": ""
           }
          },
          "colorscale": {
           "diverging": [
            [
             0,
             "#8e0152"
            ],
            [
             0.1,
             "#c51b7d"
            ],
            [
             0.2,
             "#de77ae"
            ],
            [
             0.3,
             "#f1b6da"
            ],
            [
             0.4,
             "#fde0ef"
            ],
            [
             0.5,
             "#f7f7f7"
            ],
            [
             0.6,
             "#e6f5d0"
            ],
            [
             0.7,
             "#b8e186"
            ],
            [
             0.8,
             "#7fbc41"
            ],
            [
             0.9,
             "#4d9221"
            ],
            [
             1,
             "#276419"
            ]
           ],
           "sequential": [
            [
             0,
             "#0d0887"
            ],
            [
             0.1111111111111111,
             "#46039f"
            ],
            [
             0.2222222222222222,
             "#7201a8"
            ],
            [
             0.3333333333333333,
             "#9c179e"
            ],
            [
             0.4444444444444444,
             "#bd3786"
            ],
            [
             0.5555555555555556,
             "#d8576b"
            ],
            [
             0.6666666666666666,
             "#ed7953"
            ],
            [
             0.7777777777777778,
             "#fb9f3a"
            ],
            [
             0.8888888888888888,
             "#fdca26"
            ],
            [
             1,
             "#f0f921"
            ]
           ],
           "sequentialminus": [
            [
             0,
             "#0d0887"
            ],
            [
             0.1111111111111111,
             "#46039f"
            ],
            [
             0.2222222222222222,
             "#7201a8"
            ],
            [
             0.3333333333333333,
             "#9c179e"
            ],
            [
             0.4444444444444444,
             "#bd3786"
            ],
            [
             0.5555555555555556,
             "#d8576b"
            ],
            [
             0.6666666666666666,
             "#ed7953"
            ],
            [
             0.7777777777777778,
             "#fb9f3a"
            ],
            [
             0.8888888888888888,
             "#fdca26"
            ],
            [
             1,
             "#f0f921"
            ]
           ]
          },
          "colorway": [
           "#636efa",
           "#EF553B",
           "#00cc96",
           "#ab63fa",
           "#FFA15A",
           "#19d3f3",
           "#FF6692",
           "#B6E880",
           "#FF97FF",
           "#FECB52"
          ],
          "font": {
           "color": "#2a3f5f"
          },
          "geo": {
           "bgcolor": "white",
           "lakecolor": "white",
           "landcolor": "#E5ECF6",
           "showlakes": true,
           "showland": true,
           "subunitcolor": "white"
          },
          "hoverlabel": {
           "align": "left"
          },
          "hovermode": "closest",
          "mapbox": {
           "style": "light"
          },
          "paper_bgcolor": "white",
          "plot_bgcolor": "#E5ECF6",
          "polar": {
           "angularaxis": {
            "gridcolor": "white",
            "linecolor": "white",
            "ticks": ""
           },
           "bgcolor": "#E5ECF6",
           "radialaxis": {
            "gridcolor": "white",
            "linecolor": "white",
            "ticks": ""
           }
          },
          "scene": {
           "xaxis": {
            "backgroundcolor": "#E5ECF6",
            "gridcolor": "white",
            "gridwidth": 2,
            "linecolor": "white",
            "showbackground": true,
            "ticks": "",
            "zerolinecolor": "white"
           },
           "yaxis": {
            "backgroundcolor": "#E5ECF6",
            "gridcolor": "white",
            "gridwidth": 2,
            "linecolor": "white",
            "showbackground": true,
            "ticks": "",
            "zerolinecolor": "white"
           },
           "zaxis": {
            "backgroundcolor": "#E5ECF6",
            "gridcolor": "white",
            "gridwidth": 2,
            "linecolor": "white",
            "showbackground": true,
            "ticks": "",
            "zerolinecolor": "white"
           }
          },
          "shapedefaults": {
           "line": {
            "color": "#2a3f5f"
           }
          },
          "ternary": {
           "aaxis": {
            "gridcolor": "white",
            "linecolor": "white",
            "ticks": ""
           },
           "baxis": {
            "gridcolor": "white",
            "linecolor": "white",
            "ticks": ""
           },
           "bgcolor": "#E5ECF6",
           "caxis": {
            "gridcolor": "white",
            "linecolor": "white",
            "ticks": ""
           }
          },
          "title": {
           "x": 0.05
          },
          "xaxis": {
           "automargin": true,
           "gridcolor": "white",
           "linecolor": "white",
           "ticks": "",
           "title": {
            "standoff": 15
           },
           "zerolinecolor": "white",
           "zerolinewidth": 2
          },
          "yaxis": {
           "automargin": true,
           "gridcolor": "white",
           "linecolor": "white",
           "ticks": "",
           "title": {
            "standoff": 15
           },
           "zerolinecolor": "white",
           "zerolinewidth": 2
          }
         }
        },
        "title": {
         "font": {
          "color": "#4D5663"
         }
        },
        "xaxis": {
         "gridcolor": "#E1E5ED",
         "showgrid": true,
         "tickfont": {
          "color": "#4D5663"
         },
         "title": {
          "font": {
           "color": "#4D5663"
          },
          "text": ""
         },
         "zerolinecolor": "#E1E5ED"
        },
        "yaxis": {
         "gridcolor": "#E1E5ED",
         "showgrid": true,
         "tickfont": {
          "color": "#4D5663"
         },
         "title": {
          "font": {
           "color": "#4D5663"
          },
          "text": ""
         },
         "zerolinecolor": "#E1E5ED"
        }
       }
      },
      "text/html": [
       "<div>                            <div id=\"9c1f4eeb-7d44-4fab-9073-e904f93856ad\" class=\"plotly-graph-div\" style=\"height:525px; width:100%;\"></div>            <script type=\"text/javascript\">                require([\"plotly\"], function(Plotly) {                    window.PLOTLYENV=window.PLOTLYENV || {};\n",
       "                    window.PLOTLYENV.BASE_URL='https://plot.ly';                                    if (document.getElementById(\"9c1f4eeb-7d44-4fab-9073-e904f93856ad\")) {                    Plotly.newPlot(                        \"9c1f4eeb-7d44-4fab-9073-e904f93856ad\",                        [{\"line\":{\"color\":\"rgba(255, 153, 51, 1.0)\",\"dash\":\"solid\",\"shape\":\"linear\",\"width\":1.3},\"mode\":\"lines\",\"name\":\"Close\",\"text\":\"\",\"x\":[\"2015-12-31\",\"2015-12-30\",\"2015-12-29\",\"2015-12-28\",\"2015-12-24\",\"2015-12-23\",\"2015-12-22\",\"2015-12-21\",\"2015-12-18\",\"2015-12-17\",\"2015-12-16\",\"2015-12-15\",\"2015-12-14\",\"2015-12-11\",\"2015-12-10\",\"2015-12-09\",\"2015-12-08\",\"2015-12-07\",\"2015-12-04\",\"2015-12-03\",\"2015-12-02\",\"2015-12-01\",\"2015-11-30\",\"2015-11-27\",\"2015-11-25\",\"2015-11-24\",\"2015-11-23\",\"2015-11-20\",\"2015-11-19\",\"2015-11-18\",\"2015-11-17\",\"2015-11-16\",\"2015-11-13\",\"2015-11-12\",\"2015-11-11\",\"2015-11-10\",\"2015-11-09\",\"2015-11-06\",\"2015-11-05\",\"2015-11-04\",\"2015-11-03\",\"2015-11-02\",\"2015-10-30\",\"2015-10-29\",\"2015-10-28\",\"2015-10-27\",\"2015-10-26\",\"2015-10-23\",\"2015-10-22\",\"2015-10-21\",\"2015-10-20\",\"2015-10-19\",\"2015-10-16\",\"2015-10-15\",\"2015-10-14\",\"2015-10-13\",\"2015-10-12\",\"2015-10-09\",\"2015-10-08\",\"2015-10-07\",\"2015-10-06\",\"2015-10-05\",\"2015-10-02\",\"2015-10-01\",\"2015-09-30\",\"2015-09-29\",\"2015-09-28\",\"2015-09-25\",\"2015-09-24\",\"2015-09-23\",\"2015-09-22\",\"2015-09-21\",\"2015-09-18\",\"2015-09-17\",\"2015-09-16\",\"2015-09-15\",\"2015-09-14\",\"2015-09-11\",\"2015-09-10\",\"2015-09-09\",\"2015-09-08\",\"2015-09-04\",\"2015-09-03\",\"2015-09-02\",\"2015-09-01\",\"2015-08-31\",\"2015-08-28\",\"2015-08-27\",\"2015-08-26\",\"2015-08-25\",\"2015-08-24\",\"2015-08-21\",\"2015-08-20\",\"2015-08-19\",\"2015-08-18\",\"2015-08-17\",\"2015-08-14\",\"2015-08-13\",\"2015-08-12\",\"2015-08-11\",\"2015-08-10\",\"2015-08-07\",\"2015-08-06\",\"2015-08-05\",\"2015-08-04\",\"2015-08-03\",\"2015-07-31\",\"2015-07-30\",\"2015-07-29\",\"2015-07-28\",\"2015-07-27\",\"2015-07-24\",\"2015-07-23\",\"2015-07-22\",\"2015-07-21\",\"2015-07-20\",\"2015-07-17\",\"2015-07-16\",\"2015-07-15\",\"2015-07-14\",\"2015-07-13\",\"2015-07-10\",\"2015-07-09\",\"2015-07-08\",\"2015-07-07\",\"2015-07-06\",\"2015-07-02\",\"2015-07-01\",\"2015-06-30\",\"2015-06-29\",\"2015-06-26\",\"2015-06-25\",\"2015-06-24\",\"2015-06-23\",\"2015-06-22\",\"2015-06-19\",\"2015-06-18\",\"2015-06-17\",\"2015-06-16\",\"2015-06-15\",\"2015-06-12\",\"2015-06-11\",\"2015-06-10\",\"2015-06-09\",\"2015-06-08\",\"2015-06-05\",\"2015-06-04\",\"2015-06-03\",\"2015-06-02\",\"2015-06-01\",\"2015-05-29\",\"2015-05-28\",\"2015-05-27\",\"2015-05-26\",\"2015-05-22\",\"2015-05-21\",\"2015-05-20\",\"2015-05-19\",\"2015-05-18\",\"2015-05-15\",\"2015-05-14\",\"2015-05-13\",\"2015-05-12\",\"2015-05-11\",\"2015-05-08\",\"2015-05-07\",\"2015-05-06\",\"2015-05-05\",\"2015-05-04\",\"2015-05-01\",\"2015-04-30\",\"2015-04-29\",\"2015-04-28\",\"2015-04-27\",\"2015-04-24\",\"2015-04-23\",\"2015-04-22\",\"2015-04-21\",\"2015-04-20\",\"2015-04-17\",\"2015-04-16\",\"2015-04-15\",\"2015-04-14\",\"2015-04-13\",\"2015-04-10\",\"2015-04-09\",\"2015-04-08\",\"2015-04-07\",\"2015-04-06\",\"2015-04-02\",\"2015-04-01\",\"2015-03-31\",\"2015-03-30\",\"2015-03-27\",\"2015-03-26\",\"2015-03-25\",\"2015-03-24\",\"2015-03-23\",\"2015-03-20\",\"2015-03-19\",\"2015-03-18\",\"2015-03-17\",\"2015-03-16\",\"2015-03-13\",\"2015-03-12\",\"2015-03-11\",\"2015-03-10\",\"2015-03-09\",\"2015-03-06\",\"2015-03-05\",\"2015-03-04\",\"2015-03-03\",\"2015-03-02\",\"2015-02-27\",\"2015-02-26\",\"2015-02-25\",\"2015-02-24\",\"2015-02-23\",\"2015-02-20\",\"2015-02-19\",\"2015-02-18\",\"2015-02-17\",\"2015-02-13\",\"2015-02-12\",\"2015-02-11\",\"2015-02-10\",\"2015-02-09\",\"2015-02-06\",\"2015-02-05\",\"2015-02-04\",\"2015-02-03\",\"2015-02-02\",\"2015-01-30\",\"2015-01-29\",\"2015-01-28\",\"2015-01-27\",\"2015-01-26\",\"2015-01-23\",\"2015-01-22\",\"2015-01-21\",\"2015-01-20\",\"2015-01-16\",\"2015-01-15\",\"2015-01-14\",\"2015-01-13\",\"2015-01-12\",\"2015-01-09\",\"2015-01-08\",\"2015-01-07\",\"2015-01-06\",\"2015-01-05\",\"2015-01-02\"],\"y\":[15.036,15.235,15.437,15.304,15.43,15.493,15.259,15.162,14.976,15.456,15.86,15.562,15.009,14.948,15.369,15.276,15.36,15.674,15.904,15.456,15.739,15.869,15.53,15.573,15.537,15.563,15.563,15.722,15.759,15.896,15.521,15.53,15.325,15.475,15.815,15.904,15.749,15.992,15.422,15.155,15.306,15.201,14.951,15.227,15.396,14.612,14.709,14.719,14.399,14.165,14.436,14.381,14.361,14.426,13.935,13.827,13.827,13.88,14.031,14.031,13.981,13.981,13.703,13.854,13.88,13.678,13.783,14.157,13.854,14.005,13.871,13.988,13.862,14.133,14.549,14.531,14.218,14.292,14.292,14.165,14.399,13.945,14.199,14.125,13.836,14.51,14.529,14.6,14.264,13.553,13.578,14.299,14.85,15.508,15.709,15.781,15.716,15.651,15.558,15.8,16.022,15.762,15.818,15.872,15.808,15.781,15.881,16.101,16.126,15.881,15.694,15.898,16.145,16.385,16.056,16.092,16.073,15.941,15.702,15.213,15.116,14.832,14.636,14.434,14.822,15.044,15.124,15.291,15.116,15.0,15.46,15.426,15.533,15.694,15.517,15.25,15.433,15.426,15.584,15.517,15.533,15.533,15.623,15.373,15.167,15.264,14.901,15.036,14.805,14.657,14.61,14.761,14.822,14.61,14.832,14.813,14.822,14.85,14.619,14.476,14.628,14.582,14.547,14.601,14.564,14.38,14.425,14.476,14.556,14.266,14.106,14.15,13.856,13.777,13.848,13.891,13.938,13.725,13.786,13.777,13.982,13.848,14.007,13.99,13.92,13.91,13.821,13.69,13.734,13.76,13.645,13.626,13.742,13.555,13.655,13.645,13.821,13.92,14.024,13.821,14.15,14.249,14.282,14.249,14.219,14.195,13.982,14.316,14.36,14.166,14.024,14.158,14.134,13.956,14.158,14.555,14.46,14.3,14.46,14.308,14.387,14.679,14.662,14.714,14.441,14.493,14.434,14.555,14.096,13.939,14.024,13.647,13.372,13.618,13.418,13.796,13.991,13.884,14.2,13.601,13.469,13.574,13.418,14.158,14.52,14.722,14.989,15.26,14.954,14.879,15.344,15.801],\"type\":\"scatter\"},{\"line\":{\"color\":\"rgba(55, 128, 191, 1.0)\",\"dash\":\"solid\",\"shape\":\"linear\",\"width\":1.3},\"mode\":\"lines\",\"name\":\"SMA(14)\",\"text\":\"\",\"x\":[\"2015-12-31\",\"2015-12-30\",\"2015-12-29\",\"2015-12-28\",\"2015-12-24\",\"2015-12-23\",\"2015-12-22\",\"2015-12-21\",\"2015-12-18\",\"2015-12-17\",\"2015-12-16\",\"2015-12-15\",\"2015-12-14\",\"2015-12-11\",\"2015-12-10\",\"2015-12-09\",\"2015-12-08\",\"2015-12-07\",\"2015-12-04\",\"2015-12-03\",\"2015-12-02\",\"2015-12-01\",\"2015-11-30\",\"2015-11-27\",\"2015-11-25\",\"2015-11-24\",\"2015-11-23\",\"2015-11-20\",\"2015-11-19\",\"2015-11-18\",\"2015-11-17\",\"2015-11-16\",\"2015-11-13\",\"2015-11-12\",\"2015-11-11\",\"2015-11-10\",\"2015-11-09\",\"2015-11-06\",\"2015-11-05\",\"2015-11-04\",\"2015-11-03\",\"2015-11-02\",\"2015-10-30\",\"2015-10-29\",\"2015-10-28\",\"2015-10-27\",\"2015-10-26\",\"2015-10-23\",\"2015-10-22\",\"2015-10-21\",\"2015-10-20\",\"2015-10-19\",\"2015-10-16\",\"2015-10-15\",\"2015-10-14\",\"2015-10-13\",\"2015-10-12\",\"2015-10-09\",\"2015-10-08\",\"2015-10-07\",\"2015-10-06\",\"2015-10-05\",\"2015-10-02\",\"2015-10-01\",\"2015-09-30\",\"2015-09-29\",\"2015-09-28\",\"2015-09-25\",\"2015-09-24\",\"2015-09-23\",\"2015-09-22\",\"2015-09-21\",\"2015-09-18\",\"2015-09-17\",\"2015-09-16\",\"2015-09-15\",\"2015-09-14\",\"2015-09-11\",\"2015-09-10\",\"2015-09-09\",\"2015-09-08\",\"2015-09-04\",\"2015-09-03\",\"2015-09-02\",\"2015-09-01\",\"2015-08-31\",\"2015-08-28\",\"2015-08-27\",\"2015-08-26\",\"2015-08-25\",\"2015-08-24\",\"2015-08-21\",\"2015-08-20\",\"2015-08-19\",\"2015-08-18\",\"2015-08-17\",\"2015-08-14\",\"2015-08-13\",\"2015-08-12\",\"2015-08-11\",\"2015-08-10\",\"2015-08-07\",\"2015-08-06\",\"2015-08-05\",\"2015-08-04\",\"2015-08-03\",\"2015-07-31\",\"2015-07-30\",\"2015-07-29\",\"2015-07-28\",\"2015-07-27\",\"2015-07-24\",\"2015-07-23\",\"2015-07-22\",\"2015-07-21\",\"2015-07-20\",\"2015-07-17\",\"2015-07-16\",\"2015-07-15\",\"2015-07-14\",\"2015-07-13\",\"2015-07-10\",\"2015-07-09\",\"2015-07-08\",\"2015-07-07\",\"2015-07-06\",\"2015-07-02\",\"2015-07-01\",\"2015-06-30\",\"2015-06-29\",\"2015-06-26\",\"2015-06-25\",\"2015-06-24\",\"2015-06-23\",\"2015-06-22\",\"2015-06-19\",\"2015-06-18\",\"2015-06-17\",\"2015-06-16\",\"2015-06-15\",\"2015-06-12\",\"2015-06-11\",\"2015-06-10\",\"2015-06-09\",\"2015-06-08\",\"2015-06-05\",\"2015-06-04\",\"2015-06-03\",\"2015-06-02\",\"2015-06-01\",\"2015-05-29\",\"2015-05-28\",\"2015-05-27\",\"2015-05-26\",\"2015-05-22\",\"2015-05-21\",\"2015-05-20\",\"2015-05-19\",\"2015-05-18\",\"2015-05-15\",\"2015-05-14\",\"2015-05-13\",\"2015-05-12\",\"2015-05-11\",\"2015-05-08\",\"2015-05-07\",\"2015-05-06\",\"2015-05-05\",\"2015-05-04\",\"2015-05-01\",\"2015-04-30\",\"2015-04-29\",\"2015-04-28\",\"2015-04-27\",\"2015-04-24\",\"2015-04-23\",\"2015-04-22\",\"2015-04-21\",\"2015-04-20\",\"2015-04-17\",\"2015-04-16\",\"2015-04-15\",\"2015-04-14\",\"2015-04-13\",\"2015-04-10\",\"2015-04-09\",\"2015-04-08\",\"2015-04-07\",\"2015-04-06\",\"2015-04-02\",\"2015-04-01\",\"2015-03-31\",\"2015-03-30\",\"2015-03-27\",\"2015-03-26\",\"2015-03-25\",\"2015-03-24\",\"2015-03-23\",\"2015-03-20\",\"2015-03-19\",\"2015-03-18\",\"2015-03-17\",\"2015-03-16\",\"2015-03-13\",\"2015-03-12\",\"2015-03-11\",\"2015-03-10\",\"2015-03-09\",\"2015-03-06\",\"2015-03-05\",\"2015-03-04\",\"2015-03-03\",\"2015-03-02\",\"2015-02-27\",\"2015-02-26\",\"2015-02-25\",\"2015-02-24\",\"2015-02-23\",\"2015-02-20\",\"2015-02-19\",\"2015-02-18\",\"2015-02-17\",\"2015-02-13\",\"2015-02-12\",\"2015-02-11\",\"2015-02-10\",\"2015-02-09\",\"2015-02-06\",\"2015-02-05\",\"2015-02-04\",\"2015-02-03\",\"2015-02-02\",\"2015-01-30\",\"2015-01-29\",\"2015-01-28\",\"2015-01-27\",\"2015-01-26\",\"2015-01-23\",\"2015-01-22\",\"2015-01-21\",\"2015-01-20\",\"2015-01-16\",\"2015-01-15\",\"2015-01-14\",\"2015-01-13\",\"2015-01-12\",\"2015-01-09\",\"2015-01-08\",\"2015-01-07\",\"2015-01-06\",\"2015-01-05\",\"2015-01-02\"],\"y\":[\"\",\"\",\"\",\"\",\"\",\"\",\"\",\"\",\"\",\"\",\"\",\"\",\"\",15.297642857142858,15.321428571428571,15.324357142857144,15.318857142857143,15.345285714285714,15.379142857142856,15.376499999999998,15.410785714285714,15.461285714285713,15.500857142857143,15.509214285714284,15.486142857142857,15.486214285714285,15.525785714285716,15.581071428571429,15.608928571428573,15.653214285714284,15.664714285714286,15.654428571428571,15.613071428571429,15.614428571428572,15.619857142857143,15.622357142857142,15.638000000000002,15.667928571428572,15.659714285714285,15.630571428571429,15.612214285714286,15.575000000000001,15.517285714285714,15.4695,15.460571428571427,15.395,15.351,15.297,15.195857142857145,15.071642857142859,14.977857142857143,14.862785714285716,14.787,14.73492857142857,14.636999999999999,14.538857142857141,14.45857142857143,14.362357142857144,14.264857142857144,14.223357142857141,14.171357142857143,14.118642857142857,14.068928571428572,14.046714285714286,14.007,13.956785714285713,13.9155,13.896285714285714,13.890500000000001,13.903214285714284,13.906357142857143,13.914071428571429,13.902,13.909285714285716,13.949857142857141,13.989142857142856,14.02592857142857,14.057214285714286,14.08664285714286,14.121428571428572,14.165428571428572,14.150285714285713,14.174928571428572,14.1835,14.181,14.218285714285713,14.265928571428573,14.299285714285714,14.27892857142857,14.209071428571429,14.16335714285714,14.163857142857141,14.203714285714286,14.299642857142857,14.393214285714285,14.524357142857143,14.632714285714284,14.741714285714286,14.864714285714285,14.956857142857144,15.063500000000001,15.1465,15.257500000000002,15.423142857142858,15.58242857142857,15.688285714285714,15.761928571428571,15.804285714285713,15.834071428571429,15.841214285714285,15.839642857142858,15.857285714285714,15.899214285714285,15.941,15.943428571428571,15.967,15.985214285714287,15.990142857142857,15.98257142857143,15.942000000000002,15.887357142857143,15.796714285714286,15.690285714285716,15.586928571428572,15.52464285714286,15.463642857142856,15.390714285714285,15.312571428571427,15.245428571428572,15.167428571428571,15.123642857142858,15.086857142857143,15.074785714285715,15.109142857142857,15.137785714285714,15.167642857142857,15.224571428571426,15.295428571428571,15.349857142857145,15.383642857142858,15.412857142857144,15.430142857142858,15.466357142857143,15.492999999999999,15.472071428571427,15.4605,15.415357142857143,15.36835714285714,15.317499999999999,15.275142857142857,15.216357142857143,15.16885714285714,15.11442857142857,15.049642857142857,14.999571428571429,14.948142857142857,14.89092857142857,14.85357142857143,14.814428571428573,14.758142857142857,14.738642857142858,14.706214285714285,14.687785714285715,14.683785714285715,14.6805,14.653285714285715,14.624928571428573,14.615357142857144,14.595642857142858,14.55657142857143,14.505428571428572,14.455428571428572,14.40092857142857,14.350999999999999,14.295285714285715,14.245928571428573,14.202428571428571,14.139857142857142,14.084285714285715,14.041214285714286,14.009571428571428,13.964714285714285,13.9255,13.905785714285713,13.8925,13.875357142857142,13.872857142857143,13.866642857142859,13.858500000000001,13.849142857142857,13.828214285714283,13.821142857142856,13.818,13.802142857142856,13.778785714285714,13.764285714285714,13.751000000000001,13.745999999999999,13.75342857142857,13.747071428571427,13.770571428571428,13.8105,13.849642857142857,13.884571428571428,13.925571428571429,13.966214285714287,13.983357142857143,14.037714285714287,14.088071428571428,14.125285714285713,14.139785714285713,14.156785714285716,14.164642857142857,14.174285714285714,14.174857142857144,14.196714285714288,14.209428571428571,14.213071428571428,14.230285714285715,14.238357142857142,14.267285714285714,14.293214285714285,14.314785714285716,14.353928571428572,14.383714285714287,14.407642857142857,14.42907142857143,14.471857142857143,14.467428571428572,14.423428571428571,14.392285714285716,14.345642857142858,14.267928571428572,14.218642857142857,14.149428571428572,14.086357142857143,14.03842857142857,13.979142857142858,13.96192857142857,13.898214285714285,13.829285714285716,13.759214285714284,13.710785714285715,13.72642857142857,13.761857142857142,13.838642857142858,13.954142857142855,14.071428571428571,14.181142857142857,14.2585,14.355142857142857,14.492071428571426],\"type\":\"scatter\"},{\"line\":{\"color\":\"rgba(55, 128, 191, 0.8999999999999999)\",\"dash\":\"solid\",\"shape\":\"linear\",\"width\":1.3},\"mode\":\"lines\",\"name\":\"UPPER(14)\",\"text\":\"\",\"x\":[\"2015-12-31\",\"2015-12-30\",\"2015-12-29\",\"2015-12-28\",\"2015-12-24\",\"2015-12-23\",\"2015-12-22\",\"2015-12-21\",\"2015-12-18\",\"2015-12-17\",\"2015-12-16\",\"2015-12-15\",\"2015-12-14\",\"2015-12-11\",\"2015-12-10\",\"2015-12-09\",\"2015-12-08\",\"2015-12-07\",\"2015-12-04\",\"2015-12-03\",\"2015-12-02\",\"2015-12-01\",\"2015-11-30\",\"2015-11-27\",\"2015-11-25\",\"2015-11-24\",\"2015-11-23\",\"2015-11-20\",\"2015-11-19\",\"2015-11-18\",\"2015-11-17\",\"2015-11-16\",\"2015-11-13\",\"2015-11-12\",\"2015-11-11\",\"2015-11-10\",\"2015-11-09\",\"2015-11-06\",\"2015-11-05\",\"2015-11-04\",\"2015-11-03\",\"2015-11-02\",\"2015-10-30\",\"2015-10-29\",\"2015-10-28\",\"2015-10-27\",\"2015-10-26\",\"2015-10-23\",\"2015-10-22\",\"2015-10-21\",\"2015-10-20\",\"2015-10-19\",\"2015-10-16\",\"2015-10-15\",\"2015-10-14\",\"2015-10-13\",\"2015-10-12\",\"2015-10-09\",\"2015-10-08\",\"2015-10-07\",\"2015-10-06\",\"2015-10-05\",\"2015-10-02\",\"2015-10-01\",\"2015-09-30\",\"2015-09-29\",\"2015-09-28\",\"2015-09-25\",\"2015-09-24\",\"2015-09-23\",\"2015-09-22\",\"2015-09-21\",\"2015-09-18\",\"2015-09-17\",\"2015-09-16\",\"2015-09-15\",\"2015-09-14\",\"2015-09-11\",\"2015-09-10\",\"2015-09-09\",\"2015-09-08\",\"2015-09-04\",\"2015-09-03\",\"2015-09-02\",\"2015-09-01\",\"2015-08-31\",\"2015-08-28\",\"2015-08-27\",\"2015-08-26\",\"2015-08-25\",\"2015-08-24\",\"2015-08-21\",\"2015-08-20\",\"2015-08-19\",\"2015-08-18\",\"2015-08-17\",\"2015-08-14\",\"2015-08-13\",\"2015-08-12\",\"2015-08-11\",\"2015-08-10\",\"2015-08-07\",\"2015-08-06\",\"2015-08-05\",\"2015-08-04\",\"2015-08-03\",\"2015-07-31\",\"2015-07-30\",\"2015-07-29\",\"2015-07-28\",\"2015-07-27\",\"2015-07-24\",\"2015-07-23\",\"2015-07-22\",\"2015-07-21\",\"2015-07-20\",\"2015-07-17\",\"2015-07-16\",\"2015-07-15\",\"2015-07-14\",\"2015-07-13\",\"2015-07-10\",\"2015-07-09\",\"2015-07-08\",\"2015-07-07\",\"2015-07-06\",\"2015-07-02\",\"2015-07-01\",\"2015-06-30\",\"2015-06-29\",\"2015-06-26\",\"2015-06-25\",\"2015-06-24\",\"2015-06-23\",\"2015-06-22\",\"2015-06-19\",\"2015-06-18\",\"2015-06-17\",\"2015-06-16\",\"2015-06-15\",\"2015-06-12\",\"2015-06-11\",\"2015-06-10\",\"2015-06-09\",\"2015-06-08\",\"2015-06-05\",\"2015-06-04\",\"2015-06-03\",\"2015-06-02\",\"2015-06-01\",\"2015-05-29\",\"2015-05-28\",\"2015-05-27\",\"2015-05-26\",\"2015-05-22\",\"2015-05-21\",\"2015-05-20\",\"2015-05-19\",\"2015-05-18\",\"2015-05-15\",\"2015-05-14\",\"2015-05-13\",\"2015-05-12\",\"2015-05-11\",\"2015-05-08\",\"2015-05-07\",\"2015-05-06\",\"2015-05-05\",\"2015-05-04\",\"2015-05-01\",\"2015-04-30\",\"2015-04-29\",\"2015-04-28\",\"2015-04-27\",\"2015-04-24\",\"2015-04-23\",\"2015-04-22\",\"2015-04-21\",\"2015-04-20\",\"2015-04-17\",\"2015-04-16\",\"2015-04-15\",\"2015-04-14\",\"2015-04-13\",\"2015-04-10\",\"2015-04-09\",\"2015-04-08\",\"2015-04-07\",\"2015-04-06\",\"2015-04-02\",\"2015-04-01\",\"2015-03-31\",\"2015-03-30\",\"2015-03-27\",\"2015-03-26\",\"2015-03-25\",\"2015-03-24\",\"2015-03-23\",\"2015-03-20\",\"2015-03-19\",\"2015-03-18\",\"2015-03-17\",\"2015-03-16\",\"2015-03-13\",\"2015-03-12\",\"2015-03-11\",\"2015-03-10\",\"2015-03-09\",\"2015-03-06\",\"2015-03-05\",\"2015-03-04\",\"2015-03-03\",\"2015-03-02\",\"2015-02-27\",\"2015-02-26\",\"2015-02-25\",\"2015-02-24\",\"2015-02-23\",\"2015-02-20\",\"2015-02-19\",\"2015-02-18\",\"2015-02-17\",\"2015-02-13\",\"2015-02-12\",\"2015-02-11\",\"2015-02-10\",\"2015-02-09\",\"2015-02-06\",\"2015-02-05\",\"2015-02-04\",\"2015-02-03\",\"2015-02-02\",\"2015-01-30\",\"2015-01-29\",\"2015-01-28\",\"2015-01-27\",\"2015-01-26\",\"2015-01-23\",\"2015-01-22\",\"2015-01-21\",\"2015-01-20\",\"2015-01-16\",\"2015-01-15\",\"2015-01-14\",\"2015-01-13\",\"2015-01-12\",\"2015-01-09\",\"2015-01-08\",\"2015-01-07\",\"2015-01-06\",\"2015-01-05\",\"2015-01-02\"],\"y\":[\"\",\"\",\"\",\"\",\"\",\"\",\"\",\"\",\"\",\"\",\"\",\"\",\"\",15.820252643705441,15.82261406712742,15.823843406404528,15.814682705944595,15.875921575854093,15.987811951096266,15.983358112931487,16.042764866118784,16.120050258925698,16.097695405779277,16.10662314123899,16.049152821335518,16.04926595902073,16.017745173885906,15.95253461799792,15.970238550669254,15.989886853029203,15.96754038820819,15.965564173115943,15.935040814871254,15.933694763028782,15.95062488116198,15.961655611096319,15.979144679436297,16.0549427546596,16.063229172349544,16.11499699753753,16.126243425008898,16.128698057122783,16.151023553105247,16.080715560615456,16.072198119283346,16.15371186382427,16.19396801654813,16.200439240645697,16.164205413690727,16.093362555914084,15.972426970901992,15.714421670664862,15.612708460377199,15.55257414605997,15.487750257126041,15.42558452517342,15.38710466869911,15.224684443611563,14.903369768908036,14.83982080808769,14.731610166543303,14.588517214910919,14.557914627096217,14.545066912535274,14.458092349405693,14.384440628059386,14.28233154801002,14.162241671971598,14.15635218565103,14.17298134029343,14.173309869462065,14.183968804265668,14.164381988124855,14.191976552287505,14.393883377108383,14.53147903284255,14.55434301500091,14.593584524417993,14.626328581725899,14.607798936344208,14.630919355794607,14.630517343379896,14.624067552341895,14.623149335791119,14.628629654616784,14.683288231116936,14.709884538951176,14.769611577472553,14.726832039246744,14.776689644946197,14.823434810614932,14.824365039341899,14.958190335625842,15.325589506570862,15.667175806343527,15.966465984827096,16.192668018474215,16.360976117266205,16.4488400438479,16.601035657803425,16.78020968828341,16.878965872679736,16.944945543280856,16.820112072627197,16.499078899621257,16.233521543895286,16.024845304998596,16.0816518189991,16.153700506179625,16.160203244839636,16.161492900718077,16.16116871664155,16.186758988402183,16.321451553571933,16.326532264389567,16.34255128708431,16.354315629788935,16.354544881238148,16.367123687127208,16.499239349209663,16.59900295240124,16.690976139835428,16.754282368002638,16.836126828597635,16.836242140963424,16.77987047532183,16.656492107650443,16.441625413595553,16.292889887559706,16.09962126008858,15.920346298597924,15.758776486525397,15.70380163854122,15.818139052051952,15.87961512804662,15.889844025428047,15.88963716935229,15.786203603258926,15.779690639882196,15.783206932792055,15.789813257130218,15.805217706815673,15.807107994443873,15.71394203904038,15.753663019667046,15.762799647573424,15.83643824751899,15.802159371558563,15.835087748041845,15.902040398590009,15.928097634520002,15.908541007613014,15.834401098376933,15.776764731232886,15.678241945339066,15.558354349933719,15.363178481986496,15.23569481926386,15.169564700722214,15.050592308020589,15.026428682573314,14.948358779857694,14.936719661127288,14.936619717076177,14.938605226007382,14.951980751530632,14.929939506199263,14.930623679316392,14.88609354899197,14.867512149398022,14.860682512486793,14.798611603361438,14.856236726949165,14.911904215050656,14.891508919042266,14.854192918964731,14.80502230587267,14.74608221258366,14.665130419373629,14.617006010116617,14.541531354352937,14.428832591965948,14.24449336863152,14.16208383225548,14.121969957812743,14.051660390600789,14.051322148507777,14.064492228196944,14.068655619995065,14.064662061560128,14.06263951220093,14.074211236036257,14.074024037333288,14.09408579903187,14.060900997400909,14.051890601985326,14.005597117634565,13.982483208055971,14.01828814442288,13.999734127758655,14.101829835058366,14.224379023573286,14.330578232390886,14.40672419978273,14.456754557523805,14.485601011987386,14.486452550320879,14.504581704596024,14.528449912141314,14.48505267182401,14.461023875225619,14.452061521283001,14.450398650831223,14.415770134642017,14.416131780043782,14.51124292310102,14.551952878739732,14.558481298178634,14.600125953034677,14.60980885388626,14.615062325673907,14.70489241134274,14.770800004595909,14.847461807335867,14.840433979969905,14.848239380850615,14.840557638667176,14.784033480740268,14.79988489756971,14.854412215084524,14.872126988408436,14.96947252183469,15.074656230854975,15.09603851638516,15.117780292109215,15.020547901549655,14.912302955742796,14.763632444127955,14.712609273514122,14.604851905201725,14.498035835986556,14.292204791371802,14.235094594811295,14.291547327789914,14.455021950496441,14.6957738881969,14.962796447794377,15.274780227758228,15.40772305794959,15.516644360067364,15.727452500861004,16.033952889501702],\"type\":\"scatter\"},{\"line\":{\"color\":\"rgba(55, 128, 191, 0.7999999999999998)\",\"dash\":\"solid\",\"shape\":\"linear\",\"width\":1.3},\"mode\":\"lines\",\"name\":\"LOWER(14)\",\"text\":\"\",\"x\":[\"2015-12-31\",\"2015-12-30\",\"2015-12-29\",\"2015-12-28\",\"2015-12-24\",\"2015-12-23\",\"2015-12-22\",\"2015-12-21\",\"2015-12-18\",\"2015-12-17\",\"2015-12-16\",\"2015-12-15\",\"2015-12-14\",\"2015-12-11\",\"2015-12-10\",\"2015-12-09\",\"2015-12-08\",\"2015-12-07\",\"2015-12-04\",\"2015-12-03\",\"2015-12-02\",\"2015-12-01\",\"2015-11-30\",\"2015-11-27\",\"2015-11-25\",\"2015-11-24\",\"2015-11-23\",\"2015-11-20\",\"2015-11-19\",\"2015-11-18\",\"2015-11-17\",\"2015-11-16\",\"2015-11-13\",\"2015-11-12\",\"2015-11-11\",\"2015-11-10\",\"2015-11-09\",\"2015-11-06\",\"2015-11-05\",\"2015-11-04\",\"2015-11-03\",\"2015-11-02\",\"2015-10-30\",\"2015-10-29\",\"2015-10-28\",\"2015-10-27\",\"2015-10-26\",\"2015-10-23\",\"2015-10-22\",\"2015-10-21\",\"2015-10-20\",\"2015-10-19\",\"2015-10-16\",\"2015-10-15\",\"2015-10-14\",\"2015-10-13\",\"2015-10-12\",\"2015-10-09\",\"2015-10-08\",\"2015-10-07\",\"2015-10-06\",\"2015-10-05\",\"2015-10-02\",\"2015-10-01\",\"2015-09-30\",\"2015-09-29\",\"2015-09-28\",\"2015-09-25\",\"2015-09-24\",\"2015-09-23\",\"2015-09-22\",\"2015-09-21\",\"2015-09-18\",\"2015-09-17\",\"2015-09-16\",\"2015-09-15\",\"2015-09-14\",\"2015-09-11\",\"2015-09-10\",\"2015-09-09\",\"2015-09-08\",\"2015-09-04\",\"2015-09-03\",\"2015-09-02\",\"2015-09-01\",\"2015-08-31\",\"2015-08-28\",\"2015-08-27\",\"2015-08-26\",\"2015-08-25\",\"2015-08-24\",\"2015-08-21\",\"2015-08-20\",\"2015-08-19\",\"2015-08-18\",\"2015-08-17\",\"2015-08-14\",\"2015-08-13\",\"2015-08-12\",\"2015-08-11\",\"2015-08-10\",\"2015-08-07\",\"2015-08-06\",\"2015-08-05\",\"2015-08-04\",\"2015-08-03\",\"2015-07-31\",\"2015-07-30\",\"2015-07-29\",\"2015-07-28\",\"2015-07-27\",\"2015-07-24\",\"2015-07-23\",\"2015-07-22\",\"2015-07-21\",\"2015-07-20\",\"2015-07-17\",\"2015-07-16\",\"2015-07-15\",\"2015-07-14\",\"2015-07-13\",\"2015-07-10\",\"2015-07-09\",\"2015-07-08\",\"2015-07-07\",\"2015-07-06\",\"2015-07-02\",\"2015-07-01\",\"2015-06-30\",\"2015-06-29\",\"2015-06-26\",\"2015-06-25\",\"2015-06-24\",\"2015-06-23\",\"2015-06-22\",\"2015-06-19\",\"2015-06-18\",\"2015-06-17\",\"2015-06-16\",\"2015-06-15\",\"2015-06-12\",\"2015-06-11\",\"2015-06-10\",\"2015-06-09\",\"2015-06-08\",\"2015-06-05\",\"2015-06-04\",\"2015-06-03\",\"2015-06-02\",\"2015-06-01\",\"2015-05-29\",\"2015-05-28\",\"2015-05-27\",\"2015-05-26\",\"2015-05-22\",\"2015-05-21\",\"2015-05-20\",\"2015-05-19\",\"2015-05-18\",\"2015-05-15\",\"2015-05-14\",\"2015-05-13\",\"2015-05-12\",\"2015-05-11\",\"2015-05-08\",\"2015-05-07\",\"2015-05-06\",\"2015-05-05\",\"2015-05-04\",\"2015-05-01\",\"2015-04-30\",\"2015-04-29\",\"2015-04-28\",\"2015-04-27\",\"2015-04-24\",\"2015-04-23\",\"2015-04-22\",\"2015-04-21\",\"2015-04-20\",\"2015-04-17\",\"2015-04-16\",\"2015-04-15\",\"2015-04-14\",\"2015-04-13\",\"2015-04-10\",\"2015-04-09\",\"2015-04-08\",\"2015-04-07\",\"2015-04-06\",\"2015-04-02\",\"2015-04-01\",\"2015-03-31\",\"2015-03-30\",\"2015-03-27\",\"2015-03-26\",\"2015-03-25\",\"2015-03-24\",\"2015-03-23\",\"2015-03-20\",\"2015-03-19\",\"2015-03-18\",\"2015-03-17\",\"2015-03-16\",\"2015-03-13\",\"2015-03-12\",\"2015-03-11\",\"2015-03-10\",\"2015-03-09\",\"2015-03-06\",\"2015-03-05\",\"2015-03-04\",\"2015-03-03\",\"2015-03-02\",\"2015-02-27\",\"2015-02-26\",\"2015-02-25\",\"2015-02-24\",\"2015-02-23\",\"2015-02-20\",\"2015-02-19\",\"2015-02-18\",\"2015-02-17\",\"2015-02-13\",\"2015-02-12\",\"2015-02-11\",\"2015-02-10\",\"2015-02-09\",\"2015-02-06\",\"2015-02-05\",\"2015-02-04\",\"2015-02-03\",\"2015-02-02\",\"2015-01-30\",\"2015-01-29\",\"2015-01-28\",\"2015-01-27\",\"2015-01-26\",\"2015-01-23\",\"2015-01-22\",\"2015-01-21\",\"2015-01-20\",\"2015-01-16\",\"2015-01-15\",\"2015-01-14\",\"2015-01-13\",\"2015-01-12\",\"2015-01-09\",\"2015-01-08\",\"2015-01-07\",\"2015-01-06\",\"2015-01-05\",\"2015-01-02\"],\"y\":[\"\",\"\",\"\",\"\",\"\",\"\",\"\",\"\",\"\",\"\",\"\",\"\",\"\",14.775033070580275,14.820243075729723,14.82487087930976,14.82303157976969,14.814649852717334,14.770473763189447,14.76964188706851,14.778806562452644,14.80252116964573,14.904018879935007,14.911805430189577,14.923132892950198,14.923162612407841,15.033826254685527,15.209608239144938,15.24761859218789,15.316541718399366,15.361888183220382,15.3432929697412,15.291102042271604,15.295162379828362,15.289089404552305,15.283058674617966,15.296855320563706,15.280914388197544,15.256199399079028,15.146145859605324,15.098185146419675,15.021301942877221,14.883547875466181,14.858284439384544,14.848944737859506,14.636288136175727,14.508031983451872,14.393560759354305,14.227508872023565,14.049923158371636,13.983287314812294,14.01114975790657,13.961291539622803,13.917282996797171,13.786249742873956,13.652129760540863,13.53003818844375,13.500029842102725,13.626344516806252,13.606893477626592,13.611104119170983,13.648768499374796,13.579942515760926,13.548361658893297,13.555907650594307,13.529130800512041,13.548668451989979,13.63032975659983,13.624647814348972,13.633447231135138,13.639404416252221,13.64417405287719,13.639618011875143,13.626594876283926,13.5058309086059,13.446806681443162,13.497514127856231,13.520844047010579,13.54695713255982,13.635058206512936,13.699937787062538,13.67005408519153,13.725789590515248,13.743850664208882,13.733370345383214,13.75328319745449,13.82197260390597,13.828959851098876,13.831025103610397,13.64145321219666,13.50327947509935,13.503349246372384,13.44923823580273,13.27369620771485,13.119252765085042,13.08224830088719,13.072760552954351,13.122452454162369,13.28058852758067,13.312678627910861,13.346790311716592,13.414034127320264,13.570054456719149,14.026173641658518,14.665778243235886,15.143049884676143,15.499011837858546,15.526919609572328,15.514442350963233,15.522225326588934,15.51779281356764,15.553402711929879,15.611669583026389,15.560548446428069,15.560324878467577,15.591448712915692,15.616112941639638,15.625740833047567,15.598019170015654,15.384760650790342,15.175711333313044,14.902452431593142,14.626289060568794,14.337730314259511,14.213043573322294,14.147415238963886,14.124936463778127,14.183517443547304,14.197967255297439,14.235235882768563,14.326939415687793,14.41493779918889,14.44576979003021,14.40014666223376,14.395956300524809,14.445441688857667,14.559505687790562,14.804653539598217,14.920023645832094,14.984078781493661,15.03590102858407,15.055068007470043,15.125606291270413,15.272057960959618,15.190479837475808,15.158200352426576,14.994276038195297,14.934554914155719,14.799912251958153,14.648245315695705,14.504616651194285,14.429173278101267,14.394456044480208,14.322520983052828,14.320900911803792,14.337931364351995,14.418678660870645,14.471448037878998,14.459292442134933,14.465693406265126,14.450857031712403,14.464069791570877,14.438851767444142,14.430951711495254,14.422394773992618,14.354590677040798,14.319917636657882,14.300090606397896,14.305192165293745,14.245630707744839,14.150174630370351,14.112245539495705,13.945620415907976,13.790095784949342,13.699062509529163,13.637664223892415,13.599834836984472,13.533632073130624,13.5034410091978,13.465422561311955,13.47761150278992,13.500595979462622,13.606506631368479,13.649487596315947,13.663030042187257,13.699053895113495,13.694392137206508,13.668793486088774,13.648344380004938,13.633623652725586,13.593789059227637,13.568074478249455,13.561975962666711,13.510199915253843,13.49667043117052,13.476680826586103,13.496402882365437,13.509516791944026,13.488568998434259,13.4944087293842,13.43931302208449,13.396620976426712,13.368707481894829,13.362418657360127,13.394388299619052,13.446827559441187,13.480261735393407,13.57084686683255,13.647692945001543,13.765518756747417,13.818547553345807,13.861509907288431,13.87888706345449,13.932801293929412,13.933582505670506,13.882185648327555,13.86690426411741,13.867661558964222,13.860445475536753,13.866905431828023,13.919509102897521,13.88153616008583,13.858771423975522,13.860395335521277,13.92699459145867,13.9670463334351,14.017585218475682,14.159680804974018,14.134972245287434,13.992444927772619,13.912444440162997,13.721813192451025,13.461200912002168,13.341247197900554,13.18107685074793,13.15216638416463,13.164554187114344,13.19465327015776,13.211247869343019,13.191576666226846,13.160535592584875,13.226223780056767,13.186476833760134,13.161309815067227,13.068692335217843,12.981511826088816,12.945489266491334,12.868076915098914,12.954562656336124,13.000355639932636,12.98283321342471,12.95018996764115],\"type\":\"scatter\"}],                        {\"legend\":{\"bgcolor\":\"#F5F6F9\",\"font\":{\"color\":\"#4D5663\"}},\"paper_bgcolor\":\"#F5F6F9\",\"plot_bgcolor\":\"#F5F6F9\",\"template\":{\"data\":{\"barpolar\":[{\"marker\":{\"line\":{\"color\":\"#E5ECF6\",\"width\":0.5},\"pattern\":{\"fillmode\":\"overlay\",\"size\":10,\"solidity\":0.2}},\"type\":\"barpolar\"}],\"bar\":[{\"error_x\":{\"color\":\"#2a3f5f\"},\"error_y\":{\"color\":\"#2a3f5f\"},\"marker\":{\"line\":{\"color\":\"#E5ECF6\",\"width\":0.5},\"pattern\":{\"fillmode\":\"overlay\",\"size\":10,\"solidity\":0.2}},\"type\":\"bar\"}],\"carpet\":[{\"aaxis\":{\"endlinecolor\":\"#2a3f5f\",\"gridcolor\":\"white\",\"linecolor\":\"white\",\"minorgridcolor\":\"white\",\"startlinecolor\":\"#2a3f5f\"},\"baxis\":{\"endlinecolor\":\"#2a3f5f\",\"gridcolor\":\"white\",\"linecolor\":\"white\",\"minorgridcolor\":\"white\",\"startlinecolor\":\"#2a3f5f\"},\"type\":\"carpet\"}],\"choropleth\":[{\"colorbar\":{\"outlinewidth\":0,\"ticks\":\"\"},\"type\":\"choropleth\"}],\"contourcarpet\":[{\"colorbar\":{\"outlinewidth\":0,\"ticks\":\"\"},\"type\":\"contourcarpet\"}],\"contour\":[{\"colorbar\":{\"outlinewidth\":0,\"ticks\":\"\"},\"colorscale\":[[0.0,\"#0d0887\"],[0.1111111111111111,\"#46039f\"],[0.2222222222222222,\"#7201a8\"],[0.3333333333333333,\"#9c179e\"],[0.4444444444444444,\"#bd3786\"],[0.5555555555555556,\"#d8576b\"],[0.6666666666666666,\"#ed7953\"],[0.7777777777777778,\"#fb9f3a\"],[0.8888888888888888,\"#fdca26\"],[1.0,\"#f0f921\"]],\"type\":\"contour\"}],\"heatmapgl\":[{\"colorbar\":{\"outlinewidth\":0,\"ticks\":\"\"},\"colorscale\":[[0.0,\"#0d0887\"],[0.1111111111111111,\"#46039f\"],[0.2222222222222222,\"#7201a8\"],[0.3333333333333333,\"#9c179e\"],[0.4444444444444444,\"#bd3786\"],[0.5555555555555556,\"#d8576b\"],[0.6666666666666666,\"#ed7953\"],[0.7777777777777778,\"#fb9f3a\"],[0.8888888888888888,\"#fdca26\"],[1.0,\"#f0f921\"]],\"type\":\"heatmapgl\"}],\"heatmap\":[{\"colorbar\":{\"outlinewidth\":0,\"ticks\":\"\"},\"colorscale\":[[0.0,\"#0d0887\"],[0.1111111111111111,\"#46039f\"],[0.2222222222222222,\"#7201a8\"],[0.3333333333333333,\"#9c179e\"],[0.4444444444444444,\"#bd3786\"],[0.5555555555555556,\"#d8576b\"],[0.6666666666666666,\"#ed7953\"],[0.7777777777777778,\"#fb9f3a\"],[0.8888888888888888,\"#fdca26\"],[1.0,\"#f0f921\"]],\"type\":\"heatmap\"}],\"histogram2dcontour\":[{\"colorbar\":{\"outlinewidth\":0,\"ticks\":\"\"},\"colorscale\":[[0.0,\"#0d0887\"],[0.1111111111111111,\"#46039f\"],[0.2222222222222222,\"#7201a8\"],[0.3333333333333333,\"#9c179e\"],[0.4444444444444444,\"#bd3786\"],[0.5555555555555556,\"#d8576b\"],[0.6666666666666666,\"#ed7953\"],[0.7777777777777778,\"#fb9f3a\"],[0.8888888888888888,\"#fdca26\"],[1.0,\"#f0f921\"]],\"type\":\"histogram2dcontour\"}],\"histogram2d\":[{\"colorbar\":{\"outlinewidth\":0,\"ticks\":\"\"},\"colorscale\":[[0.0,\"#0d0887\"],[0.1111111111111111,\"#46039f\"],[0.2222222222222222,\"#7201a8\"],[0.3333333333333333,\"#9c179e\"],[0.4444444444444444,\"#bd3786\"],[0.5555555555555556,\"#d8576b\"],[0.6666666666666666,\"#ed7953\"],[0.7777777777777778,\"#fb9f3a\"],[0.8888888888888888,\"#fdca26\"],[1.0,\"#f0f921\"]],\"type\":\"histogram2d\"}],\"histogram\":[{\"marker\":{\"pattern\":{\"fillmode\":\"overlay\",\"size\":10,\"solidity\":0.2}},\"type\":\"histogram\"}],\"mesh3d\":[{\"colorbar\":{\"outlinewidth\":0,\"ticks\":\"\"},\"type\":\"mesh3d\"}],\"parcoords\":[{\"line\":{\"colorbar\":{\"outlinewidth\":0,\"ticks\":\"\"}},\"type\":\"parcoords\"}],\"pie\":[{\"automargin\":true,\"type\":\"pie\"}],\"scatter3d\":[{\"line\":{\"colorbar\":{\"outlinewidth\":0,\"ticks\":\"\"}},\"marker\":{\"colorbar\":{\"outlinewidth\":0,\"ticks\":\"\"}},\"type\":\"scatter3d\"}],\"scattercarpet\":[{\"marker\":{\"colorbar\":{\"outlinewidth\":0,\"ticks\":\"\"}},\"type\":\"scattercarpet\"}],\"scattergeo\":[{\"marker\":{\"colorbar\":{\"outlinewidth\":0,\"ticks\":\"\"}},\"type\":\"scattergeo\"}],\"scattergl\":[{\"marker\":{\"colorbar\":{\"outlinewidth\":0,\"ticks\":\"\"}},\"type\":\"scattergl\"}],\"scattermapbox\":[{\"marker\":{\"colorbar\":{\"outlinewidth\":0,\"ticks\":\"\"}},\"type\":\"scattermapbox\"}],\"scatterpolargl\":[{\"marker\":{\"colorbar\":{\"outlinewidth\":0,\"ticks\":\"\"}},\"type\":\"scatterpolargl\"}],\"scatterpolar\":[{\"marker\":{\"colorbar\":{\"outlinewidth\":0,\"ticks\":\"\"}},\"type\":\"scatterpolar\"}],\"scatter\":[{\"marker\":{\"colorbar\":{\"outlinewidth\":0,\"ticks\":\"\"}},\"type\":\"scatter\"}],\"scatterternary\":[{\"marker\":{\"colorbar\":{\"outlinewidth\":0,\"ticks\":\"\"}},\"type\":\"scatterternary\"}],\"surface\":[{\"colorbar\":{\"outlinewidth\":0,\"ticks\":\"\"},\"colorscale\":[[0.0,\"#0d0887\"],[0.1111111111111111,\"#46039f\"],[0.2222222222222222,\"#7201a8\"],[0.3333333333333333,\"#9c179e\"],[0.4444444444444444,\"#bd3786\"],[0.5555555555555556,\"#d8576b\"],[0.6666666666666666,\"#ed7953\"],[0.7777777777777778,\"#fb9f3a\"],[0.8888888888888888,\"#fdca26\"],[1.0,\"#f0f921\"]],\"type\":\"surface\"}],\"table\":[{\"cells\":{\"fill\":{\"color\":\"#EBF0F8\"},\"line\":{\"color\":\"white\"}},\"header\":{\"fill\":{\"color\":\"#C8D4E3\"},\"line\":{\"color\":\"white\"}},\"type\":\"table\"}]},\"layout\":{\"annotationdefaults\":{\"arrowcolor\":\"#2a3f5f\",\"arrowhead\":0,\"arrowwidth\":1},\"autotypenumbers\":\"strict\",\"coloraxis\":{\"colorbar\":{\"outlinewidth\":0,\"ticks\":\"\"}},\"colorscale\":{\"diverging\":[[0,\"#8e0152\"],[0.1,\"#c51b7d\"],[0.2,\"#de77ae\"],[0.3,\"#f1b6da\"],[0.4,\"#fde0ef\"],[0.5,\"#f7f7f7\"],[0.6,\"#e6f5d0\"],[0.7,\"#b8e186\"],[0.8,\"#7fbc41\"],[0.9,\"#4d9221\"],[1,\"#276419\"]],\"sequential\":[[0.0,\"#0d0887\"],[0.1111111111111111,\"#46039f\"],[0.2222222222222222,\"#7201a8\"],[0.3333333333333333,\"#9c179e\"],[0.4444444444444444,\"#bd3786\"],[0.5555555555555556,\"#d8576b\"],[0.6666666666666666,\"#ed7953\"],[0.7777777777777778,\"#fb9f3a\"],[0.8888888888888888,\"#fdca26\"],[1.0,\"#f0f921\"]],\"sequentialminus\":[[0.0,\"#0d0887\"],[0.1111111111111111,\"#46039f\"],[0.2222222222222222,\"#7201a8\"],[0.3333333333333333,\"#9c179e\"],[0.4444444444444444,\"#bd3786\"],[0.5555555555555556,\"#d8576b\"],[0.6666666666666666,\"#ed7953\"],[0.7777777777777778,\"#fb9f3a\"],[0.8888888888888888,\"#fdca26\"],[1.0,\"#f0f921\"]]},\"colorway\":[\"#636efa\",\"#EF553B\",\"#00cc96\",\"#ab63fa\",\"#FFA15A\",\"#19d3f3\",\"#FF6692\",\"#B6E880\",\"#FF97FF\",\"#FECB52\"],\"font\":{\"color\":\"#2a3f5f\"},\"geo\":{\"bgcolor\":\"white\",\"lakecolor\":\"white\",\"landcolor\":\"#E5ECF6\",\"showlakes\":true,\"showland\":true,\"subunitcolor\":\"white\"},\"hoverlabel\":{\"align\":\"left\"},\"hovermode\":\"closest\",\"mapbox\":{\"style\":\"light\"},\"paper_bgcolor\":\"white\",\"plot_bgcolor\":\"#E5ECF6\",\"polar\":{\"angularaxis\":{\"gridcolor\":\"white\",\"linecolor\":\"white\",\"ticks\":\"\"},\"bgcolor\":\"#E5ECF6\",\"radialaxis\":{\"gridcolor\":\"white\",\"linecolor\":\"white\",\"ticks\":\"\"}},\"scene\":{\"xaxis\":{\"backgroundcolor\":\"#E5ECF6\",\"gridcolor\":\"white\",\"gridwidth\":2,\"linecolor\":\"white\",\"showbackground\":true,\"ticks\":\"\",\"zerolinecolor\":\"white\"},\"yaxis\":{\"backgroundcolor\":\"#E5ECF6\",\"gridcolor\":\"white\",\"gridwidth\":2,\"linecolor\":\"white\",\"showbackground\":true,\"ticks\":\"\",\"zerolinecolor\":\"white\"},\"zaxis\":{\"backgroundcolor\":\"#E5ECF6\",\"gridcolor\":\"white\",\"gridwidth\":2,\"linecolor\":\"white\",\"showbackground\":true,\"ticks\":\"\",\"zerolinecolor\":\"white\"}},\"shapedefaults\":{\"line\":{\"color\":\"#2a3f5f\"}},\"ternary\":{\"aaxis\":{\"gridcolor\":\"white\",\"linecolor\":\"white\",\"ticks\":\"\"},\"baxis\":{\"gridcolor\":\"white\",\"linecolor\":\"white\",\"ticks\":\"\"},\"bgcolor\":\"#E5ECF6\",\"caxis\":{\"gridcolor\":\"white\",\"linecolor\":\"white\",\"ticks\":\"\"}},\"title\":{\"x\":0.05},\"xaxis\":{\"automargin\":true,\"gridcolor\":\"white\",\"linecolor\":\"white\",\"ticks\":\"\",\"title\":{\"standoff\":15},\"zerolinecolor\":\"white\",\"zerolinewidth\":2},\"yaxis\":{\"automargin\":true,\"gridcolor\":\"white\",\"linecolor\":\"white\",\"ticks\":\"\",\"title\":{\"standoff\":15},\"zerolinecolor\":\"white\",\"zerolinewidth\":2}}},\"title\":{\"font\":{\"color\":\"#4D5663\"}},\"xaxis\":{\"gridcolor\":\"#E1E5ED\",\"showgrid\":true,\"tickfont\":{\"color\":\"#4D5663\"},\"title\":{\"font\":{\"color\":\"#4D5663\"},\"text\":\"\"},\"zerolinecolor\":\"#E1E5ED\"},\"yaxis\":{\"gridcolor\":\"#E1E5ED\",\"showgrid\":true,\"tickfont\":{\"color\":\"#4D5663\"},\"title\":{\"font\":{\"color\":\"#4D5663\"},\"text\":\"\"},\"zerolinecolor\":\"#E1E5ED\"}},                        {\"showLink\": true, \"linkText\": \"Export to plot.ly\", \"plotlyServerURL\": \"https://plot.ly\", \"responsive\": true}                    ).then(function(){\n",
       "                            \n",
       "var gd = document.getElementById('9c1f4eeb-7d44-4fab-9073-e904f93856ad');\n",
       "var x = new MutationObserver(function (mutations, observer) {{\n",
       "        var display = window.getComputedStyle(gd).display;\n",
       "        if (!display || display === 'none') {{\n",
       "            console.log([gd, 'removed!']);\n",
       "            Plotly.purge(gd);\n",
       "            observer.disconnect();\n",
       "        }}\n",
       "}});\n",
       "\n",
       "// Listen for the removal of the full notebook cells\n",
       "var notebookContainer = gd.closest('#notebook-container');\n",
       "if (notebookContainer) {{\n",
       "    x.observe(notebookContainer, {childList: true});\n",
       "}}\n",
       "\n",
       "// Listen for the clearing of the current output cell\n",
       "var outputEl = gd.closest('.output');\n",
       "if (outputEl) {{\n",
       "    x.observe(outputEl, {childList: true});\n",
       "}}\n",
       "\n",
       "                        })                };                });            </script>        </div>"
      ]
     },
     "metadata": {},
     "output_type": "display_data"
    }
   ],
   "source": [
    "BAC['Close'].loc['2015'].ta_plot(study='boll')"
   ]
  }
 ],
 "metadata": {
  "interpreter": {
   "hash": "e39838dd67cfe69ab9aa94c8a0a09a8ece4d0d38065b7f1b7f8712a6c81e0308"
  },
  "kernelspec": {
   "display_name": "Python 3.9.7 ('sampleprojects_env')",
   "language": "python",
   "name": "python3"
  },
  "language_info": {
   "codemirror_mode": {
    "name": "ipython",
    "version": 3
   },
   "file_extension": ".py",
   "mimetype": "text/x-python",
   "name": "python",
   "nbconvert_exporter": "python",
   "pygments_lexer": "ipython3",
   "version": "3.9.7"
  },
  "orig_nbformat": 4
 },
 "nbformat": 4,
 "nbformat_minor": 2
}
